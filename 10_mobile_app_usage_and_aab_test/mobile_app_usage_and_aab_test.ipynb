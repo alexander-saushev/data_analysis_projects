{
 "cells": [
  {
   "cell_type": "markdown",
   "metadata": {},
   "source": [
    "# Исследование поведения пользователей мобильного приложения для стартапа по доставке продуктов\n",
    "\n",
    "Мы помогаем с аналитикой стартапу, который продает продукты питания. Нужно разобраться, как ведут себя пользователи мобильного приложения.\n",
    "\n",
    "Сначала изучим воронку продаж и узнаем, как пользователи доходят до покупки. Сколько пользователей делают заказы, а сколько — «застревает» на предыдущих шагах? На каких именно?\n",
    "\n",
    "Затем исследуем результаты A/A/B-эксперимента. Дизайнеры захотели поменять шрифты во всем приложении, а менеджеры испугались, что пользователям будет непривычно. Договорились принять решение по результатам A/A/B-теста. Пользователей разбили на 3 группы: 2 контрольные со старыми шрифтами и одну экспериментальную — с новыми. Выясним, какой шрифт лучше."
   ]
  },
  {
   "cell_type": "markdown",
   "metadata": {},
   "source": [
    "## Содержание<a name=\"Содержание\"></a>\n",
    "\n",
    "1. [Знакомство с данными](#1.-Знакомство-с-данными)\n",
    "2. [Подготовка данных](#2.-Подготовка-данных)\n",
    "3. [Изучение и проверка данных](#3.-Изучение-и-проверка-данных)\n",
    "\t1. [Количество событий](#Количество-событий)\n",
    "\t2. [Количество пользователей](#Количество-пользователей)\n",
    "\t3. [Среднее число событий на одного пользователя](#Среднее-число-событий-на-одного-пользователя)\n",
    "\t4. [Выбор временного периода](#Выбор-временного-периода)\n",
    "4. [Анализ воронки событий](#4.-Анализ-воронки-событий)\n",
    "\t1. [Частота событий в логе](#Частота-событий-в-логе)\n",
    "\t2. [Сколько пользователей совершили каждое действие](#Сколько-пользователей-совершили-каждое-действие)\n",
    "\t3. [Воронка событий](#Воронка-событий)\n",
    "5. [Анализ результатов A/A/B-теста](#5.-Анализ-результатов-A/A/B-теста)\n",
    "\t1. [Размеры групп](#Размеры-групп)\n",
    "\t2. [Результаты A/A-теста](#Результаты-A/A-теста)\n",
    "\t3. [Результаты A/B-теста](#Результаты-A/B-теста)\n",
    "6. [Общий вывод](#Общий-вывод)\n",
    "\t1. [Воронка событий](#Воронка-событий)\n",
    "\t2. [A/A-тест](#A/A-тест)\n",
    "\t3. [A/B-тест](#A/B-тест)"
   ]
  },
  {
   "cell_type": "markdown",
   "metadata": {},
   "source": [
    "## 0. Импорт библиотек"
   ]
  },
  {
   "cell_type": "code",
   "execution_count": 1,
   "metadata": {},
   "outputs": [],
   "source": [
    "import pandas as pd\n",
    "\n",
    "import matplotlib.pyplot as plt\n",
    "import seaborn as sns\n",
    "from plotly import graph_objects as go\n",
    "\n",
    "from scipy import stats as st\n",
    "from statsmodels.stats.proportion import proportions_ztest"
   ]
  },
  {
   "cell_type": "code",
   "execution_count": 2,
   "metadata": {},
   "outputs": [],
   "source": [
    "sns.set_style('darkgrid')"
   ]
  },
  {
   "cell_type": "markdown",
   "metadata": {},
   "source": [
    "## 1. Знакомство с данными<a name=\"1.-Знакомство-с-данными\"></a>"
   ]
  },
  {
   "cell_type": "markdown",
   "metadata": {},
   "source": [
    "Сохраним данные в переменную `logs` и посмотрим на первые строчки."
   ]
  },
  {
   "cell_type": "code",
   "execution_count": 3,
   "metadata": {
    "scrolled": true
   },
   "outputs": [
    {
     "data": {
      "text/html": [
       "<div>\n",
       "<style scoped>\n",
       "    .dataframe tbody tr th:only-of-type {\n",
       "        vertical-align: middle;\n",
       "    }\n",
       "\n",
       "    .dataframe tbody tr th {\n",
       "        vertical-align: top;\n",
       "    }\n",
       "\n",
       "    .dataframe thead th {\n",
       "        text-align: right;\n",
       "    }\n",
       "</style>\n",
       "<table border=\"1\" class=\"dataframe\">\n",
       "  <thead>\n",
       "    <tr style=\"text-align: right;\">\n",
       "      <th></th>\n",
       "      <th>EventName</th>\n",
       "      <th>DeviceIDHash</th>\n",
       "      <th>EventTimestamp</th>\n",
       "      <th>ExpId</th>\n",
       "    </tr>\n",
       "  </thead>\n",
       "  <tbody>\n",
       "    <tr>\n",
       "      <th>0</th>\n",
       "      <td>MainScreenAppear</td>\n",
       "      <td>4575588528974610257</td>\n",
       "      <td>1564029816</td>\n",
       "      <td>246</td>\n",
       "    </tr>\n",
       "    <tr>\n",
       "      <th>1</th>\n",
       "      <td>MainScreenAppear</td>\n",
       "      <td>7416695313311560658</td>\n",
       "      <td>1564053102</td>\n",
       "      <td>246</td>\n",
       "    </tr>\n",
       "    <tr>\n",
       "      <th>2</th>\n",
       "      <td>PaymentScreenSuccessful</td>\n",
       "      <td>3518123091307005509</td>\n",
       "      <td>1564054127</td>\n",
       "      <td>248</td>\n",
       "    </tr>\n",
       "    <tr>\n",
       "      <th>3</th>\n",
       "      <td>CartScreenAppear</td>\n",
       "      <td>3518123091307005509</td>\n",
       "      <td>1564054127</td>\n",
       "      <td>248</td>\n",
       "    </tr>\n",
       "    <tr>\n",
       "      <th>4</th>\n",
       "      <td>PaymentScreenSuccessful</td>\n",
       "      <td>6217807653094995999</td>\n",
       "      <td>1564055322</td>\n",
       "      <td>248</td>\n",
       "    </tr>\n",
       "    <tr>\n",
       "      <th>5</th>\n",
       "      <td>CartScreenAppear</td>\n",
       "      <td>6217807653094995999</td>\n",
       "      <td>1564055323</td>\n",
       "      <td>248</td>\n",
       "    </tr>\n",
       "    <tr>\n",
       "      <th>6</th>\n",
       "      <td>OffersScreenAppear</td>\n",
       "      <td>8351860793733343758</td>\n",
       "      <td>1564066242</td>\n",
       "      <td>246</td>\n",
       "    </tr>\n",
       "    <tr>\n",
       "      <th>7</th>\n",
       "      <td>MainScreenAppear</td>\n",
       "      <td>5682100281902512875</td>\n",
       "      <td>1564085677</td>\n",
       "      <td>246</td>\n",
       "    </tr>\n",
       "    <tr>\n",
       "      <th>8</th>\n",
       "      <td>MainScreenAppear</td>\n",
       "      <td>1850981295691852772</td>\n",
       "      <td>1564086702</td>\n",
       "      <td>247</td>\n",
       "    </tr>\n",
       "    <tr>\n",
       "      <th>9</th>\n",
       "      <td>MainScreenAppear</td>\n",
       "      <td>5407636962369102641</td>\n",
       "      <td>1564112112</td>\n",
       "      <td>246</td>\n",
       "    </tr>\n",
       "  </tbody>\n",
       "</table>\n",
       "</div>"
      ],
      "text/plain": [
       "                 EventName         DeviceIDHash  EventTimestamp  ExpId\n",
       "0         MainScreenAppear  4575588528974610257      1564029816    246\n",
       "1         MainScreenAppear  7416695313311560658      1564053102    246\n",
       "2  PaymentScreenSuccessful  3518123091307005509      1564054127    248\n",
       "3         CartScreenAppear  3518123091307005509      1564054127    248\n",
       "4  PaymentScreenSuccessful  6217807653094995999      1564055322    248\n",
       "5         CartScreenAppear  6217807653094995999      1564055323    248\n",
       "6       OffersScreenAppear  8351860793733343758      1564066242    246\n",
       "7         MainScreenAppear  5682100281902512875      1564085677    246\n",
       "8         MainScreenAppear  1850981295691852772      1564086702    247\n",
       "9         MainScreenAppear  5407636962369102641      1564112112    246"
      ]
     },
     "execution_count": 3,
     "metadata": {},
     "output_type": "execute_result"
    }
   ],
   "source": [
    "logs = pd.read_csv('logs_exp.csv', sep='\\t')\n",
    "logs.head(10)"
   ]
  },
  {
   "cell_type": "markdown",
   "metadata": {},
   "source": [
    "Каждая запись в логе — это действие пользователя, или событие.\n",
    "- `EventName` — название события;\n",
    "- `DeviceIDHash` — уникальный идентификатор пользователя;\n",
    "- `EventTimestamp` — время события;\n",
    "- `ExpId` — номер эксперимента: 246 и 247 — контрольные группы, 248 — экспериментальная."
   ]
  },
  {
   "cell_type": "markdown",
   "metadata": {},
   "source": [
    "Посмотрим на общую информацию о данных."
   ]
  },
  {
   "cell_type": "code",
   "execution_count": 4,
   "metadata": {},
   "outputs": [
    {
     "name": "stdout",
     "output_type": "stream",
     "text": [
      "<class 'pandas.core.frame.DataFrame'>\n",
      "RangeIndex: 244126 entries, 0 to 244125\n",
      "Data columns (total 4 columns):\n",
      " #   Column          Non-Null Count   Dtype \n",
      "---  ------          --------------   ----- \n",
      " 0   EventName       244126 non-null  object\n",
      " 1   DeviceIDHash    244126 non-null  int64 \n",
      " 2   EventTimestamp  244126 non-null  int64 \n",
      " 3   ExpId           244126 non-null  int64 \n",
      "dtypes: int64(3), object(1)\n",
      "memory usage: 7.5+ MB\n"
     ]
    }
   ],
   "source": [
    "logs.info()"
   ]
  },
  {
   "cell_type": "markdown",
   "metadata": {},
   "source": [
    "Нам повезло, в данных нет пропусков. Но проблемы все равно есть:\n",
    "1. У признаков неудобные названия столбцов.\n",
    "2. У `EventTimestamp` неправильный тип данных. Должен быть `datetime`.\n",
    "3. У `ExpId` можно понизить размерность."
   ]
  },
  {
   "cell_type": "markdown",
   "metadata": {},
   "source": [
    "[К содержанию](#Содержание)"
   ]
  },
  {
   "cell_type": "markdown",
   "metadata": {},
   "source": [
    "## 2. Подготовка данных<a name=\"2.-Подготовка-данных\"></a>"
   ]
  },
  {
   "cell_type": "markdown",
   "metadata": {},
   "source": [
    "### Переименования столбцов\n",
    "\n",
    "Заменим названия параметров на более удобные."
   ]
  },
  {
   "cell_type": "code",
   "execution_count": 5,
   "metadata": {},
   "outputs": [
    {
     "data": {
      "text/plain": [
       "Index(['event', 'user_id', 'timestamp', 'group'], dtype='object')"
      ]
     },
     "execution_count": 5,
     "metadata": {},
     "output_type": "execute_result"
    }
   ],
   "source": [
    "logs = logs.rename(columns={\n",
    "    'EventName': 'event',\n",
    "    'DeviceIDHash': 'user_id',\n",
    "    'EventTimestamp': 'timestamp',\n",
    "    'ExpId': 'group'\n",
    "})\n",
    "\n",
    "logs.columns"
   ]
  },
  {
   "cell_type": "markdown",
   "metadata": {},
   "source": [
    "### Замена типа данных"
   ]
  },
  {
   "cell_type": "markdown",
   "metadata": {},
   "source": [
    "Поменяем тип данных `timestamp` с `int` на `datetime`. Посмотрим на результат."
   ]
  },
  {
   "cell_type": "code",
   "execution_count": 6,
   "metadata": {},
   "outputs": [
    {
     "data": {
      "text/html": [
       "<div>\n",
       "<style scoped>\n",
       "    .dataframe tbody tr th:only-of-type {\n",
       "        vertical-align: middle;\n",
       "    }\n",
       "\n",
       "    .dataframe tbody tr th {\n",
       "        vertical-align: top;\n",
       "    }\n",
       "\n",
       "    .dataframe thead th {\n",
       "        text-align: right;\n",
       "    }\n",
       "</style>\n",
       "<table border=\"1\" class=\"dataframe\">\n",
       "  <thead>\n",
       "    <tr style=\"text-align: right;\">\n",
       "      <th></th>\n",
       "      <th>event</th>\n",
       "      <th>user_id</th>\n",
       "      <th>timestamp</th>\n",
       "      <th>group</th>\n",
       "    </tr>\n",
       "  </thead>\n",
       "  <tbody>\n",
       "    <tr>\n",
       "      <th>0</th>\n",
       "      <td>MainScreenAppear</td>\n",
       "      <td>4575588528974610257</td>\n",
       "      <td>2019-07-25 04:43:36</td>\n",
       "      <td>246</td>\n",
       "    </tr>\n",
       "    <tr>\n",
       "      <th>1</th>\n",
       "      <td>MainScreenAppear</td>\n",
       "      <td>7416695313311560658</td>\n",
       "      <td>2019-07-25 11:11:42</td>\n",
       "      <td>246</td>\n",
       "    </tr>\n",
       "    <tr>\n",
       "      <th>2</th>\n",
       "      <td>PaymentScreenSuccessful</td>\n",
       "      <td>3518123091307005509</td>\n",
       "      <td>2019-07-25 11:28:47</td>\n",
       "      <td>248</td>\n",
       "    </tr>\n",
       "  </tbody>\n",
       "</table>\n",
       "</div>"
      ],
      "text/plain": [
       "                     event              user_id           timestamp  group\n",
       "0         MainScreenAppear  4575588528974610257 2019-07-25 04:43:36    246\n",
       "1         MainScreenAppear  7416695313311560658 2019-07-25 11:11:42    246\n",
       "2  PaymentScreenSuccessful  3518123091307005509 2019-07-25 11:28:47    248"
      ]
     },
     "execution_count": 6,
     "metadata": {},
     "output_type": "execute_result"
    }
   ],
   "source": [
    "logs['timestamp'] = pd.to_datetime(logs['timestamp'], unit='s')\n",
    "logs.head(3)"
   ]
  },
  {
   "cell_type": "markdown",
   "metadata": {},
   "source": [
    "Понизим размерность номеров экспериментов."
   ]
  },
  {
   "cell_type": "code",
   "execution_count": 7,
   "metadata": {},
   "outputs": [
    {
     "name": "stdout",
     "output_type": "stream",
     "text": [
      "Новая размерность столбца group: uint8\n"
     ]
    }
   ],
   "source": [
    "logs['group'] = pd.to_numeric(logs['group'], downcast='unsigned')\n",
    "\n",
    "print('Новая размерность столбца group:', logs['group'].dtype)"
   ]
  },
  {
   "cell_type": "markdown",
   "metadata": {},
   "source": [
    "### Обработка дубликатов"
   ]
  },
  {
   "cell_type": "markdown",
   "metadata": {},
   "source": [
    "Проверим, есть ли в данных дубликаты."
   ]
  },
  {
   "cell_type": "code",
   "execution_count": 8,
   "metadata": {},
   "outputs": [
    {
     "name": "stdout",
     "output_type": "stream",
     "text": [
      "Количество дубликатов: 413\n"
     ]
    }
   ],
   "source": [
    "print('Количество дубликатов:', logs.duplicated().sum())"
   ]
  },
  {
   "cell_type": "markdown",
   "metadata": {},
   "source": [
    "Нашлось 413 дубликатов. Удалим их и удостоверимся, что они пропали."
   ]
  },
  {
   "cell_type": "code",
   "execution_count": 9,
   "metadata": {
    "scrolled": true
   },
   "outputs": [
    {
     "name": "stdout",
     "output_type": "stream",
     "text": [
      "Количество дубликатов: 0\n"
     ]
    }
   ],
   "source": [
    "logs = logs.drop_duplicates().reset_index(drop= True)\n",
    "\n",
    "print('Количество дубликатов:', logs.duplicated().sum())"
   ]
  },
  {
   "cell_type": "markdown",
   "metadata": {},
   "source": [
    "### Пользователи, попавшие в обе группы"
   ]
  },
  {
   "cell_type": "markdown",
   "metadata": {},
   "source": [
    "Проверим, есть ли пользователи, которые попали в несколько групп теста."
   ]
  },
  {
   "cell_type": "code",
   "execution_count": 10,
   "metadata": {},
   "outputs": [
    {
     "data": {
      "text/html": [
       "<div>\n",
       "<style scoped>\n",
       "    .dataframe tbody tr th:only-of-type {\n",
       "        vertical-align: middle;\n",
       "    }\n",
       "\n",
       "    .dataframe tbody tr th {\n",
       "        vertical-align: top;\n",
       "    }\n",
       "\n",
       "    .dataframe thead th {\n",
       "        text-align: right;\n",
       "    }\n",
       "</style>\n",
       "<table border=\"1\" class=\"dataframe\">\n",
       "  <thead>\n",
       "    <tr style=\"text-align: right;\">\n",
       "      <th></th>\n",
       "      <th>user_id</th>\n",
       "      <th>group</th>\n",
       "    </tr>\n",
       "  </thead>\n",
       "  <tbody>\n",
       "    <tr>\n",
       "      <th>0</th>\n",
       "      <td>6888746892508752</td>\n",
       "      <td>1</td>\n",
       "    </tr>\n",
       "    <tr>\n",
       "      <th>1</th>\n",
       "      <td>6909561520679493</td>\n",
       "      <td>1</td>\n",
       "    </tr>\n",
       "    <tr>\n",
       "      <th>2</th>\n",
       "      <td>6922444491712477</td>\n",
       "      <td>1</td>\n",
       "    </tr>\n",
       "    <tr>\n",
       "      <th>3</th>\n",
       "      <td>7435777799948366</td>\n",
       "      <td>1</td>\n",
       "    </tr>\n",
       "    <tr>\n",
       "      <th>4</th>\n",
       "      <td>7702139951469979</td>\n",
       "      <td>1</td>\n",
       "    </tr>\n",
       "  </tbody>\n",
       "</table>\n",
       "</div>"
      ],
      "text/plain": [
       "            user_id  group\n",
       "0  6888746892508752      1\n",
       "1  6909561520679493      1\n",
       "2  6922444491712477      1\n",
       "3  7435777799948366      1\n",
       "4  7702139951469979      1"
      ]
     },
     "execution_count": 10,
     "metadata": {},
     "output_type": "execute_result"
    }
   ],
   "source": [
    "n_groups_for_user = (logs\n",
    "                     .groupby('user_id', as_index=False)\n",
    "                     .agg({'group':'nunique'}))\n",
    "n_groups_for_user.head()"
   ]
  },
  {
   "cell_type": "code",
   "execution_count": 11,
   "metadata": {},
   "outputs": [
    {
     "data": {
      "text/html": [
       "<div>\n",
       "<style scoped>\n",
       "    .dataframe tbody tr th:only-of-type {\n",
       "        vertical-align: middle;\n",
       "    }\n",
       "\n",
       "    .dataframe tbody tr th {\n",
       "        vertical-align: top;\n",
       "    }\n",
       "\n",
       "    .dataframe thead th {\n",
       "        text-align: right;\n",
       "    }\n",
       "</style>\n",
       "<table border=\"1\" class=\"dataframe\">\n",
       "  <thead>\n",
       "    <tr style=\"text-align: right;\">\n",
       "      <th></th>\n",
       "      <th>user_id</th>\n",
       "      <th>group</th>\n",
       "    </tr>\n",
       "  </thead>\n",
       "  <tbody>\n",
       "  </tbody>\n",
       "</table>\n",
       "</div>"
      ],
      "text/plain": [
       "Empty DataFrame\n",
       "Columns: [user_id, group]\n",
       "Index: []"
      ]
     },
     "execution_count": 11,
     "metadata": {},
     "output_type": "execute_result"
    }
   ],
   "source": [
    "n_groups_for_user.query('group > 1')"
   ]
  },
  {
   "cell_type": "markdown",
   "metadata": {},
   "source": [
    "Пользователей, которые попали в несколько групп, нет — хорошо."
   ]
  },
  {
   "cell_type": "markdown",
   "metadata": {},
   "source": [
    "### Выделение даты в отдельный столбец"
   ]
  },
  {
   "cell_type": "markdown",
   "metadata": {},
   "source": [
    "Добавим в `logs` новый столбец с датой события и посмотрим на таблицу."
   ]
  },
  {
   "cell_type": "code",
   "execution_count": 12,
   "metadata": {},
   "outputs": [
    {
     "data": {
      "text/html": [
       "<div>\n",
       "<style scoped>\n",
       "    .dataframe tbody tr th:only-of-type {\n",
       "        vertical-align: middle;\n",
       "    }\n",
       "\n",
       "    .dataframe tbody tr th {\n",
       "        vertical-align: top;\n",
       "    }\n",
       "\n",
       "    .dataframe thead th {\n",
       "        text-align: right;\n",
       "    }\n",
       "</style>\n",
       "<table border=\"1\" class=\"dataframe\">\n",
       "  <thead>\n",
       "    <tr style=\"text-align: right;\">\n",
       "      <th></th>\n",
       "      <th>event</th>\n",
       "      <th>user_id</th>\n",
       "      <th>timestamp</th>\n",
       "      <th>group</th>\n",
       "      <th>date</th>\n",
       "    </tr>\n",
       "  </thead>\n",
       "  <tbody>\n",
       "    <tr>\n",
       "      <th>0</th>\n",
       "      <td>MainScreenAppear</td>\n",
       "      <td>4575588528974610257</td>\n",
       "      <td>2019-07-25 04:43:36</td>\n",
       "      <td>246</td>\n",
       "      <td>2019-07-25</td>\n",
       "    </tr>\n",
       "    <tr>\n",
       "      <th>1</th>\n",
       "      <td>MainScreenAppear</td>\n",
       "      <td>7416695313311560658</td>\n",
       "      <td>2019-07-25 11:11:42</td>\n",
       "      <td>246</td>\n",
       "      <td>2019-07-25</td>\n",
       "    </tr>\n",
       "    <tr>\n",
       "      <th>2</th>\n",
       "      <td>PaymentScreenSuccessful</td>\n",
       "      <td>3518123091307005509</td>\n",
       "      <td>2019-07-25 11:28:47</td>\n",
       "      <td>248</td>\n",
       "      <td>2019-07-25</td>\n",
       "    </tr>\n",
       "    <tr>\n",
       "      <th>3</th>\n",
       "      <td>CartScreenAppear</td>\n",
       "      <td>3518123091307005509</td>\n",
       "      <td>2019-07-25 11:28:47</td>\n",
       "      <td>248</td>\n",
       "      <td>2019-07-25</td>\n",
       "    </tr>\n",
       "    <tr>\n",
       "      <th>4</th>\n",
       "      <td>PaymentScreenSuccessful</td>\n",
       "      <td>6217807653094995999</td>\n",
       "      <td>2019-07-25 11:48:42</td>\n",
       "      <td>248</td>\n",
       "      <td>2019-07-25</td>\n",
       "    </tr>\n",
       "  </tbody>\n",
       "</table>\n",
       "</div>"
      ],
      "text/plain": [
       "                     event              user_id           timestamp  group  \\\n",
       "0         MainScreenAppear  4575588528974610257 2019-07-25 04:43:36    246   \n",
       "1         MainScreenAppear  7416695313311560658 2019-07-25 11:11:42    246   \n",
       "2  PaymentScreenSuccessful  3518123091307005509 2019-07-25 11:28:47    248   \n",
       "3         CartScreenAppear  3518123091307005509 2019-07-25 11:28:47    248   \n",
       "4  PaymentScreenSuccessful  6217807653094995999 2019-07-25 11:48:42    248   \n",
       "\n",
       "        date  \n",
       "0 2019-07-25  \n",
       "1 2019-07-25  \n",
       "2 2019-07-25  \n",
       "3 2019-07-25  \n",
       "4 2019-07-25  "
      ]
     },
     "execution_count": 12,
     "metadata": {},
     "output_type": "execute_result"
    }
   ],
   "source": [
    "logs['date'] = pd.to_datetime(logs['timestamp'].dt.date)\n",
    "logs.head(5)"
   ]
  },
  {
   "cell_type": "markdown",
   "metadata": {},
   "source": [
    "### Вывод"
   ]
  },
  {
   "cell_type": "markdown",
   "metadata": {},
   "source": [
    "При знакомстве с данными мы нашли несколько проблем и сейчас исправили их. А именно:\n",
    "1. Поменяли названия столбцов на удобные и говорящие.\n",
    "2. Поменяли тип данных `timestamp` с неправильного `int` на подходящий `datetime`.\n",
    "3. Понизили размерность столбца `group` с `int64` до `uin8`.\n",
    "4. Нашли в данных дубликаты и удалили их.\n",
    "5. Проверили, что пользователи не меняли свои группы во время теста.\n",
    "\n",
    "Также мы добавили в таблицу новый столбец `date` с датами событий, так как они понадобятся нам во время исследования.\n",
    "\n",
    "Подготовка данных завершена, и мы можем переходить к анализу."
   ]
  },
  {
   "cell_type": "markdown",
   "metadata": {},
   "source": [
    "[К содержанию](#Содержание)"
   ]
  },
  {
   "cell_type": "markdown",
   "metadata": {},
   "source": [
    "## 3. Изучение и проверка данных<a name=\"3.-Изучение-и-проверка-данных\"></a>"
   ]
  },
  {
   "cell_type": "markdown",
   "metadata": {},
   "source": [
    "### Количество событий<a name=\"Количество-событий\"></a>"
   ]
  },
  {
   "cell_type": "markdown",
   "metadata": {},
   "source": [
    "Найдем число всех событий в логе — это количество строк в таблице `logs`."
   ]
  },
  {
   "cell_type": "code",
   "execution_count": 13,
   "metadata": {},
   "outputs": [
    {
     "data": {
      "text/plain": [
       "243713"
      ]
     },
     "execution_count": 13,
     "metadata": {},
     "output_type": "execute_result"
    }
   ],
   "source": [
    "n_events = len(logs)\n",
    "n_events"
   ]
  },
  {
   "cell_type": "markdown",
   "metadata": {},
   "source": [
    "В логе больше 240 тысяч событий. Посмотрим, какими они бывают и сколько раз повторялось каждое."
   ]
  },
  {
   "cell_type": "code",
   "execution_count": 14,
   "metadata": {},
   "outputs": [
    {
     "data": {
      "text/plain": [
       "MainScreenAppear           119101\n",
       "OffersScreenAppear          46808\n",
       "CartScreenAppear            42668\n",
       "PaymentScreenSuccessful     34118\n",
       "Tutorial                     1018\n",
       "Name: event, dtype: int64"
      ]
     },
     "execution_count": 14,
     "metadata": {},
     "output_type": "execute_result"
    }
   ],
   "source": [
    "logs['event'].value_counts()"
   ]
  },
  {
   "cell_type": "markdown",
   "metadata": {},
   "source": [
    "Видим, что:\n",
    "- больше 119 тысяч раз пользователи открывали главный экран;\n",
    "- на экран с товарами переходили почти 47 тысяч раз;\n",
    "- до корзины доходили чуть меньше 43 тысяч раз;\n",
    "- успешно оплатили покупку больше 34 тысяч раз;\n",
    "- обучение прошли 1018 раз."
   ]
  },
  {
   "cell_type": "markdown",
   "metadata": {},
   "source": [
    "### Количество пользователей<a name=\"Количество-пользователей\"></a>"
   ]
  },
  {
   "cell_type": "markdown",
   "metadata": {},
   "source": [
    "Посчитаем пользователей. Для этого найдем число уникальных значений в столбце `user_id`."
   ]
  },
  {
   "cell_type": "code",
   "execution_count": 15,
   "metadata": {},
   "outputs": [
    {
     "name": "stdout",
     "output_type": "stream",
     "text": [
      "Число пользователей: 7551\n"
     ]
    }
   ],
   "source": [
    "n_users = logs['user_id'].nunique()\n",
    "\n",
    "print('Число пользователей:', n_users)"
   ]
  },
  {
   "cell_type": "markdown",
   "metadata": {},
   "source": [
    "### Среднее число событий на одного пользователя<a name=\"Среднее-число-событий-на-одного-пользователя\"></a>"
   ]
  },
  {
   "cell_type": "markdown",
   "metadata": {},
   "source": [
    "Найдем, сколько в среднем событий приходится на пользователя. Для этого разделим количество событий на количество пользователей."
   ]
  },
  {
   "cell_type": "code",
   "execution_count": 16,
   "metadata": {},
   "outputs": [
    {
     "data": {
      "text/plain": [
       "32.27559263673685"
      ]
     },
     "execution_count": 16,
     "metadata": {},
     "output_type": "execute_result"
    }
   ],
   "source": [
    "n_events_per_user = n_events / n_users\n",
    "n_events_per_user"
   ]
  },
  {
   "cell_type": "markdown",
   "metadata": {},
   "source": [
    "Среднее количество событий на пользователя — 32."
   ]
  },
  {
   "cell_type": "markdown",
   "metadata": {},
   "source": [
    "Посмотрим на распределение числа действий по количеству пользователей, чтобы понять, насколько среднее количество событий на пользователя показательно."
   ]
  },
  {
   "cell_type": "code",
   "execution_count": 17,
   "metadata": {},
   "outputs": [
    {
     "data": {
      "text/html": [
       "<div>\n",
       "<style scoped>\n",
       "    .dataframe tbody tr th:only-of-type {\n",
       "        vertical-align: middle;\n",
       "    }\n",
       "\n",
       "    .dataframe tbody tr th {\n",
       "        vertical-align: top;\n",
       "    }\n",
       "\n",
       "    .dataframe thead th {\n",
       "        text-align: right;\n",
       "    }\n",
       "</style>\n",
       "<table border=\"1\" class=\"dataframe\">\n",
       "  <thead>\n",
       "    <tr style=\"text-align: right;\">\n",
       "      <th></th>\n",
       "      <th>user_id</th>\n",
       "      <th>n_events</th>\n",
       "    </tr>\n",
       "  </thead>\n",
       "  <tbody>\n",
       "    <tr>\n",
       "      <th>0</th>\n",
       "      <td>6888746892508752</td>\n",
       "      <td>1</td>\n",
       "    </tr>\n",
       "    <tr>\n",
       "      <th>1</th>\n",
       "      <td>6909561520679493</td>\n",
       "      <td>5</td>\n",
       "    </tr>\n",
       "    <tr>\n",
       "      <th>2</th>\n",
       "      <td>6922444491712477</td>\n",
       "      <td>47</td>\n",
       "    </tr>\n",
       "    <tr>\n",
       "      <th>3</th>\n",
       "      <td>7435777799948366</td>\n",
       "      <td>6</td>\n",
       "    </tr>\n",
       "    <tr>\n",
       "      <th>4</th>\n",
       "      <td>7702139951469979</td>\n",
       "      <td>137</td>\n",
       "    </tr>\n",
       "  </tbody>\n",
       "</table>\n",
       "</div>"
      ],
      "text/plain": [
       "            user_id  n_events\n",
       "0  6888746892508752         1\n",
       "1  6909561520679493         5\n",
       "2  6922444491712477        47\n",
       "3  7435777799948366         6\n",
       "4  7702139951469979       137"
      ]
     },
     "execution_count": 17,
     "metadata": {},
     "output_type": "execute_result"
    }
   ],
   "source": [
    "logs_grouped_by_users = (logs\n",
    "                         .groupby('user_id')\n",
    "                         .agg({'event': 'count'})\n",
    "                         .reset_index())\n",
    "logs_grouped_by_users.columns = ['user_id', 'n_events']\n",
    "\n",
    "logs_grouped_by_users.head()"
   ]
  },
  {
   "cell_type": "code",
   "execution_count": 18,
   "metadata": {},
   "outputs": [
    {
     "data": {
      "image/png": "[encoded data removed]",
      "text/plain": [
       "<Figure size 864x504 with 1 Axes>"
      ]
     },
     "metadata": {},
     "output_type": "display_data"
    }
   ],
   "source": [
    "plt.figure(figsize=(12, 7))\n",
    "logs_grouped_by_users['n_events'].hist(bins=100, range=(0,100))\n",
    "\n",
    "plt.title('Распределение числа действий по количеству пользователей', fontsize=15, y=1.01)\n",
    "plt.xlabel('Число действий', fontsize=13, labelpad=10)\n",
    "plt.ylabel('Количество пользователей', fontsize=13, labelpad=10)\n",
    "\n",
    "logs_by_users_graph = plt.gcf()"
   ]
  },
  {
   "cell_type": "markdown",
   "metadata": {},
   "source": [
    "Распределение сильно скошено вправо. Поэтому в качестве меры центральной тенденции логичнее взять моду, а не среднее."
   ]
  },
  {
   "cell_type": "code",
   "execution_count": 19,
   "metadata": {},
   "outputs": [
    {
     "name": "stdout",
     "output_type": "stream",
     "text": [
      "Мода количества действий на пользователя: 5\n"
     ]
    }
   ],
   "source": [
    "n_events_mode = logs_grouped_by_users['n_events'].mode()[0]\n",
    "\n",
    "print('Мода количества действий на пользователя:', n_events_mode)"
   ]
  },
  {
   "cell_type": "markdown",
   "metadata": {},
   "source": [
    "Чаще всего пользователи совершают 5 действий, то есть в шесть раз меньше среднего значения."
   ]
  },
  {
   "cell_type": "markdown",
   "metadata": {},
   "source": [
    "### Выбор временного периода<a name=\"Выбор-временного-периода\"></a>"
   ]
  },
  {
   "cell_type": "markdown",
   "metadata": {},
   "source": [
    "Посмотрим за какой период наши данные."
   ]
  },
  {
   "cell_type": "code",
   "execution_count": 20,
   "metadata": {},
   "outputs": [
    {
     "name": "stdout",
     "output_type": "stream",
     "text": [
      "Дата первого лога: 2019-07-25 00:00:00\n",
      "Дата последнего лога: 2019-08-07 00:00:00\n"
     ]
    }
   ],
   "source": [
    "print('Дата первого лога:', logs['date'].min())\n",
    "print('Дата последнего лога:', logs['date'].max())"
   ]
  },
  {
   "cell_type": "markdown",
   "metadata": {},
   "source": [
    "У нас есть данные за две недели с 25 июля по 7 августа 2019 года.\n",
    "\n",
    "Посмотрим на количество логов по дням."
   ]
  },
  {
   "cell_type": "code",
   "execution_count": 21,
   "metadata": {
    "scrolled": false
   },
   "outputs": [
    {
     "data": {
      "image/png": "[encoded data removed]",
      "text/plain": [
       "<Figure size 864x504 with 1 Axes>"
      ]
     },
     "metadata": {},
     "output_type": "display_data"
    }
   ],
   "source": [
    "plt.figure(figsize=(12, 7))\n",
    "logs['timestamp'].hist(bins=336) # 336 — это две недели в часах (14*24)\n",
    "\n",
    "plt.xticks(rotation=-45, ha=\"left\")\n",
    "plt.title('Распределение числа логов по дням', fontsize=15, y=1.01)\n",
    "plt.xlabel('Дата', fontsize=13, labelpad=10)\n",
    "plt.ylabel('Количество логов', fontsize=13, labelpad=10)\n",
    "\n",
    "n_events_by_day_graph = plt.gcf()"
   ]
  },
  {
   "cell_type": "markdown",
   "metadata": {},
   "source": [
    "Видно, что до 1 августа логов гораздо меньше, чем в период с 1 по 7. Скорее всего, логи до 1 августа попали к нам случайно. Возможно, они «доехали» с устройств пользователей в базу с опозданием, а действия отбирались не по дате свершения, а по времени записи в базу.\n",
    "\n",
    "В общем, на самом деле мы располагаем данными за неделю с 1 по 7 августа. \n",
    "\n",
    "Также можно заметить дневную сезонность: ранним утром и поздним вечером логов приходит гораздо меньше, чем днем. Значит, в это время активность в приложении падает."
   ]
  },
  {
   "cell_type": "markdown",
   "metadata": {},
   "source": [
    "#### Старые логи"
   ]
  },
  {
   "cell_type": "markdown",
   "metadata": {},
   "source": [
    "Посчитаем, сколько событий и пользователей попали в старые логи."
   ]
  },
  {
   "cell_type": "code",
   "execution_count": 22,
   "metadata": {
    "scrolled": true
   },
   "outputs": [
    {
     "data": {
      "text/html": [
       "<div>\n",
       "<style scoped>\n",
       "    .dataframe tbody tr th:only-of-type {\n",
       "        vertical-align: middle;\n",
       "    }\n",
       "\n",
       "    .dataframe tbody tr th {\n",
       "        vertical-align: top;\n",
       "    }\n",
       "\n",
       "    .dataframe thead th {\n",
       "        text-align: right;\n",
       "    }\n",
       "</style>\n",
       "<table border=\"1\" class=\"dataframe\">\n",
       "  <thead>\n",
       "    <tr style=\"text-align: right;\">\n",
       "      <th></th>\n",
       "      <th>event</th>\n",
       "      <th>user_id</th>\n",
       "      <th>timestamp</th>\n",
       "      <th>group</th>\n",
       "      <th>date</th>\n",
       "    </tr>\n",
       "  </thead>\n",
       "  <tbody>\n",
       "    <tr>\n",
       "      <th>0</th>\n",
       "      <td>MainScreenAppear</td>\n",
       "      <td>4575588528974610257</td>\n",
       "      <td>2019-07-25 04:43:36</td>\n",
       "      <td>246</td>\n",
       "      <td>2019-07-25</td>\n",
       "    </tr>\n",
       "    <tr>\n",
       "      <th>1</th>\n",
       "      <td>MainScreenAppear</td>\n",
       "      <td>7416695313311560658</td>\n",
       "      <td>2019-07-25 11:11:42</td>\n",
       "      <td>246</td>\n",
       "      <td>2019-07-25</td>\n",
       "    </tr>\n",
       "    <tr>\n",
       "      <th>2</th>\n",
       "      <td>PaymentScreenSuccessful</td>\n",
       "      <td>3518123091307005509</td>\n",
       "      <td>2019-07-25 11:28:47</td>\n",
       "      <td>248</td>\n",
       "      <td>2019-07-25</td>\n",
       "    </tr>\n",
       "    <tr>\n",
       "      <th>3</th>\n",
       "      <td>CartScreenAppear</td>\n",
       "      <td>3518123091307005509</td>\n",
       "      <td>2019-07-25 11:28:47</td>\n",
       "      <td>248</td>\n",
       "      <td>2019-07-25</td>\n",
       "    </tr>\n",
       "    <tr>\n",
       "      <th>4</th>\n",
       "      <td>PaymentScreenSuccessful</td>\n",
       "      <td>6217807653094995999</td>\n",
       "      <td>2019-07-25 11:48:42</td>\n",
       "      <td>248</td>\n",
       "      <td>2019-07-25</td>\n",
       "    </tr>\n",
       "  </tbody>\n",
       "</table>\n",
       "</div>"
      ],
      "text/plain": [
       "                     event              user_id           timestamp  group  \\\n",
       "0         MainScreenAppear  4575588528974610257 2019-07-25 04:43:36    246   \n",
       "1         MainScreenAppear  7416695313311560658 2019-07-25 11:11:42    246   \n",
       "2  PaymentScreenSuccessful  3518123091307005509 2019-07-25 11:28:47    248   \n",
       "3         CartScreenAppear  3518123091307005509 2019-07-25 11:28:47    248   \n",
       "4  PaymentScreenSuccessful  6217807653094995999 2019-07-25 11:48:42    248   \n",
       "\n",
       "        date  \n",
       "0 2019-07-25  \n",
       "1 2019-07-25  \n",
       "2 2019-07-25  \n",
       "3 2019-07-25  \n",
       "4 2019-07-25  "
      ]
     },
     "execution_count": 22,
     "metadata": {},
     "output_type": "execute_result"
    }
   ],
   "source": [
    "old_logs = logs[logs['date']<pd.to_datetime('2019-08-01')]\n",
    "old_logs.head()"
   ]
  },
  {
   "cell_type": "code",
   "execution_count": 23,
   "metadata": {},
   "outputs": [
    {
     "name": "stdout",
     "output_type": "stream",
     "text": [
      "\u001b[1mСтарые события\u001b[0m\n",
      "Количество: 2826\n",
      "Доля от общего числа: 1.16%\n"
     ]
    }
   ],
   "source": [
    "print('\\033[1m' + 'Старые события' + '\\033[0m')\n",
    "print(f'Количество: {len(old_logs)}')\n",
    "print(f'Доля от общего числа: {len(old_logs)/len(logs):.2%}')"
   ]
  },
  {
   "cell_type": "markdown",
   "metadata": {},
   "source": [
    "Старых событий меньше трех тысяч, или 1,16% от всех данных."
   ]
  },
  {
   "cell_type": "code",
   "execution_count": 24,
   "metadata": {},
   "outputs": [],
   "source": [
    "old_users = set(old_logs['user_id'].unique())\n",
    "new_users = set(logs[logs['date']>=pd.Timestamp('2019-08-01')]['user_id'].unique())\n",
    "\n",
    "users_loss = len(old_users - new_users)\n",
    "all_users = logs['user_id'].nunique()"
   ]
  },
  {
   "cell_type": "code",
   "execution_count": 25,
   "metadata": {},
   "outputs": [
    {
     "name": "stdout",
     "output_type": "stream",
     "text": [
      "\u001b[1mПользователи из старых логов, которых нет в новых\u001b[0m\n",
      "Число: 17\n",
      "Доля от общего количества: 0.23%\n"
     ]
    }
   ],
   "source": [
    "print('\\033[1m' + 'Пользователи из старых логов, которых нет в новых' + '\\033[0m')\n",
    "print('Число:', users_loss)\n",
    "print(f'Доля от общего количества: {users_loss / all_users:.2%}')"
   ]
  },
  {
   "cell_type": "markdown",
   "metadata": {},
   "source": [
    "Отбросив старые данные, мы потеряем всего 17 пользователей, или 0,23% всех пользователей."
   ]
  },
  {
   "cell_type": "markdown",
   "metadata": {},
   "source": [
    "Оставим в `logs` только новые логи."
   ]
  },
  {
   "cell_type": "code",
   "execution_count": 26,
   "metadata": {},
   "outputs": [],
   "source": [
    "logs = logs[logs['date']>=pd.Timestamp('2019-08-01')]"
   ]
  },
  {
   "cell_type": "markdown",
   "metadata": {},
   "source": [
    "### Проверка числа экспериментальных групп"
   ]
  },
  {
   "cell_type": "markdown",
   "metadata": {},
   "source": [
    "В логах должны быть данные о трех группах с номерами 246, 247 и 248. Удостоверимся, что это так."
   ]
  },
  {
   "cell_type": "code",
   "execution_count": 27,
   "metadata": {},
   "outputs": [
    {
     "data": {
      "text/plain": [
       "array([246, 247, 248], dtype=uint8)"
      ]
     },
     "execution_count": 27,
     "metadata": {},
     "output_type": "execute_result"
    }
   ],
   "source": [
    "logs['group'].unique()"
   ]
  },
  {
   "cell_type": "markdown",
   "metadata": {},
   "source": [
    "В логах действительно есть все нужные группы."
   ]
  },
  {
   "cell_type": "markdown",
   "metadata": {},
   "source": [
    "### Вывод"
   ]
  },
  {
   "cell_type": "markdown",
   "metadata": {},
   "source": [
    "Мы узнали, что у нас есть данные о 240 тысячах событий и 7,5 тысячах пользователей. События деляются на пять видов:\n",
    "1. посещение главного экрана;\n",
    "2. переход на экран с продуктами;\n",
    "3. просмотр корзины;\n",
    "4. экран с уведомлением об успешном заказе;\n",
    "5. прохождение обучения.\n",
    "\n",
    "Нашли, что среднее количество действий на пользователя — 32. Но чаще всего пользователи совершают всего 5 действий.\n",
    "\n",
    "Дальше мы проверили, за какой период наши данные — за 1–7 августа 2019 года. \n",
    "\n",
    "Во время проверки мы обнаружили в логах события до 1 августа: 17 пользователей (0,23% от общего числа) совершили около 3 тысяч событий (меньше 1,5% от всех). Скорее всего, эти данные попали к нам из-за технического сбоя, поэтому мы избавились от них. \n",
    "\n",
    "В конце удостоверились, что логи содержат информцию обо всех экспериментах."
   ]
  },
  {
   "cell_type": "markdown",
   "metadata": {},
   "source": [
    "[К содержанию](#Содержание)"
   ]
  },
  {
   "cell_type": "markdown",
   "metadata": {},
   "source": [
    "## 4. Анализ воронки событий<a name=\"4.-Анализ-воронки-событий\"></a>"
   ]
  },
  {
   "cell_type": "markdown",
   "metadata": {},
   "source": [
    "Изучим воронку продаж и узнаем, как пользователи доходят до покупки."
   ]
  },
  {
   "cell_type": "markdown",
   "metadata": {},
   "source": [
    "### Частота событий в логе<a name=\"Частота-событий-в-логе\"></a>\n",
    "\n",
    "Посмотрим, как изменилась частота событий в логе после удаления старых данных."
   ]
  },
  {
   "cell_type": "code",
   "execution_count": 28,
   "metadata": {},
   "outputs": [
    {
     "data": {
      "text/html": [
       "<div>\n",
       "<style scoped>\n",
       "    .dataframe tbody tr th:only-of-type {\n",
       "        vertical-align: middle;\n",
       "    }\n",
       "\n",
       "    .dataframe tbody tr th {\n",
       "        vertical-align: top;\n",
       "    }\n",
       "\n",
       "    .dataframe thead th {\n",
       "        text-align: right;\n",
       "    }\n",
       "</style>\n",
       "<table border=\"1\" class=\"dataframe\">\n",
       "  <thead>\n",
       "    <tr style=\"text-align: right;\">\n",
       "      <th></th>\n",
       "      <th>index</th>\n",
       "      <th>event</th>\n",
       "    </tr>\n",
       "  </thead>\n",
       "  <tbody>\n",
       "    <tr>\n",
       "      <th>0</th>\n",
       "      <td>MainScreenAppear</td>\n",
       "      <td>117328</td>\n",
       "    </tr>\n",
       "    <tr>\n",
       "      <th>1</th>\n",
       "      <td>OffersScreenAppear</td>\n",
       "      <td>46333</td>\n",
       "    </tr>\n",
       "    <tr>\n",
       "      <th>2</th>\n",
       "      <td>CartScreenAppear</td>\n",
       "      <td>42303</td>\n",
       "    </tr>\n",
       "    <tr>\n",
       "      <th>3</th>\n",
       "      <td>PaymentScreenSuccessful</td>\n",
       "      <td>33918</td>\n",
       "    </tr>\n",
       "    <tr>\n",
       "      <th>4</th>\n",
       "      <td>Tutorial</td>\n",
       "      <td>1005</td>\n",
       "    </tr>\n",
       "  </tbody>\n",
       "</table>\n",
       "</div>"
      ],
      "text/plain": [
       "                     index   event\n",
       "0         MainScreenAppear  117328\n",
       "1       OffersScreenAppear   46333\n",
       "2         CartScreenAppear   42303\n",
       "3  PaymentScreenSuccessful   33918\n",
       "4                 Tutorial    1005"
      ]
     },
     "execution_count": 28,
     "metadata": {},
     "output_type": "execute_result"
    }
   ],
   "source": [
    "logs['event'].value_counts().reset_index()"
   ]
  },
  {
   "cell_type": "markdown",
   "metadata": {},
   "source": [
    "Видим, что:\n",
    "- больше 117 тысяч раз пользователи открывали главный экран;\n",
    "- на экран с товарами переходили больше 46 тысяч раз;\n",
    "- до корзины доходили больше 42 тысяч раз;\n",
    "- успешно оплатили покупку чуть меньше 34 тысяч раз;\n",
    "- обучение прошли 1005 раз."
   ]
  },
  {
   "cell_type": "markdown",
   "metadata": {},
   "source": [
    "### Сколько пользователей совершили каждое действие<a name=\"Сколько-пользователей-совершили-каждое-действие\"></a>\n",
    "\n",
    "Посчитаем, сколько пользователей совершали каждое действие. "
   ]
  },
  {
   "cell_type": "code",
   "execution_count": 29,
   "metadata": {},
   "outputs": [
    {
     "data": {
      "text/html": [
       "<div>\n",
       "<style scoped>\n",
       "    .dataframe tbody tr th:only-of-type {\n",
       "        vertical-align: middle;\n",
       "    }\n",
       "\n",
       "    .dataframe tbody tr th {\n",
       "        vertical-align: top;\n",
       "    }\n",
       "\n",
       "    .dataframe thead th {\n",
       "        text-align: right;\n",
       "    }\n",
       "</style>\n",
       "<table border=\"1\" class=\"dataframe\">\n",
       "  <thead>\n",
       "    <tr style=\"text-align: right;\">\n",
       "      <th></th>\n",
       "      <th>event</th>\n",
       "      <th>n_users</th>\n",
       "    </tr>\n",
       "  </thead>\n",
       "  <tbody>\n",
       "    <tr>\n",
       "      <th>0</th>\n",
       "      <td>MainScreenAppear</td>\n",
       "      <td>7419</td>\n",
       "    </tr>\n",
       "    <tr>\n",
       "      <th>1</th>\n",
       "      <td>OffersScreenAppear</td>\n",
       "      <td>4593</td>\n",
       "    </tr>\n",
       "    <tr>\n",
       "      <th>2</th>\n",
       "      <td>CartScreenAppear</td>\n",
       "      <td>3734</td>\n",
       "    </tr>\n",
       "    <tr>\n",
       "      <th>3</th>\n",
       "      <td>PaymentScreenSuccessful</td>\n",
       "      <td>3539</td>\n",
       "    </tr>\n",
       "    <tr>\n",
       "      <th>4</th>\n",
       "      <td>Tutorial</td>\n",
       "      <td>840</td>\n",
       "    </tr>\n",
       "  </tbody>\n",
       "</table>\n",
       "</div>"
      ],
      "text/plain": [
       "                     event  n_users\n",
       "0         MainScreenAppear     7419\n",
       "1       OffersScreenAppear     4593\n",
       "2         CartScreenAppear     3734\n",
       "3  PaymentScreenSuccessful     3539\n",
       "4                 Tutorial      840"
      ]
     },
     "execution_count": 29,
     "metadata": {},
     "output_type": "execute_result"
    }
   ],
   "source": [
    "n_users_by_event = (logs\n",
    "                    .groupby('event')\n",
    "                    .agg({'user_id': 'nunique'})\n",
    "                    .reset_index())\n",
    "n_users_by_event.columns = ['event', 'n_users']\n",
    "\n",
    "n_users_by_event = (n_users_by_event\n",
    "                    .sort_values(by='n_users', ascending=False)\n",
    "                    .reset_index(drop=True))\n",
    "n_users_by_event"
   ]
  },
  {
   "cell_type": "markdown",
   "metadata": {},
   "source": [
    "Для каждого события найдем долю пользователей, которые хоть раз совершали его."
   ]
  },
  {
   "cell_type": "code",
   "execution_count": 30,
   "metadata": {
    "scrolled": true
   },
   "outputs": [
    {
     "data": {
      "text/html": [
       "<div>\n",
       "<style scoped>\n",
       "    .dataframe tbody tr th:only-of-type {\n",
       "        vertical-align: middle;\n",
       "    }\n",
       "\n",
       "    .dataframe tbody tr th {\n",
       "        vertical-align: top;\n",
       "    }\n",
       "\n",
       "    .dataframe thead th {\n",
       "        text-align: right;\n",
       "    }\n",
       "</style>\n",
       "<table border=\"1\" class=\"dataframe\">\n",
       "  <thead>\n",
       "    <tr style=\"text-align: right;\">\n",
       "      <th></th>\n",
       "      <th>event</th>\n",
       "      <th>n_users</th>\n",
       "      <th>percent_of_total</th>\n",
       "    </tr>\n",
       "  </thead>\n",
       "  <tbody>\n",
       "    <tr>\n",
       "      <th>0</th>\n",
       "      <td>MainScreenAppear</td>\n",
       "      <td>7419</td>\n",
       "      <td>98.25</td>\n",
       "    </tr>\n",
       "    <tr>\n",
       "      <th>1</th>\n",
       "      <td>OffersScreenAppear</td>\n",
       "      <td>4593</td>\n",
       "      <td>60.83</td>\n",
       "    </tr>\n",
       "    <tr>\n",
       "      <th>2</th>\n",
       "      <td>CartScreenAppear</td>\n",
       "      <td>3734</td>\n",
       "      <td>49.45</td>\n",
       "    </tr>\n",
       "    <tr>\n",
       "      <th>3</th>\n",
       "      <td>PaymentScreenSuccessful</td>\n",
       "      <td>3539</td>\n",
       "      <td>46.87</td>\n",
       "    </tr>\n",
       "    <tr>\n",
       "      <th>4</th>\n",
       "      <td>Tutorial</td>\n",
       "      <td>840</td>\n",
       "      <td>11.12</td>\n",
       "    </tr>\n",
       "  </tbody>\n",
       "</table>\n",
       "</div>"
      ],
      "text/plain": [
       "                     event  n_users  percent_of_total\n",
       "0         MainScreenAppear     7419             98.25\n",
       "1       OffersScreenAppear     4593             60.83\n",
       "2         CartScreenAppear     3734             49.45\n",
       "3  PaymentScreenSuccessful     3539             46.87\n",
       "4                 Tutorial      840             11.12"
      ]
     },
     "execution_count": 30,
     "metadata": {},
     "output_type": "execute_result"
    }
   ],
   "source": [
    "n_users_by_event['percent_of_total'] = round(n_users_by_event['n_users'] / n_users * 100, 2)\n",
    "n_users_by_event"
   ]
  },
  {
   "cell_type": "markdown",
   "metadata": {},
   "source": [
    "### Воронка событий<a name=\"Воронка-событий\"></a>"
   ]
  },
  {
   "cell_type": "markdown",
   "metadata": {},
   "source": [
    "Скорее всего, события происходят в следующем порядке:\n",
    "1. посещение главного экрана,\n",
    "2. переход на экран с товарами,\n",
    "3. открытие корзины,\n",
    "4. успешное оформление заказа.\n",
    "\n",
    "В этой цепочке нет экрана с обучением, потому что он может понадобиться пользователю в любой непонятной ситуации 🥁 Он мог бы быть на первом месте, если бы все пользователи в логе были новыми. Но мы видим, что у него самая маленькая доля клиентов, которые хоть раз его открывали, значит, это не так. \n",
    "\n",
    "Уберем событие `Tutorial` из `n_users_by_event`, так как оно необязательное и мы не будем включать его в воронку."
   ]
  },
  {
   "cell_type": "code",
   "execution_count": 31,
   "metadata": {},
   "outputs": [
    {
     "data": {
      "text/html": [
       "<div>\n",
       "<style scoped>\n",
       "    .dataframe tbody tr th:only-of-type {\n",
       "        vertical-align: middle;\n",
       "    }\n",
       "\n",
       "    .dataframe tbody tr th {\n",
       "        vertical-align: top;\n",
       "    }\n",
       "\n",
       "    .dataframe thead th {\n",
       "        text-align: right;\n",
       "    }\n",
       "</style>\n",
       "<table border=\"1\" class=\"dataframe\">\n",
       "  <thead>\n",
       "    <tr style=\"text-align: right;\">\n",
       "      <th></th>\n",
       "      <th>event</th>\n",
       "      <th>n_users</th>\n",
       "      <th>percent_of_total</th>\n",
       "    </tr>\n",
       "  </thead>\n",
       "  <tbody>\n",
       "    <tr>\n",
       "      <th>0</th>\n",
       "      <td>MainScreenAppear</td>\n",
       "      <td>7419</td>\n",
       "      <td>98.25</td>\n",
       "    </tr>\n",
       "    <tr>\n",
       "      <th>1</th>\n",
       "      <td>OffersScreenAppear</td>\n",
       "      <td>4593</td>\n",
       "      <td>60.83</td>\n",
       "    </tr>\n",
       "    <tr>\n",
       "      <th>2</th>\n",
       "      <td>CartScreenAppear</td>\n",
       "      <td>3734</td>\n",
       "      <td>49.45</td>\n",
       "    </tr>\n",
       "    <tr>\n",
       "      <th>3</th>\n",
       "      <td>PaymentScreenSuccessful</td>\n",
       "      <td>3539</td>\n",
       "      <td>46.87</td>\n",
       "    </tr>\n",
       "  </tbody>\n",
       "</table>\n",
       "</div>"
      ],
      "text/plain": [
       "                     event  n_users  percent_of_total\n",
       "0         MainScreenAppear     7419             98.25\n",
       "1       OffersScreenAppear     4593             60.83\n",
       "2         CartScreenAppear     3734             49.45\n",
       "3  PaymentScreenSuccessful     3539             46.87"
      ]
     },
     "execution_count": 31,
     "metadata": {},
     "output_type": "execute_result"
    }
   ],
   "source": [
    "n_users_by_event = n_users_by_event.query('event != \"Tutorial\"')\n",
    "n_users_by_event"
   ]
  },
  {
   "cell_type": "markdown",
   "metadata": {},
   "source": [
    "Из таблицы видно, что не все пользователи совершили первое событие воронки. Возможно, они попали на следующие экраны из уведомлений. Например, это может быть напоминание о собранной ранее, но не оплаченной корзине. В таком случае клиент сразу попадает на экран с ней, минуя главный."
   ]
  },
  {
   "cell_type": "markdown",
   "metadata": {},
   "source": [
    "Визаулизируем и опишем воронку."
   ]
  },
  {
   "cell_type": "code",
   "execution_count": 32,
   "metadata": {
    "scrolled": false
   },
   "outputs": [
    {
     "data": {
      "image/png": "[encoded data removed]"
     },
     "metadata": {},
     "output_type": "display_data"
    }
   ],
   "source": [
    "funnel = go.Figure(go.Funnel(\n",
    "    y = n_users_by_event['event'],\n",
    "    x = n_users_by_event['n_users'],\n",
    "    textposition = \"inside\",\n",
    "    textinfo = \"value+percent initial+percent previous\",\n",
    "    opacity = 0.65,\n",
    "    marker = {\n",
    "        \"color\": [\"deepskyblue\", \"lightsalmon\", \"tan\", \"teal\", \"silver\"],\n",
    "        \"line\": {\n",
    "            \"width\": [4, 2, 2, 3, 1, 1],\n",
    "            \"color\": [\"wheat\", \"wheat\", \"wheat\", \"wheat\", \"wheat\"]}},\n",
    "    connector = {\n",
    "        \"line\": {\n",
    "            \"color\": \"royalblue\", \"dash\": \"dot\", \"width\": 3}})\n",
    "    )\n",
    "\n",
    "funnel.update_layout(title='Количество уникальных пользователей, совершивших разные действия')\n",
    "\n",
    "funnel.show('png', width=800, height=600)"
   ]
  },
  {
   "cell_type": "markdown",
   "metadata": {},
   "source": [
    "#### Где теряем больше всего пользователей\n",
    "\n",
    "Из воронки видно, что наименьшая конверсия у главного экрана: с него на экран с товарами переходят 62% пользователей. То есть почти 40% просматривают только его и покидают приложение.\n",
    "\n",
    "В асболютных значениях на главном экране мы потеряли 2826 пользователей. Это самый большой показатель как в абсолютном значении, так и относительно предыдущего экрана."
   ]
  },
  {
   "cell_type": "markdown",
   "metadata": {},
   "source": [
    "#### Доля пользователей, дошедших с первого экрана до покупки\n",
    "\n",
    "От первого экрана приложения до оплаты дошли 3539 пользователей из 7419, или 48%.\n",
    "\n",
    "Также отметим хорошую конверсию из корзины (предыдущий экран): 95% открывших ее совершили покупку."
   ]
  },
  {
   "cell_type": "markdown",
   "metadata": {},
   "source": [
    "[К содержанию](#Содержание)"
   ]
  },
  {
   "cell_type": "markdown",
   "metadata": {},
   "source": [
    "## 5. Анализ результатов A/A/B-теста<a name=\"5.-Анализ-результатов-A/A/B-теста\"></a>"
   ]
  },
  {
   "cell_type": "markdown",
   "metadata": {},
   "source": [
    "Напомним, что мы тестировали новый шрифт в приложении. Для этого пользователей разбили на три группы:\n",
    "- 246 и 247 группы контрольные для A/A-теста,\n",
    "- 248 — тестовая с новым шрифтом.\n",
    "\n",
    "Мы хотим проверить, влияет ли шрифт на то, как клиенты пользуются приложением. Будем сравнивать версии по использованию разных экранов. Если каким-нибудь экраном стала пользоватеться меньшая/большая доля клиентов в группе, значит, шрифт влияет на поведение пользователей."
   ]
  },
  {
   "cell_type": "markdown",
   "metadata": {},
   "source": [
    "### Размеры групп<a name=\"Размеры-групп\"></a>"
   ]
  },
  {
   "cell_type": "markdown",
   "metadata": {},
   "source": [
    "Посчитаем, сколько пользователей в каждой группе."
   ]
  },
  {
   "cell_type": "code",
   "execution_count": 33,
   "metadata": {},
   "outputs": [
    {
     "data": {
      "text/html": [
       "<div>\n",
       "<style scoped>\n",
       "    .dataframe tbody tr th:only-of-type {\n",
       "        vertical-align: middle;\n",
       "    }\n",
       "\n",
       "    .dataframe tbody tr th {\n",
       "        vertical-align: top;\n",
       "    }\n",
       "\n",
       "    .dataframe thead th {\n",
       "        text-align: right;\n",
       "    }\n",
       "</style>\n",
       "<table border=\"1\" class=\"dataframe\">\n",
       "  <thead>\n",
       "    <tr style=\"text-align: right;\">\n",
       "      <th></th>\n",
       "      <th>n_users</th>\n",
       "    </tr>\n",
       "    <tr>\n",
       "      <th>group</th>\n",
       "      <th></th>\n",
       "    </tr>\n",
       "  </thead>\n",
       "  <tbody>\n",
       "    <tr>\n",
       "      <th>246</th>\n",
       "      <td>2484</td>\n",
       "    </tr>\n",
       "    <tr>\n",
       "      <th>247</th>\n",
       "      <td>2513</td>\n",
       "    </tr>\n",
       "    <tr>\n",
       "      <th>248</th>\n",
       "      <td>2537</td>\n",
       "    </tr>\n",
       "  </tbody>\n",
       "</table>\n",
       "</div>"
      ],
      "text/plain": [
       "       n_users\n",
       "group         \n",
       "246       2484\n",
       "247       2513\n",
       "248       2537"
      ]
     },
     "execution_count": 33,
     "metadata": {},
     "output_type": "execute_result"
    }
   ],
   "source": [
    "n_users_by_group = logs.groupby('group').agg({'user_id': 'nunique'})\n",
    "n_users_by_group.columns = ['n_users']\n",
    "n_users_by_group"
   ]
  },
  {
   "cell_type": "markdown",
   "metadata": {},
   "source": [
    "Размеры групп примерно равны: максимальная разница — 2% (между 246 и 248 группами). Нам подходит такая точность."
   ]
  },
  {
   "cell_type": "markdown",
   "metadata": {},
   "source": [
    "Запишем размеры групп в переменные."
   ]
  },
  {
   "cell_type": "code",
   "execution_count": 34,
   "metadata": {},
   "outputs": [],
   "source": [
    "def get_group_size(n_users_by_group, group_number):\n",
    "    return n_users_by_group.loc[group_number, 'n_users']"
   ]
  },
  {
   "cell_type": "code",
   "execution_count": 35,
   "metadata": {},
   "outputs": [],
   "source": [
    "size_246 = get_group_size(n_users_by_group, 246)\n",
    "size_247 = get_group_size(n_users_by_group, 247)\n",
    "size_248 = get_group_size(n_users_by_group, 248)"
   ]
  },
  {
   "cell_type": "markdown",
   "metadata": {},
   "source": [
    "### Результаты A/A-теста<a name=\"Результаты-A/A-теста\"></a>"
   ]
  },
  {
   "cell_type": "markdown",
   "metadata": {},
   "source": [
    "Напишем функцию, которая будет собирать таблицу аналогичную `n_users_by_event`, но с данными для A/A- или A/B-теста."
   ]
  },
  {
   "cell_type": "code",
   "execution_count": 36,
   "metadata": {},
   "outputs": [],
   "source": [
    "def aggregate_group_data(logs, group, group_size):\n",
    "    '''Функция для подсчета пользователей, совершивших каждое действие воронки'''\n",
    "    n_users_by_event = (logs[(logs['event']!='Tutorial') & (logs['group']==group)]\n",
    "                        .groupby('event')\n",
    "                        .agg({'user_id': 'nunique'})\n",
    "                        .reset_index())\n",
    "    \n",
    "    n_users_by_event.columns = ['event', 'n_users']\n",
    "    n_users_by_event['percent_of_total'] = round(n_users_by_event['n_users'] / group_size * 100, 2)\n",
    "\n",
    "    n_users_by_event = (n_users_by_event\n",
    "                        .sort_values(by='n_users', ascending=False)\n",
    "                        .reset_index(drop=True))\n",
    "    return n_users_by_event\n",
    "\n",
    "def aggregate_test_data(logs, groups):\n",
    "    '''Функция для подсчета пользователей, совершивших каждое действие воронки в двух группах'''\n",
    "    group_1, group_2 = groups\n",
    "    \n",
    "    n_users_by_group = logs.groupby('group').agg({'user_id': 'nunique'})\n",
    "    n_users_by_group.columns = ['n_users']\n",
    "    \n",
    "    group_1_size = get_group_size(n_users_by_group, group_1)\n",
    "    group_2_size = get_group_size(n_users_by_group, group_2)\n",
    "    \n",
    "    group_1_test_data = aggregate_group_data(logs, group_1, group_1_size)\n",
    "    group_2_test_data = aggregate_group_data(logs, group_2, group_2_size)\n",
    "    \n",
    "    result = group_1_test_data.merge(group_2_test_data,\n",
    "                                     on='event',\n",
    "                                     suffixes=[f'_{group_1}', f'_{group_2}'])\n",
    "    \n",
    "    return result"
   ]
  },
  {
   "cell_type": "markdown",
   "metadata": {},
   "source": [
    "Получим данные для A/A-теста."
   ]
  },
  {
   "cell_type": "code",
   "execution_count": 37,
   "metadata": {},
   "outputs": [
    {
     "data": {
      "text/html": [
       "<div>\n",
       "<style scoped>\n",
       "    .dataframe tbody tr th:only-of-type {\n",
       "        vertical-align: middle;\n",
       "    }\n",
       "\n",
       "    .dataframe tbody tr th {\n",
       "        vertical-align: top;\n",
       "    }\n",
       "\n",
       "    .dataframe thead th {\n",
       "        text-align: right;\n",
       "    }\n",
       "</style>\n",
       "<table border=\"1\" class=\"dataframe\">\n",
       "  <thead>\n",
       "    <tr style=\"text-align: right;\">\n",
       "      <th></th>\n",
       "      <th>event</th>\n",
       "      <th>n_users_246</th>\n",
       "      <th>percent_of_total_246</th>\n",
       "      <th>n_users_247</th>\n",
       "      <th>percent_of_total_247</th>\n",
       "    </tr>\n",
       "  </thead>\n",
       "  <tbody>\n",
       "    <tr>\n",
       "      <th>0</th>\n",
       "      <td>MainScreenAppear</td>\n",
       "      <td>2450</td>\n",
       "      <td>98.63</td>\n",
       "      <td>2476</td>\n",
       "      <td>98.53</td>\n",
       "    </tr>\n",
       "    <tr>\n",
       "      <th>1</th>\n",
       "      <td>OffersScreenAppear</td>\n",
       "      <td>1542</td>\n",
       "      <td>62.08</td>\n",
       "      <td>1520</td>\n",
       "      <td>60.49</td>\n",
       "    </tr>\n",
       "    <tr>\n",
       "      <th>2</th>\n",
       "      <td>CartScreenAppear</td>\n",
       "      <td>1266</td>\n",
       "      <td>50.97</td>\n",
       "      <td>1238</td>\n",
       "      <td>49.26</td>\n",
       "    </tr>\n",
       "    <tr>\n",
       "      <th>3</th>\n",
       "      <td>PaymentScreenSuccessful</td>\n",
       "      <td>1200</td>\n",
       "      <td>48.31</td>\n",
       "      <td>1158</td>\n",
       "      <td>46.08</td>\n",
       "    </tr>\n",
       "  </tbody>\n",
       "</table>\n",
       "</div>"
      ],
      "text/plain": [
       "                     event  n_users_246  percent_of_total_246  n_users_247  \\\n",
       "0         MainScreenAppear         2450                 98.63         2476   \n",
       "1       OffersScreenAppear         1542                 62.08         1520   \n",
       "2         CartScreenAppear         1266                 50.97         1238   \n",
       "3  PaymentScreenSuccessful         1200                 48.31         1158   \n",
       "\n",
       "   percent_of_total_247  \n",
       "0                 98.53  \n",
       "1                 60.49  \n",
       "2                 49.26  \n",
       "3                 46.08  "
      ]
     },
     "execution_count": 37,
     "metadata": {},
     "output_type": "execute_result"
    }
   ],
   "source": [
    "aa_result = aggregate_test_data(logs, [246, 247])\n",
    "aa_result"
   ]
  },
  {
   "cell_type": "markdown",
   "metadata": {},
   "source": [
    "Для наглядности построим воронку."
   ]
  },
  {
   "cell_type": "code",
   "execution_count": 38,
   "metadata": {},
   "outputs": [
    {
     "data": {
      "image/png": "[encoded data removed]"
     },
     "metadata": {},
     "output_type": "display_data"
    }
   ],
   "source": [
    "funnel_aa = go.Figure()\n",
    "\n",
    "funnel_aa.add_trace(go.Funnel(\n",
    "    name = 'Группа 246',\n",
    "    y = aa_result['event'],\n",
    "    x = aa_result['n_users_246'],\n",
    "    textinfo = 'value+percent initial+percent previous'))\n",
    "\n",
    "funnel_aa.add_trace(go.Funnel(\n",
    "    name = 'Группа 247',\n",
    "    y = aa_result['event'],\n",
    "    x = aa_result['n_users_247'],\n",
    "    textinfo = 'value+percent initial+percent previous'))\n",
    "\n",
    "funnel_aa.update_layout(\n",
    "    title='Воронка конверсий для контрольных групп'\n",
    ")\n",
    "\n",
    "funnel_aa.show('png', width=900, height=500)"
   ]
  },
  {
   "cell_type": "markdown",
   "metadata": {},
   "source": [
    "Воронка выглядит симметрично, однако небольшие (максимум 2%) отклонения в конверсиях есть. Проверим их статзначиость."
   ]
  },
  {
   "cell_type": "code",
   "execution_count": 39,
   "metadata": {},
   "outputs": [],
   "source": [
    "def ztests_for_experiment(test_result, groups_sizes, alpha=0.05):\n",
    "    for screen_number in range(len(test_result)):\n",
    "        event = aa_result.loc[screen_number, :][0]\n",
    "        gr_1_users = aa_result.loc[screen_number, :][1]\n",
    "        gr_2_users = aa_result.loc[screen_number, :][3]\n",
    "        \n",
    "        offset = ' ' * 2\n",
    "        h0 = f'{offset}H0: доля пользователей, открывших экран {event}, в обеих группах \\033[1mравна \\033[0m'\n",
    "        h1 = f'{offset}H1: доля пользователей, открывших экран {event}, \\033[1mразличается \\033[0m'\n",
    "        \n",
    "        print('\\033[1m'+f'Экран {event}, z-тест для двух долей '+'\\033[0m')\n",
    "        print(h0)\n",
    "        print(h1)\n",
    "        \n",
    "        zstat, p_value = proportions_ztest([gr_1_users, gr_2_users], groups_sizes)\n",
    "        \n",
    "        print(f'{offset}Уровень значимости: {alpha}')\n",
    "        print(f'{offset}p-значение в тесте: {round(p_value, 4)}')\n",
    "        \n",
    "        if p_value < alpha:\n",
    "            print(f'{offset}\\033[1mОтклоняем нулевую гипотезу.\\033[0m Доли в группах различаются статзначимо')\n",
    "        else:\n",
    "            print(f'{offset}\\033[1mНе получилось отклонить нулевую гипотезу\\033[0m. Различия в долях по группам не статзначимы')\n",
    "        print()        "
   ]
  },
  {
   "cell_type": "markdown",
   "metadata": {},
   "source": [
    "Будем считать, что поведение пользователей в группах различается, если хотя бы один из экранов открыла меньшая доля пользоваталей. Возьмем уровень статзначимости `alpha = 0.05`.\n",
    "\n",
    "На двух выборках мы будем проводить 4 сравнения. В таком случае, если для каждого сравнения мы возьмем уровень значимости `alpha`, то вероятность случайно отклонить нулевую гипотезу в одном из тестов возрастет до `1 - (1-alpha)^4 ≈ 0.19`. А мы хотим `0.05`.\n",
    "\n",
    "Чтобы это исправить, сделаем поправку на множественную проверку гипотез. Воспользуемся формулой Бонферрони: разделим `alpha` на количество сравнений."
   ]
  },
  {
   "cell_type": "code",
   "execution_count": 40,
   "metadata": {},
   "outputs": [
    {
     "name": "stdout",
     "output_type": "stream",
     "text": [
      "\u001b[1mЭкран MainScreenAppear, z-тест для двух долей \u001b[0m\n",
      "  H0: доля пользователей, открывших экран MainScreenAppear, в обеих группах \u001b[1mравна \u001b[0m\n",
      "  H1: доля пользователей, открывших экран MainScreenAppear, \u001b[1mразличается \u001b[0m\n",
      "  Уровень значимости: 0.0125\n",
      "  p-значение в тесте: 0.7571\n",
      "  \u001b[1mНе получилось отклонить нулевую гипотезу\u001b[0m. Различия в долях по группам не статзначимы\n",
      "\n",
      "\u001b[1mЭкран OffersScreenAppear, z-тест для двух долей \u001b[0m\n",
      "  H0: доля пользователей, открывших экран OffersScreenAppear, в обеих группах \u001b[1mравна \u001b[0m\n",
      "  H1: доля пользователей, открывших экран OffersScreenAppear, \u001b[1mразличается \u001b[0m\n",
      "  Уровень значимости: 0.0125\n",
      "  p-значение в тесте: 0.2481\n",
      "  \u001b[1mНе получилось отклонить нулевую гипотезу\u001b[0m. Различия в долях по группам не статзначимы\n",
      "\n",
      "\u001b[1mЭкран CartScreenAppear, z-тест для двух долей \u001b[0m\n",
      "  H0: доля пользователей, открывших экран CartScreenAppear, в обеих группах \u001b[1mравна \u001b[0m\n",
      "  H1: доля пользователей, открывших экран CartScreenAppear, \u001b[1mразличается \u001b[0m\n",
      "  Уровень значимости: 0.0125\n",
      "  p-значение в тесте: 0.2288\n",
      "  \u001b[1mНе получилось отклонить нулевую гипотезу\u001b[0m. Различия в долях по группам не статзначимы\n",
      "\n",
      "\u001b[1mЭкран PaymentScreenSuccessful, z-тест для двух долей \u001b[0m\n",
      "  H0: доля пользователей, открывших экран PaymentScreenSuccessful, в обеих группах \u001b[1mравна \u001b[0m\n",
      "  H1: доля пользователей, открывших экран PaymentScreenSuccessful, \u001b[1mразличается \u001b[0m\n",
      "  Уровень значимости: 0.0125\n",
      "  p-значение в тесте: 0.1146\n",
      "  \u001b[1mНе получилось отклонить нулевую гипотезу\u001b[0m. Различия в долях по группам не статзначимы\n",
      "\n"
     ]
    }
   ],
   "source": [
    "alpha = 0.05\n",
    "n_tests = len(aa_result)\n",
    "alpha_adj = alpha / n_tests\n",
    "\n",
    "ztests_for_experiment(aa_result, [size_246, size_247], alpha_adj)            "
   ]
  },
  {
   "cell_type": "markdown",
   "metadata": {},
   "source": [
    "Ни для одного из экранов доля открывших его пользователей в разных группах не различается статзначимо.\n",
    "\n",
    "**Вывод:** A/A-тест проведен корректно, группы в нем не различаются."
   ]
  },
  {
   "cell_type": "markdown",
   "metadata": {},
   "source": [
    "### Результаты A/B-теста<a name=\"Результаты-A/B-теста\"></a>"
   ]
  },
  {
   "cell_type": "markdown",
   "metadata": {},
   "source": [
    "Получим данные по A/B-тесту и построим для него воронку событий. Из контрольных групп возьмем 247, потому что ее размер ближе к тестовой."
   ]
  },
  {
   "cell_type": "code",
   "execution_count": 41,
   "metadata": {},
   "outputs": [
    {
     "data": {
      "text/html": [
       "<div>\n",
       "<style scoped>\n",
       "    .dataframe tbody tr th:only-of-type {\n",
       "        vertical-align: middle;\n",
       "    }\n",
       "\n",
       "    .dataframe tbody tr th {\n",
       "        vertical-align: top;\n",
       "    }\n",
       "\n",
       "    .dataframe thead th {\n",
       "        text-align: right;\n",
       "    }\n",
       "</style>\n",
       "<table border=\"1\" class=\"dataframe\">\n",
       "  <thead>\n",
       "    <tr style=\"text-align: right;\">\n",
       "      <th></th>\n",
       "      <th>event</th>\n",
       "      <th>n_users_247</th>\n",
       "      <th>percent_of_total_247</th>\n",
       "      <th>n_users_248</th>\n",
       "      <th>percent_of_total_248</th>\n",
       "    </tr>\n",
       "  </thead>\n",
       "  <tbody>\n",
       "    <tr>\n",
       "      <th>0</th>\n",
       "      <td>MainScreenAppear</td>\n",
       "      <td>2476</td>\n",
       "      <td>98.53</td>\n",
       "      <td>2493</td>\n",
       "      <td>98.27</td>\n",
       "    </tr>\n",
       "    <tr>\n",
       "      <th>1</th>\n",
       "      <td>OffersScreenAppear</td>\n",
       "      <td>1520</td>\n",
       "      <td>60.49</td>\n",
       "      <td>1531</td>\n",
       "      <td>60.35</td>\n",
       "    </tr>\n",
       "    <tr>\n",
       "      <th>2</th>\n",
       "      <td>CartScreenAppear</td>\n",
       "      <td>1238</td>\n",
       "      <td>49.26</td>\n",
       "      <td>1230</td>\n",
       "      <td>48.48</td>\n",
       "    </tr>\n",
       "    <tr>\n",
       "      <th>3</th>\n",
       "      <td>PaymentScreenSuccessful</td>\n",
       "      <td>1158</td>\n",
       "      <td>46.08</td>\n",
       "      <td>1181</td>\n",
       "      <td>46.55</td>\n",
       "    </tr>\n",
       "  </tbody>\n",
       "</table>\n",
       "</div>"
      ],
      "text/plain": [
       "                     event  n_users_247  percent_of_total_247  n_users_248  \\\n",
       "0         MainScreenAppear         2476                 98.53         2493   \n",
       "1       OffersScreenAppear         1520                 60.49         1531   \n",
       "2         CartScreenAppear         1238                 49.26         1230   \n",
       "3  PaymentScreenSuccessful         1158                 46.08         1181   \n",
       "\n",
       "   percent_of_total_248  \n",
       "0                 98.27  \n",
       "1                 60.35  \n",
       "2                 48.48  \n",
       "3                 46.55  "
      ]
     },
     "execution_count": 41,
     "metadata": {},
     "output_type": "execute_result"
    }
   ],
   "source": [
    "ab_result = aggregate_test_data(logs, [247, 248])\n",
    "ab_result"
   ]
  },
  {
   "cell_type": "code",
   "execution_count": 42,
   "metadata": {},
   "outputs": [
    {
     "data": {
      "image/png": "[encoded data removed]"
     },
     "metadata": {},
     "output_type": "display_data"
    }
   ],
   "source": [
    "funnel_ab = go.Figure()\n",
    "\n",
    "funnel_ab.add_trace(go.Funnel(\n",
    "    name = 'Группа 247',\n",
    "    y = ab_result['event'],\n",
    "    x = ab_result['n_users_247'],\n",
    "    textinfo = 'value+percent initial+percent previous'))\n",
    "\n",
    "funnel_ab.add_trace(go.Funnel(\n",
    "    name = 'Группа 248',\n",
    "    y = ab_result['event'],\n",
    "    x = ab_result['n_users_248'],\n",
    "    textinfo = 'value+percent initial+percent previous'))\n",
    "\n",
    "funnel_ab.update_layout(\n",
    "    title='Воронка конверсий для 247 контрольной и 248 тестовой групп'\n",
    ")\n",
    "\n",
    "funnel_ab.show('png', width=900, height=500)"
   ]
  },
  {
   "cell_type": "markdown",
   "metadata": {},
   "source": [
    "Здесь на первый взгляд различия еще меньше, чем между контрольными группами. Видимо, шрифт не влияет на пользование приложением. Проверим это с помощью статтеста."
   ]
  },
  {
   "cell_type": "markdown",
   "metadata": {},
   "source": [
    "Будем считать, что поведение пользователей в группах различается, если хотя бы один из экранов открыла меньшая доля пользоваталей. Возьмем уровень статзначимости alpha = 0.05.\n",
    "\n",
    "На двух выборках мы будем проводить 4 сравнения. В таком случае, если для каждого сравнения мы возьмем уровень значимости alpha, то вероятность случайно отклонить нулевую гипотезу в одном из тестов возрастет до 1 - (1-alpha)^4 ≈ 0.19. А мы хотим 0.05.\n",
    "\n",
    "Чтобы это исправить, сделаем поправку на множественную проверку гипотез. Воспользуемся формулой Бонферрони: разделим alpha на количество сравнений."
   ]
  },
  {
   "cell_type": "code",
   "execution_count": 43,
   "metadata": {},
   "outputs": [
    {
     "name": "stdout",
     "output_type": "stream",
     "text": [
      "\u001b[1mЭкран MainScreenAppear, z-тест для двух долей \u001b[0m\n",
      "  H0: доля пользователей, открывших экран MainScreenAppear, в обеих группах \u001b[1mравна \u001b[0m\n",
      "  H1: доля пользователей, открывших экран MainScreenAppear, \u001b[1mразличается \u001b[0m\n",
      "  Уровень значимости: 0.0125\n",
      "  p-значение в тесте: 0.8139\n",
      "  \u001b[1mНе получилось отклонить нулевую гипотезу\u001b[0m. Различия в долях по группам не статзначимы\n",
      "\n",
      "\u001b[1mЭкран OffersScreenAppear, z-тест для двух долей \u001b[0m\n",
      "  H0: доля пользователей, открывших экран OffersScreenAppear, в обеих группах \u001b[1mравна \u001b[0m\n",
      "  H1: доля пользователей, открывших экран OffersScreenAppear, \u001b[1mразличается \u001b[0m\n",
      "  Уровень значимости: 0.0125\n",
      "  p-значение в тесте: 0.2924\n",
      "  \u001b[1mНе получилось отклонить нулевую гипотезу\u001b[0m. Различия в долях по группам не статзначимы\n",
      "\n",
      "\u001b[1mЭкран CartScreenAppear, z-тест для двух долей \u001b[0m\n",
      "  H0: доля пользователей, открывших экран CartScreenAppear, в обеих группах \u001b[1mравна \u001b[0m\n",
      "  H1: доля пользователей, открывших экран CartScreenAppear, \u001b[1mразличается \u001b[0m\n",
      "  Уровень значимости: 0.0125\n",
      "  p-значение в тесте: 0.2614\n",
      "  \u001b[1mНе получилось отклонить нулевую гипотезу\u001b[0m. Различия в долях по группам не статзначимы\n",
      "\n",
      "\u001b[1mЭкран PaymentScreenSuccessful, z-тест для двух долей \u001b[0m\n",
      "  H0: доля пользователей, открывших экран PaymentScreenSuccessful, в обеих группах \u001b[1mравна \u001b[0m\n",
      "  H1: доля пользователей, открывших экран PaymentScreenSuccessful, \u001b[1mразличается \u001b[0m\n",
      "  Уровень значимости: 0.0125\n",
      "  p-значение в тесте: 0.1334\n",
      "  \u001b[1mНе получилось отклонить нулевую гипотезу\u001b[0m. Различия в долях по группам не статзначимы\n",
      "\n"
     ]
    }
   ],
   "source": [
    "alpha = 0.05\n",
    "n_tests = len(aa_result)\n",
    "alpha_adj = alpha / n_tests\n",
    "\n",
    "ztests_for_experiment(aa_result, [size_247, size_248], alpha_adj)"
   ]
  },
  {
   "cell_type": "markdown",
   "metadata": {},
   "source": [
    "Ни у одного из экранов доля воспользовавшихся им клиентов в контрольной и тестовой выборках не различается статзначимо.\n",
    "\n",
    "Отметим, что во всех тестах мы получили большие p-значения: меньшая из них — 13%. То есть даже без поправки Бонферрони при уровне статзначиости в 5% ни один тест не показал бы значимых различий."
   ]
  },
  {
   "cell_type": "markdown",
   "metadata": {},
   "source": [
    "**Вывод:** по результатам A/B-теста можно сказать, что изменине шрифта в приложении не повлияло на поведение пользователей в нем."
   ]
  },
  {
   "cell_type": "markdown",
   "metadata": {},
   "source": [
    "[К содержанию](#Содержание)"
   ]
  },
  {
   "cell_type": "markdown",
   "metadata": {},
   "source": [
    "## Общий вывод<a name=\"Общий-вывод\"></a>"
   ]
  },
  {
   "cell_type": "markdown",
   "metadata": {},
   "source": [
    "У нашего исследования две задачи: изучить воронку продаж и результаты A/A/B-теста нового шрифта. Обе мы решили! Вспомним решение и посмотрим на выводы.\n",
    "\n",
    "В начале мы познакомились с данными и нашли в них несколько проблем:\n",
    "\n",
    "1. Поменяли названия столбцов на удобные и говорящие.\n",
    "2. Поменяли тип данных `timestamp` с неправильного `int` на подходящий `datetime`.\n",
    "3. Нашли в данных дубликаты и удалили их.\n",
    "\n",
    "Можно рассказать об этих моментах команде разработки, чтобы в следующий раз данные пришли правильными.\n",
    "\n",
    "Также мы удостоверились, что пользователи не меняли свои группы во время теста.\n",
    "\n",
    "После исправления ошибок мы продолжили изучение логов. Оказалось, что мы получили «грязные» данные за неделю. «Грязные» потому, что в них содержались сведения о предыдущей неделе. Мы избавились от них и из-за этого потеряли 2826 логов. Но они составляли всего 1,16% изначального датафрейма. Вместе с этими логами мы лишились сведений о 17, но их доля от общего числа была еще меньше — 0,23%."
   ]
  },
  {
   "cell_type": "markdown",
   "metadata": {},
   "source": [
    "### Воронка событий<a name=\"Воронка-событий\"></a>\n",
    "\n",
    "По подготовленным данным мы построили воронку с числом пользователей, добравшихся до каждого экрана:"
   ]
  },
  {
   "cell_type": "code",
   "execution_count": 44,
   "metadata": {},
   "outputs": [
    {
     "data": {
      "image/png": "[encoded data removed]"
     },
     "metadata": {},
     "output_type": "display_data"
    }
   ],
   "source": [
    "funnel.show('png', width=800, height=600)"
   ]
  },
  {
   "cell_type": "markdown",
   "metadata": {},
   "source": [
    "**Где теряем больше всего пользователей**\n",
    "\n",
    "Из воронки видно, что наименьшая конверсия у главного экрана: с него на экран с товарами переходят 62% пользователей. То есть почти 40% просматривают только его и покидают приложение.\n",
    "\n",
    "В асболютных значениях на главном экране мы потеряли 2826 пользователей. Это самый большой показатель как в абсолютном значении, так и относительно предыдущего экрана.\n",
    "\n",
    "**Доля пользователей, дошедших с первого экрана до покупки**\n",
    "\n",
    "От первого экрана приложения до оплаты дошли 3539 пользователей из 7419, или 48%.\n",
    "\n",
    "Также отметим хорошую конверсию из корзины (предыдущий экран): 95% открывших ее совершили покупку."
   ]
  },
  {
   "cell_type": "markdown",
   "metadata": {},
   "source": [
    "### A/A-тест<a name=\"A/A-тест\"></a>\n",
    "\n",
    "После анализа воронки мы перешли ко второй задаче проекта — анализу A/A/B-теста.\n",
    "\n",
    "Сначала мы проанализировали A/A-тест. Пришли к выводу, что разбиение на группы работает корректно, так как статистически значимых различий в конверсиях контрольных групп не обнаружилось."
   ]
  },
  {
   "cell_type": "code",
   "execution_count": 45,
   "metadata": {},
   "outputs": [
    {
     "name": "stdout",
     "output_type": "stream",
     "text": [
      "\u001b[1mЭкран MainScreenAppear, z-тест для двух долей \u001b[0m\n",
      "  H0: доля пользователей, открывших экран MainScreenAppear, в обеих группах \u001b[1mравна \u001b[0m\n",
      "  H1: доля пользователей, открывших экран MainScreenAppear, \u001b[1mразличается \u001b[0m\n",
      "  Уровень значимости: 0.0125\n",
      "  p-значение в тесте: 0.7571\n",
      "  \u001b[1mНе получилось отклонить нулевую гипотезу\u001b[0m. Различия в долях по группам не статзначимы\n",
      "\n",
      "\u001b[1mЭкран OffersScreenAppear, z-тест для двух долей \u001b[0m\n",
      "  H0: доля пользователей, открывших экран OffersScreenAppear, в обеих группах \u001b[1mравна \u001b[0m\n",
      "  H1: доля пользователей, открывших экран OffersScreenAppear, \u001b[1mразличается \u001b[0m\n",
      "  Уровень значимости: 0.0125\n",
      "  p-значение в тесте: 0.2481\n",
      "  \u001b[1mНе получилось отклонить нулевую гипотезу\u001b[0m. Различия в долях по группам не статзначимы\n",
      "\n",
      "\u001b[1mЭкран CartScreenAppear, z-тест для двух долей \u001b[0m\n",
      "  H0: доля пользователей, открывших экран CartScreenAppear, в обеих группах \u001b[1mравна \u001b[0m\n",
      "  H1: доля пользователей, открывших экран CartScreenAppear, \u001b[1mразличается \u001b[0m\n",
      "  Уровень значимости: 0.0125\n",
      "  p-значение в тесте: 0.2288\n",
      "  \u001b[1mНе получилось отклонить нулевую гипотезу\u001b[0m. Различия в долях по группам не статзначимы\n",
      "\n",
      "\u001b[1mЭкран PaymentScreenSuccessful, z-тест для двух долей \u001b[0m\n",
      "  H0: доля пользователей, открывших экран PaymentScreenSuccessful, в обеих группах \u001b[1mравна \u001b[0m\n",
      "  H1: доля пользователей, открывших экран PaymentScreenSuccessful, \u001b[1mразличается \u001b[0m\n",
      "  Уровень значимости: 0.0125\n",
      "  p-значение в тесте: 0.1146\n",
      "  \u001b[1mНе получилось отклонить нулевую гипотезу\u001b[0m. Различия в долях по группам не статзначимы\n",
      "\n"
     ]
    }
   ],
   "source": [
    "ztests_for_experiment(aa_result, [size_246, size_247], alpha_adj)"
   ]
  },
  {
   "cell_type": "markdown",
   "metadata": {},
   "source": [
    "### A/B-тест<a name=\"A/B-тест\"></a>"
   ]
  },
  {
   "cell_type": "markdown",
   "metadata": {},
   "source": [
    "Затем мы сравнили контрольную и тестовые группы."
   ]
  },
  {
   "cell_type": "code",
   "execution_count": 46,
   "metadata": {},
   "outputs": [
    {
     "name": "stdout",
     "output_type": "stream",
     "text": [
      "\u001b[1mЭкран MainScreenAppear, z-тест для двух долей \u001b[0m\n",
      "  H0: доля пользователей, открывших экран MainScreenAppear, в обеих группах \u001b[1mравна \u001b[0m\n",
      "  H1: доля пользователей, открывших экран MainScreenAppear, \u001b[1mразличается \u001b[0m\n",
      "  Уровень значимости: 0.0125\n",
      "  p-значение в тесте: 0.8139\n",
      "  \u001b[1mНе получилось отклонить нулевую гипотезу\u001b[0m. Различия в долях по группам не статзначимы\n",
      "\n",
      "\u001b[1mЭкран OffersScreenAppear, z-тест для двух долей \u001b[0m\n",
      "  H0: доля пользователей, открывших экран OffersScreenAppear, в обеих группах \u001b[1mравна \u001b[0m\n",
      "  H1: доля пользователей, открывших экран OffersScreenAppear, \u001b[1mразличается \u001b[0m\n",
      "  Уровень значимости: 0.0125\n",
      "  p-значение в тесте: 0.2924\n",
      "  \u001b[1mНе получилось отклонить нулевую гипотезу\u001b[0m. Различия в долях по группам не статзначимы\n",
      "\n",
      "\u001b[1mЭкран CartScreenAppear, z-тест для двух долей \u001b[0m\n",
      "  H0: доля пользователей, открывших экран CartScreenAppear, в обеих группах \u001b[1mравна \u001b[0m\n",
      "  H1: доля пользователей, открывших экран CartScreenAppear, \u001b[1mразличается \u001b[0m\n",
      "  Уровень значимости: 0.0125\n",
      "  p-значение в тесте: 0.2614\n",
      "  \u001b[1mНе получилось отклонить нулевую гипотезу\u001b[0m. Различия в долях по группам не статзначимы\n",
      "\n",
      "\u001b[1mЭкран PaymentScreenSuccessful, z-тест для двух долей \u001b[0m\n",
      "  H0: доля пользователей, открывших экран PaymentScreenSuccessful, в обеих группах \u001b[1mравна \u001b[0m\n",
      "  H1: доля пользователей, открывших экран PaymentScreenSuccessful, \u001b[1mразличается \u001b[0m\n",
      "  Уровень значимости: 0.0125\n",
      "  p-значение в тесте: 0.1334\n",
      "  \u001b[1mНе получилось отклонить нулевую гипотезу\u001b[0m. Различия в долях по группам не статзначимы\n",
      "\n"
     ]
    }
   ],
   "source": [
    "ztests_for_experiment(aa_result, [size_247, size_248], alpha_adj)"
   ]
  },
  {
   "cell_type": "markdown",
   "metadata": {},
   "source": [
    "Ни у одного из экранов доля воспользовавшихся им клиентов в контрольной и тестовой выборках не различается статзначимо.\n",
    "\n",
    "**Вывод:** по результатам A/B-теста можно сказать, что изменине шрифта в приложении не повлияло на поведение пользователей в нем."
   ]
  },
  {
   "cell_type": "markdown",
   "metadata": {},
   "source": [
    "[К содержанию](#Содержание)"
   ]
  }
 ],
 "metadata": {
  "kernelspec": {
   "display_name": "Python 3 (ipykernel)",
   "language": "python",
   "name": "python3"
  },
  "language_info": {
   "codemirror_mode": {
    "name": "ipython",
    "version": 3
   },
   "file_extension": ".py",
   "mimetype": "text/x-python",
   "name": "python",
   "nbconvert_exporter": "python",
   "pygments_lexer": "ipython3",
   "version": "3.9.7"
  },
  "toc": {
   "base_numbering": 1,
   "nav_menu": {},
   "number_sections": false,
   "sideBar": true,
   "skip_h1_title": true,
   "title_cell": "Оглавление",
   "title_sidebar": "Содержание",
   "toc_cell": false,
   "toc_position": {
    "height": "calc(100% - 180px)",
    "left": "10px",
    "top": "150px",
    "width": "320.391px"
   },
   "toc_section_display": true,
   "toc_window_display": true
  }
 },
 "nbformat": 4,
 "nbformat_minor": 2
}
