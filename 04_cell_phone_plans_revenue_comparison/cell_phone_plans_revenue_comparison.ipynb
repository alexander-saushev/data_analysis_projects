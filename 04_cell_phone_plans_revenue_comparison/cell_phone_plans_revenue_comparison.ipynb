{
 "cells": [
  {
   "cell_type": "markdown",
   "metadata": {},
   "source": [
    "# Определение перспективного тарифа для телеком-компании «Мегалайн»"
   ]
  },
  {
   "cell_type": "markdown",
   "metadata": {},
   "source": [
    "Федеральный оператор сотовой связи «Мегалайн» предлагает клиентам два тарифных плана: «Смарт» и «Ультра». Чтобы скорректировать рекламный бюджет, коммерческий департамент хочет понять, какой тариф приносит больше денег.\n",
    "\n",
    "Задача — сделать предварительный анализ тарифов на небольшой выборке клиентов. В нашем распоряжении данные 500 пользователей «Мегалайна»: кто они, откуда, каким тарифом пользуются, сколько звонков и сообщений каждый отправил за 2018 год. Нужно проанализировать поведение клиентов и сделать вывод — какой тариф лучше."
   ]
  },
  {
   "cell_type": "markdown",
   "metadata": {},
   "source": [
    "## Описание тарифов"
   ]
  },
  {
   "cell_type": "markdown",
   "metadata": {},
   "source": [
    "### Тариф «Смарт»\n",
    "\n",
    "1. Ежемесячная плата: 550 рублей\n",
    "2. Включено 500 минут разговора, 50 сообщений и 15 Гб интернет-трафика\n",
    "3. Стоимость услуг сверх тарифного пакета:\n",
    "  * минута разговора: 3 рубля\n",
    "  * сообщение: 3 рубля\n",
    "  * 1 Гб интернет-трафика: 200 рублей\n",
    "\n",
    "### Тариф «Ультра»\n",
    "\n",
    "1. Ежемесячная плата: 1950 рублей\n",
    "2. Включено 3000 минут разговора, 1000 сообщений и 30 Гб интернет-трафика\n",
    "3. Стоимость услуг сверх тарифного пакета:\n",
    "  * минута разговора: 1 рубль\n",
    "  * сообщение: 1 рубль\n",
    "  * 1 Гб интернет-трафика: 150 рублей\n",
    "\n",
    "**Примечание:** «Мегалайн» всегда округляет вверх значения минут и мегабайтов. Если пользователь проговорил всего 1 секунду, в тарифе засчитывается целая минута."
   ]
  },
  {
   "cell_type": "markdown",
   "metadata": {},
   "source": [
    "## Содержание<a name=\"Содержание\"></a>\n",
    "\n",
    "1. [Знакомство с данными](#1.-Знакомство-с-данными)\n",
    "2. [Подготовка данных](#2.-Подготовка-данных)\n",
    "\t1. [Удаление несостоявшихся звонков и интернет-сессий](#Удаление-несостоявшихся-звонков-и-интернет-сессий)\n",
    "\t2. [Округление длительности звонков и объема трафика](#Округление-длительности-звонков-и-объема-трафика)\n",
    "\t3. [Замена типа данных](#Замена-типа-данных)\n",
    "\t4. [Обработка дубликатов](#Обработка-дубликатов)\n",
    "\t5. [Обогащение данных](#Обогащение-данных)\n",
    "        1. [Подсчет израсходованных минут, сообщений и интернет-трафика по мясацам для каждого пользователя](#Подсчет-израсходованных-минут,-сообщений-и-интернет-трафика-по-мясацам-для-каждого-пользователя)\n",
    "        2. [Расчет услуг, использованных сверх тарифных пакетов](#Расчет-услуг,-использованных-сверх-тарифных-пакетов)\n",
    "        3. [Расчет помесячной выручки с клиента](#Расчет-помесячной-выручки-с-клиента)\n",
    "3. [Анализ данных](#3.-Анализ-данных)\n",
    "\t1. [Расход минут разговора в месяц](#Расход-минут-разговора-в-месяц)\n",
    "\t2. [Месячный расход сообщений](#Месячный-расход-сообщений)\n",
    "\t3. [Объем используемого интернет-трафика в месяц](#Объем-используемого-интернет-трафика-в-месяц)\n",
    "\t4. [Месячная выручка](#Выручка)\n",
    "4. [Проверка гипотез](#4.-Проверка-гипотез)\n",
    "\t1. [Различается ли средняя выручка с пользователей тарифов «Ультра» и «Смарт»](#Различается-ли-средняя-выручка-с-пользователей-тарифов-«Ультра»-и-«Смарт»)\n",
    "\t2. [Отличается ли средняя выручка с пользователей из Москвы от выручки с пользователей из других регионов](#Отличается-ли-средняя-выручка-с-пользователей-из-Москвы-от-выручки-с-пользователей-из-других-регионов)\n",
    "5. [Общий вывод](#6.-Общий-вывод)"
   ]
  },
  {
   "cell_type": "markdown",
   "metadata": {},
   "source": [
    "## 0. Импорт библиотек<a name=\"0.-Импорт-библиотек\"></a>"
   ]
  },
  {
   "cell_type": "markdown",
   "metadata": {},
   "source": [
    "Для работы с таблицами нам нужна библиотека `pandas`. Импортируем ее. Также нам понадобится `matplotlib` для работы с графиками, некоторые математические методы из `numpy` и `scipy`. Импортируем и их."
   ]
  },
  {
   "cell_type": "code",
   "execution_count": 1,
   "metadata": {},
   "outputs": [],
   "source": [
    "import pandas as pd\n",
    "import matplotlib.pyplot as plt\n",
    "import numpy as np\n",
    "from scipy import stats as st"
   ]
  },
  {
   "cell_type": "code",
   "execution_count": 2,
   "metadata": {},
   "outputs": [],
   "source": [
    "pd.set_option('display.max_columns', None)\n",
    "plt.style.use('seaborn')"
   ]
  },
  {
   "cell_type": "markdown",
   "metadata": {},
   "source": [
    "## 1. Знакомство с данными<a name=\"1.-Знакомство-с-данными\"></a>"
   ]
  },
  {
   "cell_type": "markdown",
   "metadata": {},
   "source": [
    "Сохраним таблицы `calls`, `internet`, `messages`, `tariffs`, `users` в переменные с соответсвующими названиями."
   ]
  },
  {
   "cell_type": "code",
   "execution_count": 3,
   "metadata": {},
   "outputs": [],
   "source": [
    "calls = pd.read_csv('calls.csv')\n",
    "internet = pd.read_csv('internet.csv')\n",
    "messages = pd.read_csv('messages.csv')\n",
    "tariffs = pd.read_csv('tariffs.csv')\n",
    "users = pd.read_csv('users.csv')"
   ]
  },
  {
   "cell_type": "markdown",
   "metadata": {},
   "source": [
    "Посмотрим на общую информацию о каждом датафрейме. Чтобы не копипастить, создадим функцию `show_df_description`. С ее помощью описание датафреймов можно будет вывести одной строчкой кода."
   ]
  },
  {
   "cell_type": "code",
   "execution_count": 4,
   "metadata": {},
   "outputs": [],
   "source": [
    "def show_df_description(df, statistics=True, n_samples=5):\n",
    "    print(df.info())\n",
    "    if n_samples != 0:    \n",
    "        display(df.sample(n_samples))\n",
    "    if statistics == True: \n",
    "        display(df.describe())    "
   ]
  },
  {
   "cell_type": "markdown",
   "metadata": {},
   "source": [
    "### Звонки"
   ]
  },
  {
   "cell_type": "markdown",
   "metadata": {},
   "source": [
    "Таблица `calls` содержит следующие данные:\n",
    "\n",
    "- *id* — уникальный номер звонка\n",
    "- *call_date* — дата звонка\n",
    "- *duration* — длительность звонка в минутах\n",
    "- *user_id* — идентификатор пользователя, сделавшего звонок"
   ]
  },
  {
   "cell_type": "code",
   "execution_count": 5,
   "metadata": {},
   "outputs": [
    {
     "name": "stdout",
     "output_type": "stream",
     "text": [
      "<class 'pandas.core.frame.DataFrame'>\n",
      "RangeIndex: 202607 entries, 0 to 202606\n",
      "Data columns (total 4 columns):\n",
      " #   Column     Non-Null Count   Dtype  \n",
      "---  ------     --------------   -----  \n",
      " 0   id         202607 non-null  object \n",
      " 1   call_date  202607 non-null  object \n",
      " 2   duration   202607 non-null  float64\n",
      " 3   user_id    202607 non-null  int64  \n",
      "dtypes: float64(1), int64(1), object(2)\n",
      "memory usage: 6.2+ MB\n",
      "None\n"
     ]
    },
    {
     "data": {
      "text/html": [
       "<div>\n",
       "<style scoped>\n",
       "    .dataframe tbody tr th:only-of-type {\n",
       "        vertical-align: middle;\n",
       "    }\n",
       "\n",
       "    .dataframe tbody tr th {\n",
       "        vertical-align: top;\n",
       "    }\n",
       "\n",
       "    .dataframe thead th {\n",
       "        text-align: right;\n",
       "    }\n",
       "</style>\n",
       "<table border=\"1\" class=\"dataframe\">\n",
       "  <thead>\n",
       "    <tr style=\"text-align: right;\">\n",
       "      <th></th>\n",
       "      <th>id</th>\n",
       "      <th>call_date</th>\n",
       "      <th>duration</th>\n",
       "      <th>user_id</th>\n",
       "    </tr>\n",
       "  </thead>\n",
       "  <tbody>\n",
       "    <tr>\n",
       "      <th>199768</th>\n",
       "      <td>1492_79</td>\n",
       "      <td>2018-12-23</td>\n",
       "      <td>3.92</td>\n",
       "      <td>1492</td>\n",
       "    </tr>\n",
       "    <tr>\n",
       "      <th>87447</th>\n",
       "      <td>1219_216</td>\n",
       "      <td>2018-03-26</td>\n",
       "      <td>4.73</td>\n",
       "      <td>1219</td>\n",
       "    </tr>\n",
       "    <tr>\n",
       "      <th>134271</th>\n",
       "      <td>1344_88</td>\n",
       "      <td>2018-09-06</td>\n",
       "      <td>0.00</td>\n",
       "      <td>1344</td>\n",
       "    </tr>\n",
       "    <tr>\n",
       "      <th>119883</th>\n",
       "      <td>1310_78</td>\n",
       "      <td>2018-09-09</td>\n",
       "      <td>14.11</td>\n",
       "      <td>1310</td>\n",
       "    </tr>\n",
       "    <tr>\n",
       "      <th>30692</th>\n",
       "      <td>1078_36</td>\n",
       "      <td>2018-07-14</td>\n",
       "      <td>12.91</td>\n",
       "      <td>1078</td>\n",
       "    </tr>\n",
       "  </tbody>\n",
       "</table>\n",
       "</div>"
      ],
      "text/plain": [
       "              id   call_date  duration  user_id\n",
       "199768   1492_79  2018-12-23      3.92     1492\n",
       "87447   1219_216  2018-03-26      4.73     1219\n",
       "134271   1344_88  2018-09-06      0.00     1344\n",
       "119883   1310_78  2018-09-09     14.11     1310\n",
       "30692    1078_36  2018-07-14     12.91     1078"
      ]
     },
     "metadata": {},
     "output_type": "display_data"
    },
    {
     "data": {
      "text/html": [
       "<div>\n",
       "<style scoped>\n",
       "    .dataframe tbody tr th:only-of-type {\n",
       "        vertical-align: middle;\n",
       "    }\n",
       "\n",
       "    .dataframe tbody tr th {\n",
       "        vertical-align: top;\n",
       "    }\n",
       "\n",
       "    .dataframe thead th {\n",
       "        text-align: right;\n",
       "    }\n",
       "</style>\n",
       "<table border=\"1\" class=\"dataframe\">\n",
       "  <thead>\n",
       "    <tr style=\"text-align: right;\">\n",
       "      <th></th>\n",
       "      <th>duration</th>\n",
       "      <th>user_id</th>\n",
       "    </tr>\n",
       "  </thead>\n",
       "  <tbody>\n",
       "    <tr>\n",
       "      <th>count</th>\n",
       "      <td>202607.000000</td>\n",
       "      <td>202607.000000</td>\n",
       "    </tr>\n",
       "    <tr>\n",
       "      <th>mean</th>\n",
       "      <td>6.755887</td>\n",
       "      <td>1253.940619</td>\n",
       "    </tr>\n",
       "    <tr>\n",
       "      <th>std</th>\n",
       "      <td>5.843365</td>\n",
       "      <td>144.722751</td>\n",
       "    </tr>\n",
       "    <tr>\n",
       "      <th>min</th>\n",
       "      <td>0.000000</td>\n",
       "      <td>1000.000000</td>\n",
       "    </tr>\n",
       "    <tr>\n",
       "      <th>25%</th>\n",
       "      <td>1.300000</td>\n",
       "      <td>1126.000000</td>\n",
       "    </tr>\n",
       "    <tr>\n",
       "      <th>50%</th>\n",
       "      <td>6.000000</td>\n",
       "      <td>1260.000000</td>\n",
       "    </tr>\n",
       "    <tr>\n",
       "      <th>75%</th>\n",
       "      <td>10.700000</td>\n",
       "      <td>1379.000000</td>\n",
       "    </tr>\n",
       "    <tr>\n",
       "      <th>max</th>\n",
       "      <td>38.000000</td>\n",
       "      <td>1499.000000</td>\n",
       "    </tr>\n",
       "  </tbody>\n",
       "</table>\n",
       "</div>"
      ],
      "text/plain": [
       "            duration        user_id\n",
       "count  202607.000000  202607.000000\n",
       "mean        6.755887    1253.940619\n",
       "std         5.843365     144.722751\n",
       "min         0.000000    1000.000000\n",
       "25%         1.300000    1126.000000\n",
       "50%         6.000000    1260.000000\n",
       "75%        10.700000    1379.000000\n",
       "max        38.000000    1499.000000"
      ]
     },
     "metadata": {},
     "output_type": "display_data"
    }
   ],
   "source": [
    "show_df_description(calls)"
   ]
  },
  {
   "cell_type": "code",
   "execution_count": 6,
   "metadata": {},
   "outputs": [
    {
     "data": {
      "image/png": "[encoded data removed]",
      "text/plain": [
       "<Figure size 720x576 with 1 Axes>"
      ]
     },
     "metadata": {},
     "output_type": "display_data"
    }
   ],
   "source": [
    "calls.hist('duration', bins=38, figsize=(10, 8))\n",
    "plt.title('Распределение звонков по продолжительности', fontsize=15, pad=10)\n",
    "plt.xlabel('Время разговора, минуты', fontsize=13, labelpad=10)\n",
    "plt.ylabel('Количество звонков, шт.', fontsize=13, labelpad=10)\n",
    "init_calls_hist = plt.gcf()"
   ]
  },
  {
   "cell_type": "markdown",
   "metadata": {},
   "source": [
    "#### Наблюдения\n",
    "\n",
    "- В таблице нет пропусков\n",
    "- У дат в `call_date` неправильный тип данных. Должен быть `datetime` вместо строки.\n",
    "- Почти 50 тысяч звонков продолжительностью 0 минут — это странно\n",
    "\n",
    "Скорее всего, «нулевые» вызовы — это звонки, на которые не ответили.\n",
    "\n",
    "Такие записи искажают два показателя: количество звонков клиента и структурные характеристики положения данных. Искажение суммы звонков некритично: на выручку «Мегалайна» влияет не количество разговоров, а их длительность. А она из-за записей с нулевой продолжительностью не меняется.\n",
    "\n",
    "Зато меняется распределение длительности звонков. И хотя этот показатель не нужен в нашем исследовании, он может пригодиться позже. В общем, лучше избавиться от строчек с несостоявшимися разговорами."
   ]
  },
  {
   "cell_type": "markdown",
   "metadata": {},
   "source": [
    "### Интернет"
   ]
  },
  {
   "cell_type": "markdown",
   "metadata": {},
   "source": [
    "Таблица `internet` содержит следующие данные:\n",
    "\n",
    "- *id* — уникальный номер сессии\n",
    "- *mb_used* — объём потраченного за сессию интернет-трафика (в мегабайтах)\n",
    "- *session_date* — дата интернет-сессии\n",
    "- *user_id* — идентификатор пользователя"
   ]
  },
  {
   "cell_type": "code",
   "execution_count": 7,
   "metadata": {},
   "outputs": [
    {
     "name": "stdout",
     "output_type": "stream",
     "text": [
      "<class 'pandas.core.frame.DataFrame'>\n",
      "RangeIndex: 149396 entries, 0 to 149395\n",
      "Data columns (total 5 columns):\n",
      " #   Column        Non-Null Count   Dtype  \n",
      "---  ------        --------------   -----  \n",
      " 0   Unnamed: 0    149396 non-null  int64  \n",
      " 1   id            149396 non-null  object \n",
      " 2   mb_used       149396 non-null  float64\n",
      " 3   session_date  149396 non-null  object \n",
      " 4   user_id       149396 non-null  int64  \n",
      "dtypes: float64(1), int64(2), object(2)\n",
      "memory usage: 5.7+ MB\n",
      "None\n"
     ]
    },
    {
     "data": {
      "text/html": [
       "<div>\n",
       "<style scoped>\n",
       "    .dataframe tbody tr th:only-of-type {\n",
       "        vertical-align: middle;\n",
       "    }\n",
       "\n",
       "    .dataframe tbody tr th {\n",
       "        vertical-align: top;\n",
       "    }\n",
       "\n",
       "    .dataframe thead th {\n",
       "        text-align: right;\n",
       "    }\n",
       "</style>\n",
       "<table border=\"1\" class=\"dataframe\">\n",
       "  <thead>\n",
       "    <tr style=\"text-align: right;\">\n",
       "      <th></th>\n",
       "      <th>Unnamed: 0</th>\n",
       "      <th>id</th>\n",
       "      <th>mb_used</th>\n",
       "      <th>session_date</th>\n",
       "      <th>user_id</th>\n",
       "    </tr>\n",
       "  </thead>\n",
       "  <tbody>\n",
       "    <tr>\n",
       "      <th>29356</th>\n",
       "      <td>29356</td>\n",
       "      <td>1102_230</td>\n",
       "      <td>123.92</td>\n",
       "      <td>2018-09-13</td>\n",
       "      <td>1102</td>\n",
       "    </tr>\n",
       "    <tr>\n",
       "      <th>40351</th>\n",
       "      <td>40351</td>\n",
       "      <td>1142_432</td>\n",
       "      <td>740.97</td>\n",
       "      <td>2018-04-23</td>\n",
       "      <td>1142</td>\n",
       "    </tr>\n",
       "    <tr>\n",
       "      <th>64326</th>\n",
       "      <td>64326</td>\n",
       "      <td>1219_233</td>\n",
       "      <td>327.40</td>\n",
       "      <td>2018-02-07</td>\n",
       "      <td>1219</td>\n",
       "    </tr>\n",
       "    <tr>\n",
       "      <th>29142</th>\n",
       "      <td>29142</td>\n",
       "      <td>1102_16</td>\n",
       "      <td>0.00</td>\n",
       "      <td>2018-08-14</td>\n",
       "      <td>1102</td>\n",
       "    </tr>\n",
       "    <tr>\n",
       "      <th>119025</th>\n",
       "      <td>119025</td>\n",
       "      <td>1402_60</td>\n",
       "      <td>563.86</td>\n",
       "      <td>2018-12-28</td>\n",
       "      <td>1402</td>\n",
       "    </tr>\n",
       "  </tbody>\n",
       "</table>\n",
       "</div>"
      ],
      "text/plain": [
       "        Unnamed: 0        id  mb_used session_date  user_id\n",
       "29356        29356  1102_230   123.92   2018-09-13     1102\n",
       "40351        40351  1142_432   740.97   2018-04-23     1142\n",
       "64326        64326  1219_233   327.40   2018-02-07     1219\n",
       "29142        29142   1102_16     0.00   2018-08-14     1102\n",
       "119025      119025   1402_60   563.86   2018-12-28     1402"
      ]
     },
     "metadata": {},
     "output_type": "display_data"
    },
    {
     "data": {
      "text/html": [
       "<div>\n",
       "<style scoped>\n",
       "    .dataframe tbody tr th:only-of-type {\n",
       "        vertical-align: middle;\n",
       "    }\n",
       "\n",
       "    .dataframe tbody tr th {\n",
       "        vertical-align: top;\n",
       "    }\n",
       "\n",
       "    .dataframe thead th {\n",
       "        text-align: right;\n",
       "    }\n",
       "</style>\n",
       "<table border=\"1\" class=\"dataframe\">\n",
       "  <thead>\n",
       "    <tr style=\"text-align: right;\">\n",
       "      <th></th>\n",
       "      <th>Unnamed: 0</th>\n",
       "      <th>mb_used</th>\n",
       "      <th>user_id</th>\n",
       "    </tr>\n",
       "  </thead>\n",
       "  <tbody>\n",
       "    <tr>\n",
       "      <th>count</th>\n",
       "      <td>149396.000000</td>\n",
       "      <td>149396.000000</td>\n",
       "      <td>149396.000000</td>\n",
       "    </tr>\n",
       "    <tr>\n",
       "      <th>mean</th>\n",
       "      <td>74697.500000</td>\n",
       "      <td>370.192426</td>\n",
       "      <td>1252.099842</td>\n",
       "    </tr>\n",
       "    <tr>\n",
       "      <th>std</th>\n",
       "      <td>43127.054745</td>\n",
       "      <td>278.300951</td>\n",
       "      <td>144.050823</td>\n",
       "    </tr>\n",
       "    <tr>\n",
       "      <th>min</th>\n",
       "      <td>0.000000</td>\n",
       "      <td>0.000000</td>\n",
       "      <td>1000.000000</td>\n",
       "    </tr>\n",
       "    <tr>\n",
       "      <th>25%</th>\n",
       "      <td>37348.750000</td>\n",
       "      <td>138.187500</td>\n",
       "      <td>1130.000000</td>\n",
       "    </tr>\n",
       "    <tr>\n",
       "      <th>50%</th>\n",
       "      <td>74697.500000</td>\n",
       "      <td>348.015000</td>\n",
       "      <td>1251.000000</td>\n",
       "    </tr>\n",
       "    <tr>\n",
       "      <th>75%</th>\n",
       "      <td>112046.250000</td>\n",
       "      <td>559.552500</td>\n",
       "      <td>1380.000000</td>\n",
       "    </tr>\n",
       "    <tr>\n",
       "      <th>max</th>\n",
       "      <td>149395.000000</td>\n",
       "      <td>1724.830000</td>\n",
       "      <td>1499.000000</td>\n",
       "    </tr>\n",
       "  </tbody>\n",
       "</table>\n",
       "</div>"
      ],
      "text/plain": [
       "          Unnamed: 0        mb_used        user_id\n",
       "count  149396.000000  149396.000000  149396.000000\n",
       "mean    74697.500000     370.192426    1252.099842\n",
       "std     43127.054745     278.300951     144.050823\n",
       "min         0.000000       0.000000    1000.000000\n",
       "25%     37348.750000     138.187500    1130.000000\n",
       "50%     74697.500000     348.015000    1251.000000\n",
       "75%    112046.250000     559.552500    1380.000000\n",
       "max    149395.000000    1724.830000    1499.000000"
      ]
     },
     "metadata": {},
     "output_type": "display_data"
    }
   ],
   "source": [
    "show_df_description(internet)"
   ]
  },
  {
   "cell_type": "code",
   "execution_count": 8,
   "metadata": {},
   "outputs": [
    {
     "data": {
      "image/png": "[encoded data removed]",
      "text/plain": [
       "<Figure size 720x576 with 1 Axes>"
      ]
     },
     "metadata": {},
     "output_type": "display_data"
    }
   ],
   "source": [
    "internet.hist('mb_used', bins=50, figsize=(10, 8))\n",
    "plt.title('Распределение сессий по объемам трафика', fontsize=15, pad=10)\n",
    "plt.xlabel('Объем, мбайт', fontsize=13, labelpad=10)\n",
    "plt.ylabel('Количество сессий, шт.', fontsize=13, labelpad=10)\n",
    "init_internet_hist = plt.gcf()"
   ]
  },
  {
   "cell_type": "markdown",
   "metadata": {},
   "source": [
    "#### Наблюдения\n",
    "\n",
    "- В таблице нет пропусков\n",
    "- У дат в `session_date` неправильный тип данных. Должен быть `datetime` вместо строки.\n",
    "- Столбец `Unnamed: 0` дублирует индексы строчек. Избавимся от него на этапе предобработки.\n",
    "- Почти 30 тысяч несостоявшихся сессий (объем переданного трафика — 0 мегабайт). Так же, как и звонки, удалим их."
   ]
  },
  {
   "cell_type": "markdown",
   "metadata": {},
   "source": [
    "### Сообщения"
   ]
  },
  {
   "cell_type": "markdown",
   "metadata": {},
   "source": [
    "Таблица `messages` содержит следующие данные:\n",
    "\n",
    "- *id* — уникальный номер сообщения\n",
    "- *message_date* — дата сообщения\n",
    "- *user_id* — идентификатор пользователя, отправившего сообщение\n",
    "\n",
    "У сообщений нет свойств, для которых можно вывести статистику. Поэтому укажем в функции `show_df_description`, что статистика нам не нужна, добавив в вызов `statistics=False`."
   ]
  },
  {
   "cell_type": "code",
   "execution_count": 9,
   "metadata": {},
   "outputs": [
    {
     "name": "stdout",
     "output_type": "stream",
     "text": [
      "<class 'pandas.core.frame.DataFrame'>\n",
      "RangeIndex: 123036 entries, 0 to 123035\n",
      "Data columns (total 3 columns):\n",
      " #   Column        Non-Null Count   Dtype \n",
      "---  ------        --------------   ----- \n",
      " 0   id            123036 non-null  object\n",
      " 1   message_date  123036 non-null  object\n",
      " 2   user_id       123036 non-null  int64 \n",
      "dtypes: int64(1), object(2)\n",
      "memory usage: 2.8+ MB\n",
      "None\n"
     ]
    },
    {
     "data": {
      "text/html": [
       "<div>\n",
       "<style scoped>\n",
       "    .dataframe tbody tr th:only-of-type {\n",
       "        vertical-align: middle;\n",
       "    }\n",
       "\n",
       "    .dataframe tbody tr th {\n",
       "        vertical-align: top;\n",
       "    }\n",
       "\n",
       "    .dataframe thead th {\n",
       "        text-align: right;\n",
       "    }\n",
       "</style>\n",
       "<table border=\"1\" class=\"dataframe\">\n",
       "  <thead>\n",
       "    <tr style=\"text-align: right;\">\n",
       "      <th></th>\n",
       "      <th>id</th>\n",
       "      <th>message_date</th>\n",
       "      <th>user_id</th>\n",
       "    </tr>\n",
       "  </thead>\n",
       "  <tbody>\n",
       "    <tr>\n",
       "      <th>37469</th>\n",
       "      <td>1164_138</td>\n",
       "      <td>2018-10-06</td>\n",
       "      <td>1164</td>\n",
       "    </tr>\n",
       "    <tr>\n",
       "      <th>76314</th>\n",
       "      <td>1323_317</td>\n",
       "      <td>2018-08-13</td>\n",
       "      <td>1323</td>\n",
       "    </tr>\n",
       "    <tr>\n",
       "      <th>99567</th>\n",
       "      <td>1407_71</td>\n",
       "      <td>2018-08-15</td>\n",
       "      <td>1407</td>\n",
       "    </tr>\n",
       "    <tr>\n",
       "      <th>35394</th>\n",
       "      <td>1150_574</td>\n",
       "      <td>2018-08-09</td>\n",
       "      <td>1150</td>\n",
       "    </tr>\n",
       "    <tr>\n",
       "      <th>251</th>\n",
       "      <td>1000_251</td>\n",
       "      <td>2018-11-28</td>\n",
       "      <td>1000</td>\n",
       "    </tr>\n",
       "  </tbody>\n",
       "</table>\n",
       "</div>"
      ],
      "text/plain": [
       "             id message_date  user_id\n",
       "37469  1164_138   2018-10-06     1164\n",
       "76314  1323_317   2018-08-13     1323\n",
       "99567   1407_71   2018-08-15     1407\n",
       "35394  1150_574   2018-08-09     1150\n",
       "251    1000_251   2018-11-28     1000"
      ]
     },
     "metadata": {},
     "output_type": "display_data"
    }
   ],
   "source": [
    "show_df_description(messages, statistics=False) "
   ]
  },
  {
   "cell_type": "markdown",
   "metadata": {},
   "source": [
    "#### Наблюдения\n",
    "\n",
    "- В таблице нет пропусков\n",
    "- У дат в `message_date` неправильный тип данных. Должен быть `datetime` вместо строки."
   ]
  },
  {
   "cell_type": "markdown",
   "metadata": {},
   "source": [
    "### Пользователи"
   ]
  },
  {
   "cell_type": "markdown",
   "metadata": {},
   "source": [
    "Таблица `users` содержит следующие данные:\n",
    "\n",
    "- *user_id* — уникальный идентификатор пользователя\n",
    "- *first_name* — имя пользователя\n",
    "- *last_name* — фамилия пользователя\n",
    "- *age* — возраст пользователя (годы)\n",
    "- *reg_date* — дата подключения тарифа (день, месяц, год)\n",
    "- *churn_date* — дата прекращения пользования тарифом (если значение пропущено, то тариф ещё действовал на момент выгрузки данных)\n",
    "- *city* — город проживания пользователя\n",
    "- *tariff* — название тарифного плана"
   ]
  },
  {
   "cell_type": "code",
   "execution_count": 10,
   "metadata": {},
   "outputs": [
    {
     "name": "stdout",
     "output_type": "stream",
     "text": [
      "<class 'pandas.core.frame.DataFrame'>\n",
      "RangeIndex: 500 entries, 0 to 499\n",
      "Data columns (total 8 columns):\n",
      " #   Column      Non-Null Count  Dtype \n",
      "---  ------      --------------  ----- \n",
      " 0   user_id     500 non-null    int64 \n",
      " 1   age         500 non-null    int64 \n",
      " 2   churn_date  38 non-null     object\n",
      " 3   city        500 non-null    object\n",
      " 4   first_name  500 non-null    object\n",
      " 5   last_name   500 non-null    object\n",
      " 6   reg_date    500 non-null    object\n",
      " 7   tariff      500 non-null    object\n",
      "dtypes: int64(2), object(6)\n",
      "memory usage: 31.4+ KB\n",
      "None\n"
     ]
    },
    {
     "data": {
      "text/html": [
       "<div>\n",
       "<style scoped>\n",
       "    .dataframe tbody tr th:only-of-type {\n",
       "        vertical-align: middle;\n",
       "    }\n",
       "\n",
       "    .dataframe tbody tr th {\n",
       "        vertical-align: top;\n",
       "    }\n",
       "\n",
       "    .dataframe thead th {\n",
       "        text-align: right;\n",
       "    }\n",
       "</style>\n",
       "<table border=\"1\" class=\"dataframe\">\n",
       "  <thead>\n",
       "    <tr style=\"text-align: right;\">\n",
       "      <th></th>\n",
       "      <th>user_id</th>\n",
       "      <th>age</th>\n",
       "      <th>churn_date</th>\n",
       "      <th>city</th>\n",
       "      <th>first_name</th>\n",
       "      <th>last_name</th>\n",
       "      <th>reg_date</th>\n",
       "      <th>tariff</th>\n",
       "    </tr>\n",
       "  </thead>\n",
       "  <tbody>\n",
       "    <tr>\n",
       "      <th>4</th>\n",
       "      <td>1004</td>\n",
       "      <td>68</td>\n",
       "      <td>NaN</td>\n",
       "      <td>Новокузнецк</td>\n",
       "      <td>Татьяна</td>\n",
       "      <td>Авдеенко</td>\n",
       "      <td>2018-05-14</td>\n",
       "      <td>ultra</td>\n",
       "    </tr>\n",
       "    <tr>\n",
       "      <th>345</th>\n",
       "      <td>1345</td>\n",
       "      <td>31</td>\n",
       "      <td>NaN</td>\n",
       "      <td>Москва</td>\n",
       "      <td>Галина</td>\n",
       "      <td>Ёркина</td>\n",
       "      <td>2018-06-01</td>\n",
       "      <td>smart</td>\n",
       "    </tr>\n",
       "    <tr>\n",
       "      <th>430</th>\n",
       "      <td>1430</td>\n",
       "      <td>22</td>\n",
       "      <td>NaN</td>\n",
       "      <td>Тверь</td>\n",
       "      <td>Андрей</td>\n",
       "      <td>Авроров</td>\n",
       "      <td>2018-04-23</td>\n",
       "      <td>ultra</td>\n",
       "    </tr>\n",
       "    <tr>\n",
       "      <th>220</th>\n",
       "      <td>1220</td>\n",
       "      <td>59</td>\n",
       "      <td>NaN</td>\n",
       "      <td>Ростов-на-Дону</td>\n",
       "      <td>Рубен</td>\n",
       "      <td>Астапов</td>\n",
       "      <td>2018-11-22</td>\n",
       "      <td>smart</td>\n",
       "    </tr>\n",
       "    <tr>\n",
       "      <th>99</th>\n",
       "      <td>1099</td>\n",
       "      <td>67</td>\n",
       "      <td>NaN</td>\n",
       "      <td>Тольятти</td>\n",
       "      <td>Аюна</td>\n",
       "      <td>Сергеева</td>\n",
       "      <td>2018-03-16</td>\n",
       "      <td>ultra</td>\n",
       "    </tr>\n",
       "  </tbody>\n",
       "</table>\n",
       "</div>"
      ],
      "text/plain": [
       "     user_id  age churn_date            city first_name last_name    reg_date  \\\n",
       "4       1004   68        NaN     Новокузнецк    Татьяна  Авдеенко  2018-05-14   \n",
       "345     1345   31        NaN          Москва     Галина    Ёркина  2018-06-01   \n",
       "430     1430   22        NaN           Тверь     Андрей   Авроров  2018-04-23   \n",
       "220     1220   59        NaN  Ростов-на-Дону      Рубен   Астапов  2018-11-22   \n",
       "99      1099   67        NaN        Тольятти       Аюна  Сергеева  2018-03-16   \n",
       "\n",
       "    tariff  \n",
       "4    ultra  \n",
       "345  smart  \n",
       "430  ultra  \n",
       "220  smart  \n",
       "99   ultra  "
      ]
     },
     "metadata": {},
     "output_type": "display_data"
    },
    {
     "data": {
      "text/html": [
       "<div>\n",
       "<style scoped>\n",
       "    .dataframe tbody tr th:only-of-type {\n",
       "        vertical-align: middle;\n",
       "    }\n",
       "\n",
       "    .dataframe tbody tr th {\n",
       "        vertical-align: top;\n",
       "    }\n",
       "\n",
       "    .dataframe thead th {\n",
       "        text-align: right;\n",
       "    }\n",
       "</style>\n",
       "<table border=\"1\" class=\"dataframe\">\n",
       "  <thead>\n",
       "    <tr style=\"text-align: right;\">\n",
       "      <th></th>\n",
       "      <th>user_id</th>\n",
       "      <th>age</th>\n",
       "    </tr>\n",
       "  </thead>\n",
       "  <tbody>\n",
       "    <tr>\n",
       "      <th>count</th>\n",
       "      <td>500.000000</td>\n",
       "      <td>500.00000</td>\n",
       "    </tr>\n",
       "    <tr>\n",
       "      <th>mean</th>\n",
       "      <td>1249.500000</td>\n",
       "      <td>46.58800</td>\n",
       "    </tr>\n",
       "    <tr>\n",
       "      <th>std</th>\n",
       "      <td>144.481833</td>\n",
       "      <td>16.66763</td>\n",
       "    </tr>\n",
       "    <tr>\n",
       "      <th>min</th>\n",
       "      <td>1000.000000</td>\n",
       "      <td>18.00000</td>\n",
       "    </tr>\n",
       "    <tr>\n",
       "      <th>25%</th>\n",
       "      <td>1124.750000</td>\n",
       "      <td>32.00000</td>\n",
       "    </tr>\n",
       "    <tr>\n",
       "      <th>50%</th>\n",
       "      <td>1249.500000</td>\n",
       "      <td>46.00000</td>\n",
       "    </tr>\n",
       "    <tr>\n",
       "      <th>75%</th>\n",
       "      <td>1374.250000</td>\n",
       "      <td>62.00000</td>\n",
       "    </tr>\n",
       "    <tr>\n",
       "      <th>max</th>\n",
       "      <td>1499.000000</td>\n",
       "      <td>75.00000</td>\n",
       "    </tr>\n",
       "  </tbody>\n",
       "</table>\n",
       "</div>"
      ],
      "text/plain": [
       "           user_id        age\n",
       "count   500.000000  500.00000\n",
       "mean   1249.500000   46.58800\n",
       "std     144.481833   16.66763\n",
       "min    1000.000000   18.00000\n",
       "25%    1124.750000   32.00000\n",
       "50%    1249.500000   46.00000\n",
       "75%    1374.250000   62.00000\n",
       "max    1499.000000   75.00000"
      ]
     },
     "metadata": {},
     "output_type": "display_data"
    }
   ],
   "source": [
    "show_df_description(users)"
   ]
  },
  {
   "cell_type": "markdown",
   "metadata": {},
   "source": [
    "#### Наблюдения\n",
    "\n",
    "- В столбце `churn_date` полно пропусков: в нем всего 38 непустых значений. Но это хорошо: значит, от «Мегалайна» ушли всего 38 клиентов.\n",
    "- У дат в `reg_date` неправильный тип данных. Должен быть `datetime` вместо строки."
   ]
  },
  {
   "cell_type": "markdown",
   "metadata": {},
   "source": [
    "### Тарифы"
   ]
  },
  {
   "cell_type": "markdown",
   "metadata": {},
   "source": [
    "В таблице `tariffs` хранятся описания тарифов. Не будем подробно описывать ее, потому что из нее и так все понятно. "
   ]
  },
  {
   "cell_type": "code",
   "execution_count": 11,
   "metadata": {},
   "outputs": [
    {
     "data": {
      "text/html": [
       "<div>\n",
       "<style scoped>\n",
       "    .dataframe tbody tr th:only-of-type {\n",
       "        vertical-align: middle;\n",
       "    }\n",
       "\n",
       "    .dataframe tbody tr th {\n",
       "        vertical-align: top;\n",
       "    }\n",
       "\n",
       "    .dataframe thead th {\n",
       "        text-align: right;\n",
       "    }\n",
       "</style>\n",
       "<table border=\"1\" class=\"dataframe\">\n",
       "  <thead>\n",
       "    <tr style=\"text-align: right;\">\n",
       "      <th></th>\n",
       "      <th>messages_included</th>\n",
       "      <th>mb_per_month_included</th>\n",
       "      <th>minutes_included</th>\n",
       "      <th>rub_monthly_fee</th>\n",
       "      <th>rub_per_gb</th>\n",
       "      <th>rub_per_message</th>\n",
       "      <th>rub_per_minute</th>\n",
       "      <th>tariff_name</th>\n",
       "    </tr>\n",
       "  </thead>\n",
       "  <tbody>\n",
       "    <tr>\n",
       "      <th>0</th>\n",
       "      <td>50</td>\n",
       "      <td>15360</td>\n",
       "      <td>500</td>\n",
       "      <td>550</td>\n",
       "      <td>200</td>\n",
       "      <td>3</td>\n",
       "      <td>3</td>\n",
       "      <td>smart</td>\n",
       "    </tr>\n",
       "    <tr>\n",
       "      <th>1</th>\n",
       "      <td>1000</td>\n",
       "      <td>30720</td>\n",
       "      <td>3000</td>\n",
       "      <td>1950</td>\n",
       "      <td>150</td>\n",
       "      <td>1</td>\n",
       "      <td>1</td>\n",
       "      <td>ultra</td>\n",
       "    </tr>\n",
       "  </tbody>\n",
       "</table>\n",
       "</div>"
      ],
      "text/plain": [
       "   messages_included  mb_per_month_included  minutes_included  \\\n",
       "0                 50                  15360               500   \n",
       "1               1000                  30720              3000   \n",
       "\n",
       "   rub_monthly_fee  rub_per_gb  rub_per_message  rub_per_minute tariff_name  \n",
       "0              550         200                3               3       smart  \n",
       "1             1950         150                1               1       ultra  "
      ]
     },
     "execution_count": 11,
     "metadata": {},
     "output_type": "execute_result"
    }
   ],
   "source": [
    "tariffs"
   ]
  },
  {
   "cell_type": "markdown",
   "metadata": {},
   "source": [
    "### Вывод"
   ]
  },
  {
   "cell_type": "markdown",
   "metadata": {},
   "source": [
    "После первичного знакомства данные кажутся качественными. Мы нашли всего три проблемы:\n",
    "- во всех таблицах неправильный тип данных у дат,\n",
    "- в `internet` столбец `Unnamed: 0` дублирует индексы строчек. Избавимся от него на предобработке;\n",
    "- в `calls` и `internet` есть звонки и сеансы, которые, скорее всего, фактически не состоялись. Также избавимся от них."
   ]
  },
  {
   "cell_type": "markdown",
   "metadata": {},
   "source": [
    "[К содержанию](#Содержание)"
   ]
  },
  {
   "cell_type": "markdown",
   "metadata": {},
   "source": [
    "## 2. Подготовка данных<a name=\"2.-Подготовка-данных\"></a>"
   ]
  },
  {
   "cell_type": "markdown",
   "metadata": {},
   "source": [
    "Начнем подготовку данных с исправления проблем, которые мы нашли при знакомстве с данными."
   ]
  },
  {
   "cell_type": "markdown",
   "metadata": {},
   "source": [
    "### Удаление несостоявшихся звонков и интернет-сессий<a name=\"Удаление-несостоявшихся-звонков-и-интернет-сессий\"></a>"
   ]
  },
  {
   "cell_type": "markdown",
   "metadata": {},
   "source": [
    "Сразу после удаления строк будем проверять, что оно прошло успешно."
   ]
  },
  {
   "cell_type": "code",
   "execution_count": 12,
   "metadata": {},
   "outputs": [
    {
     "data": {
      "text/plain": [
       "id           0\n",
       "call_date    0\n",
       "duration     0\n",
       "user_id      0\n",
       "dtype: int64"
      ]
     },
     "execution_count": 12,
     "metadata": {},
     "output_type": "execute_result"
    }
   ],
   "source": [
    "calls = calls.drop(calls[calls['duration'] == 0].index).reset_index(drop = True)\n",
    "calls[calls['duration']==0].count()"
   ]
  },
  {
   "cell_type": "code",
   "execution_count": 13,
   "metadata": {},
   "outputs": [
    {
     "data": {
      "text/plain": [
       "Unnamed: 0      0\n",
       "id              0\n",
       "mb_used         0\n",
       "session_date    0\n",
       "user_id         0\n",
       "dtype: int64"
      ]
     },
     "execution_count": 13,
     "metadata": {},
     "output_type": "execute_result"
    }
   ],
   "source": [
    "internet = internet.drop(internet[internet['mb_used'] == 0].index).reset_index(drop = True)\n",
    "internet[internet['mb_used']==0].count()"
   ]
  },
  {
   "cell_type": "markdown",
   "metadata": {},
   "source": [
    "Здесь же избавимся от столбца `Unnamed: 0` в `internet`, который дублирует индексы таблицы."
   ]
  },
  {
   "cell_type": "code",
   "execution_count": 14,
   "metadata": {},
   "outputs": [
    {
     "data": {
      "text/html": [
       "<div>\n",
       "<style scoped>\n",
       "    .dataframe tbody tr th:only-of-type {\n",
       "        vertical-align: middle;\n",
       "    }\n",
       "\n",
       "    .dataframe tbody tr th {\n",
       "        vertical-align: top;\n",
       "    }\n",
       "\n",
       "    .dataframe thead th {\n",
       "        text-align: right;\n",
       "    }\n",
       "</style>\n",
       "<table border=\"1\" class=\"dataframe\">\n",
       "  <thead>\n",
       "    <tr style=\"text-align: right;\">\n",
       "      <th></th>\n",
       "      <th>id</th>\n",
       "      <th>mb_used</th>\n",
       "      <th>session_date</th>\n",
       "      <th>user_id</th>\n",
       "    </tr>\n",
       "  </thead>\n",
       "  <tbody>\n",
       "    <tr>\n",
       "      <th>95720</th>\n",
       "      <td>1375_175</td>\n",
       "      <td>656.62</td>\n",
       "      <td>2018-09-07</td>\n",
       "      <td>1375</td>\n",
       "    </tr>\n",
       "    <tr>\n",
       "      <th>75079</th>\n",
       "      <td>1294_176</td>\n",
       "      <td>1143.88</td>\n",
       "      <td>2018-07-01</td>\n",
       "      <td>1294</td>\n",
       "    </tr>\n",
       "    <tr>\n",
       "      <th>84306</th>\n",
       "      <td>1328_151</td>\n",
       "      <td>755.25</td>\n",
       "      <td>2018-12-19</td>\n",
       "      <td>1328</td>\n",
       "    </tr>\n",
       "    <tr>\n",
       "      <th>83383</th>\n",
       "      <td>1325_202</td>\n",
       "      <td>842.55</td>\n",
       "      <td>2018-07-19</td>\n",
       "      <td>1325</td>\n",
       "    </tr>\n",
       "    <tr>\n",
       "      <th>63148</th>\n",
       "      <td>1247_209</td>\n",
       "      <td>357.81</td>\n",
       "      <td>2018-11-05</td>\n",
       "      <td>1247</td>\n",
       "    </tr>\n",
       "  </tbody>\n",
       "</table>\n",
       "</div>"
      ],
      "text/plain": [
       "             id  mb_used session_date  user_id\n",
       "95720  1375_175   656.62   2018-09-07     1375\n",
       "75079  1294_176  1143.88   2018-07-01     1294\n",
       "84306  1328_151   755.25   2018-12-19     1328\n",
       "83383  1325_202   842.55   2018-07-19     1325\n",
       "63148  1247_209   357.81   2018-11-05     1247"
      ]
     },
     "execution_count": 14,
     "metadata": {},
     "output_type": "execute_result"
    }
   ],
   "source": [
    "internet = internet.drop(['Unnamed: 0'], axis='columns')\n",
    "internet.sample(5)"
   ]
  },
  {
   "cell_type": "markdown",
   "metadata": {},
   "source": [
    "### Округление длительности звонков и объема трафика<a name=\"Округление-длительности-звонков-и-объема-трафика\"></a>"
   ]
  },
  {
   "cell_type": "markdown",
   "metadata": {},
   "source": [
    "«Мегалайн» при подсчете использованных минут и мегабайтов округляет значения вверх. Округлим и наши данные."
   ]
  },
  {
   "cell_type": "code",
   "execution_count": 15,
   "metadata": {},
   "outputs": [
    {
     "data": {
      "text/html": [
       "<div>\n",
       "<style scoped>\n",
       "    .dataframe tbody tr th:only-of-type {\n",
       "        vertical-align: middle;\n",
       "    }\n",
       "\n",
       "    .dataframe tbody tr th {\n",
       "        vertical-align: top;\n",
       "    }\n",
       "\n",
       "    .dataframe thead th {\n",
       "        text-align: right;\n",
       "    }\n",
       "</style>\n",
       "<table border=\"1\" class=\"dataframe\">\n",
       "  <thead>\n",
       "    <tr style=\"text-align: right;\">\n",
       "      <th></th>\n",
       "      <th>id</th>\n",
       "      <th>call_date</th>\n",
       "      <th>duration</th>\n",
       "      <th>user_id</th>\n",
       "    </tr>\n",
       "  </thead>\n",
       "  <tbody>\n",
       "    <tr>\n",
       "      <th>54857</th>\n",
       "      <td>1172_431</td>\n",
       "      <td>2018-06-05</td>\n",
       "      <td>3.0</td>\n",
       "      <td>1172</td>\n",
       "    </tr>\n",
       "    <tr>\n",
       "      <th>40513</th>\n",
       "      <td>1126_1</td>\n",
       "      <td>2018-11-11</td>\n",
       "      <td>15.0</td>\n",
       "      <td>1126</td>\n",
       "    </tr>\n",
       "    <tr>\n",
       "      <th>14714</th>\n",
       "      <td>1049_720</td>\n",
       "      <td>2018-08-02</td>\n",
       "      <td>9.0</td>\n",
       "      <td>1049</td>\n",
       "    </tr>\n",
       "    <tr>\n",
       "      <th>100302</th>\n",
       "      <td>1321_268</td>\n",
       "      <td>2018-10-13</td>\n",
       "      <td>4.0</td>\n",
       "      <td>1321</td>\n",
       "    </tr>\n",
       "    <tr>\n",
       "      <th>87024</th>\n",
       "      <td>1280_242</td>\n",
       "      <td>2018-09-16</td>\n",
       "      <td>8.0</td>\n",
       "      <td>1280</td>\n",
       "    </tr>\n",
       "  </tbody>\n",
       "</table>\n",
       "</div>"
      ],
      "text/plain": [
       "              id   call_date  duration  user_id\n",
       "54857   1172_431  2018-06-05       3.0     1172\n",
       "40513     1126_1  2018-11-11      15.0     1126\n",
       "14714   1049_720  2018-08-02       9.0     1049\n",
       "100302  1321_268  2018-10-13       4.0     1321\n",
       "87024   1280_242  2018-09-16       8.0     1280"
      ]
     },
     "execution_count": 15,
     "metadata": {},
     "output_type": "execute_result"
    }
   ],
   "source": [
    "calls['duration'] = calls['duration'].apply(np.ceil)\n",
    "calls.sample(5)"
   ]
  },
  {
   "cell_type": "code",
   "execution_count": 16,
   "metadata": {},
   "outputs": [
    {
     "data": {
      "text/html": [
       "<div>\n",
       "<style scoped>\n",
       "    .dataframe tbody tr th:only-of-type {\n",
       "        vertical-align: middle;\n",
       "    }\n",
       "\n",
       "    .dataframe tbody tr th {\n",
       "        vertical-align: top;\n",
       "    }\n",
       "\n",
       "    .dataframe thead th {\n",
       "        text-align: right;\n",
       "    }\n",
       "</style>\n",
       "<table border=\"1\" class=\"dataframe\">\n",
       "  <thead>\n",
       "    <tr style=\"text-align: right;\">\n",
       "      <th></th>\n",
       "      <th>id</th>\n",
       "      <th>mb_used</th>\n",
       "      <th>session_date</th>\n",
       "      <th>user_id</th>\n",
       "    </tr>\n",
       "  </thead>\n",
       "  <tbody>\n",
       "    <tr>\n",
       "      <th>88361</th>\n",
       "      <td>1341_294</td>\n",
       "      <td>407.0</td>\n",
       "      <td>2018-07-07</td>\n",
       "      <td>1341</td>\n",
       "    </tr>\n",
       "    <tr>\n",
       "      <th>64302</th>\n",
       "      <td>1251_109</td>\n",
       "      <td>479.0</td>\n",
       "      <td>2018-10-26</td>\n",
       "      <td>1251</td>\n",
       "    </tr>\n",
       "    <tr>\n",
       "      <th>28586</th>\n",
       "      <td>1116_242</td>\n",
       "      <td>150.0</td>\n",
       "      <td>2018-07-25</td>\n",
       "      <td>1116</td>\n",
       "    </tr>\n",
       "    <tr>\n",
       "      <th>80294</th>\n",
       "      <td>1314_238</td>\n",
       "      <td>1150.0</td>\n",
       "      <td>2018-07-21</td>\n",
       "      <td>1314</td>\n",
       "    </tr>\n",
       "    <tr>\n",
       "      <th>27516</th>\n",
       "      <td>1111_77</td>\n",
       "      <td>341.0</td>\n",
       "      <td>2018-12-05</td>\n",
       "      <td>1111</td>\n",
       "    </tr>\n",
       "  </tbody>\n",
       "</table>\n",
       "</div>"
      ],
      "text/plain": [
       "             id  mb_used session_date  user_id\n",
       "88361  1341_294    407.0   2018-07-07     1341\n",
       "64302  1251_109    479.0   2018-10-26     1251\n",
       "28586  1116_242    150.0   2018-07-25     1116\n",
       "80294  1314_238   1150.0   2018-07-21     1314\n",
       "27516   1111_77    341.0   2018-12-05     1111"
      ]
     },
     "execution_count": 16,
     "metadata": {},
     "output_type": "execute_result"
    }
   ],
   "source": [
    "internet['mb_used'] = internet['mb_used'].apply(np.ceil)\n",
    "internet.sample(5)"
   ]
  },
  {
   "cell_type": "markdown",
   "metadata": {},
   "source": [
    "### Замена типа данных<a name=\"Замена-типа-данных\"></a>"
   ]
  },
  {
   "cell_type": "markdown",
   "metadata": {},
   "source": [
    "Теперь приведем данные к нужным типам. А именно:"
   ]
  },
  {
   "cell_type": "code",
   "execution_count": 17,
   "metadata": {},
   "outputs": [],
   "source": [
    "calls_type_dict = {\n",
    "    'id': 'object',\n",
    "    'duration': 'uint8',\n",
    "    'user_id': 'uint16'\n",
    "}\n",
    "\n",
    "internet_type_dict = {\n",
    "    'id': 'object',\n",
    "    'mb_used': 'uint16',\n",
    "    'user_id': 'uint16'\n",
    "}\n",
    "\n",
    "messages_type_dict = {\n",
    "    'id': 'object',\n",
    "    'user_id': 'uint16'\n",
    "}\n",
    "\n",
    "users_type_dict = {\n",
    "    'user_id': 'uint16',\n",
    "    'age': 'uint8',\n",
    "    'city': 'object',\n",
    "    'first_name': 'object',\n",
    "    'last_name': 'object',\n",
    "    'tariff': 'object',\n",
    "}"
   ]
  },
  {
   "cell_type": "code",
   "execution_count": 18,
   "metadata": {},
   "outputs": [],
   "source": [
    "calls = calls.astype(calls_type_dict, errors = 'ignore')\n",
    "calls['call_date'] = pd.to_datetime(calls['call_date'], format='%Y-%m-%d')\n",
    "\n",
    "internet = internet.astype(internet_type_dict, errors = 'ignore')\n",
    "internet['session_date'] = pd.to_datetime(internet['session_date'], format='%Y-%m-%d')\n",
    "\n",
    "messages = messages.astype(messages_type_dict, errors = 'ignore')\n",
    "messages['message_date'] = pd.to_datetime(messages['message_date'], format='%Y-%m-%d')\n",
    "\n",
    "users = users.astype(users_type_dict, errors = 'ignore')\n",
    "users['churn_date'] = pd.to_datetime(users['churn_date'], format='%Y-%m-%d')\n",
    "users['reg_date'] = pd.to_datetime(users['reg_date'], format='%Y-%m-%d')"
   ]
  },
  {
   "cell_type": "markdown",
   "metadata": {},
   "source": [
    "Проверим, как прошли преобразования."
   ]
  },
  {
   "cell_type": "code",
   "execution_count": 19,
   "metadata": {},
   "outputs": [],
   "source": [
    "def print_dtypes(df, heading):\n",
    "    print('\\033[1m' + heading + '\\033[0m')\n",
    "    display(df.dtypes)\n",
    "    print()"
   ]
  },
  {
   "cell_type": "code",
   "execution_count": 20,
   "metadata": {},
   "outputs": [
    {
     "name": "stdout",
     "output_type": "stream",
     "text": [
      "\u001b[1mЗвонки\u001b[0m\n"
     ]
    },
    {
     "data": {
      "text/plain": [
       "id                   object\n",
       "call_date    datetime64[ns]\n",
       "duration              uint8\n",
       "user_id              uint16\n",
       "dtype: object"
      ]
     },
     "metadata": {},
     "output_type": "display_data"
    },
    {
     "name": "stdout",
     "output_type": "stream",
     "text": [
      "\n",
      "\u001b[1mИнтернет\u001b[0m\n"
     ]
    },
    {
     "data": {
      "text/plain": [
       "id                      object\n",
       "mb_used                 uint16\n",
       "session_date    datetime64[ns]\n",
       "user_id                 uint16\n",
       "dtype: object"
      ]
     },
     "metadata": {},
     "output_type": "display_data"
    },
    {
     "name": "stdout",
     "output_type": "stream",
     "text": [
      "\n",
      "\u001b[1mСообщения\u001b[0m\n"
     ]
    },
    {
     "data": {
      "text/plain": [
       "id                      object\n",
       "message_date    datetime64[ns]\n",
       "user_id                 uint16\n",
       "dtype: object"
      ]
     },
     "metadata": {},
     "output_type": "display_data"
    },
    {
     "name": "stdout",
     "output_type": "stream",
     "text": [
      "\n",
      "\u001b[1mПользователи\u001b[0m\n"
     ]
    },
    {
     "data": {
      "text/plain": [
       "user_id               uint16\n",
       "age                    uint8\n",
       "churn_date    datetime64[ns]\n",
       "city                  object\n",
       "first_name            object\n",
       "last_name             object\n",
       "reg_date      datetime64[ns]\n",
       "tariff                object\n",
       "dtype: object"
      ]
     },
     "metadata": {},
     "output_type": "display_data"
    },
    {
     "name": "stdout",
     "output_type": "stream",
     "text": [
      "\n"
     ]
    }
   ],
   "source": [
    "print_dtypes(calls, 'Звонки')\n",
    "print_dtypes(internet, 'Интернет')\n",
    "print_dtypes(messages, 'Сообщения')\n",
    "print_dtypes(users, 'Пользователи')"
   ]
  },
  {
   "cell_type": "markdown",
   "metadata": {},
   "source": [
    "Все получилось так, как мы хотели, — теперь у всех данных правильные типы! Двигаемся дальше — к поиску дубликатов."
   ]
  },
  {
   "cell_type": "markdown",
   "metadata": {},
   "source": [
    "### Обработка дубликатов<a name=\"Обработка-дубликатов\"></a>"
   ]
  },
  {
   "cell_type": "markdown",
   "metadata": {},
   "source": [
    "Посмотрим, есть ли дубликаты в таблицах со звонками, сообщениями и использованным интернетом. В них нет строковых данных, а значит, число дубликатов можно вычислить, просто применив к датафреймам методы `duplicated()` и `sum()`."
   ]
  },
  {
   "cell_type": "code",
   "execution_count": 21,
   "metadata": {},
   "outputs": [
    {
     "name": "stdout",
     "output_type": "stream",
     "text": [
      "\u001b[1mЧисло дубликатов\u001b[0m\n",
      "Звонки: 0\n",
      "Сообщения: 0\n",
      "Интернет: 0\n"
     ]
    }
   ],
   "source": [
    "print('\\033[1m' + 'Число дубликатов' + '\\033[0m')\n",
    "print('Звонки:', calls.duplicated().sum())\n",
    "print('Сообщения:', messages.duplicated().sum())\n",
    "print('Интернет:', internet.duplicated().sum())"
   ]
  },
  {
   "cell_type": "markdown",
   "metadata": {},
   "source": [
    "Супер, в датафреймах `calls`, `messages` и `internet` дубликатов нет. Переходим к клиентам."
   ]
  },
  {
   "cell_type": "markdown",
   "metadata": {},
   "source": [
    "Датафрейм `users` обработаем по следующей схеме:\n",
    "1. Сохраним столбцы `city`, `first_name` и `last_name` в соответствующие переменные.\n",
    "2. Приведем эти столбцы в датафрейме к нижнему регистру.\n",
    "3. Заменим все «ё» на «е».\n",
    "4. Проверим, есть ли в преобразованном датафрейме дубликаты. Если есть, удалим строчки с ними.\n",
    "5. Присвоим столбцам `city`, `first_name` и `last_name` значения соответсвующих переменных.\n",
    "6. Сбросим индексы датафрейма, если окажется, что в нем были дубликаты.\n",
    "\n",
    "Пункты 2 и 3 нужны, чтобы исключить ошибки ввода. А 1 и 5 — чтобы имена собственные оставались опрятными с заглавными буквами 🙂"
   ]
  },
  {
   "cell_type": "code",
   "execution_count": 22,
   "metadata": {},
   "outputs": [
    {
     "data": {
      "text/plain": [
       "0"
      ]
     },
     "execution_count": 22,
     "metadata": {},
     "output_type": "execute_result"
    }
   ],
   "source": [
    "#1 \n",
    "initial_city = users['city'].copy()\n",
    "initial_first_name = users['first_name'].copy()\n",
    "initial_last_name = users['last_name'].copy()\n",
    "\n",
    "#2\n",
    "users['city'] = users['city'].str.lower()\n",
    "users['first_name'] = users['first_name'].str.lower()\n",
    "users['last_name'] = users['last_name'].str.lower()\n",
    "\n",
    "#3\n",
    "def fix_yo(string):\n",
    "    fixed_name = ''\n",
    "    \n",
    "    for symbol in string:\n",
    "        if symbol == 'ё':\n",
    "            fixed_name += 'е'   \n",
    "        else:\n",
    "            fixed_name += symbol\n",
    "    return fixed_name\n",
    "    \n",
    "users['city'] = users['city'].apply(fix_yo)\n",
    "users['first_name'] = users['first_name'].apply(fix_yo)\n",
    "users['last_name'] = users['last_name'].apply(fix_yo)\n",
    "\n",
    "#4\n",
    "users.duplicated().sum()"
   ]
  },
  {
   "cell_type": "markdown",
   "metadata": {},
   "source": [
    "Оказалось, что и в таблице с пользователями дубликатов нет."
   ]
  },
  {
   "cell_type": "code",
   "execution_count": 23,
   "metadata": {},
   "outputs": [],
   "source": [
    "#5\n",
    "users['city'] = initial_city\n",
    "users['first_name'] = initial_first_name\n",
    "users['last_name'] = initial_last_name"
   ]
  },
  {
   "cell_type": "markdown",
   "metadata": {},
   "source": [
    "Теперь, когда предобработка закончена, перейдем к расчету нужных параметров."
   ]
  },
  {
   "cell_type": "markdown",
   "metadata": {},
   "source": [
    "### Обогащение данных<a name=\"Обогащение-данных\"></a>"
   ]
  },
  {
   "cell_type": "markdown",
   "metadata": {},
   "source": [
    "Для найдем:\n",
    "* количество сделанных звонков и израсходованных минут разговора по месяцам;\n",
    "* количество отправленных сообщений по месяцам;\n",
    "* объем израсходованного интернет-трафика по месяцам;\n",
    "* помесячную выручку."
   ]
  },
  {
   "cell_type": "markdown",
   "metadata": {},
   "source": [
    "#### Подсчет израсходованных минут, сообщений и интернет-трафика по мясацам для каждого пользователя<a name=\"Подсчет-израсходованных-минут,-сообщений-и-интернет-трафика-по-мясацам-для-каждого-пользователя\"></a>"
   ]
  },
  {
   "cell_type": "markdown",
   "metadata": {},
   "source": [
    "Для первых трех задач нам подойдет простая сводная таблица.\n",
    "\n",
    "1. Сгруппируем данные из `calls`, `messages` и `internet` по месяцам и клиентам, а в качестве значений будем использовать интересующие параметры.\n",
    "2. Применим к ним функции `count` и `sum`.\n",
    "3. Также сразу заменим автоматически выданные названия строчек и столбцов на более понятные."
   ]
  },
  {
   "cell_type": "code",
   "execution_count": 24,
   "metadata": {},
   "outputs": [
    {
     "data": {
      "text/html": [
       "<div>\n",
       "<style scoped>\n",
       "    .dataframe tbody tr th:only-of-type {\n",
       "        vertical-align: middle;\n",
       "    }\n",
       "\n",
       "    .dataframe tbody tr th {\n",
       "        vertical-align: top;\n",
       "    }\n",
       "\n",
       "    .dataframe thead th {\n",
       "        text-align: right;\n",
       "    }\n",
       "</style>\n",
       "<table border=\"1\" class=\"dataframe\">\n",
       "  <thead>\n",
       "    <tr style=\"text-align: right;\">\n",
       "      <th></th>\n",
       "      <th></th>\n",
       "      <th>calls_count</th>\n",
       "      <th>calls_duration_sum</th>\n",
       "    </tr>\n",
       "    <tr>\n",
       "      <th>month</th>\n",
       "      <th>user_id</th>\n",
       "      <th></th>\n",
       "      <th></th>\n",
       "    </tr>\n",
       "  </thead>\n",
       "  <tbody>\n",
       "    <tr>\n",
       "      <th>12</th>\n",
       "      <th>1314</th>\n",
       "      <td>53</td>\n",
       "      <td>483.0</td>\n",
       "    </tr>\n",
       "    <tr>\n",
       "      <th>9</th>\n",
       "      <th>1164</th>\n",
       "      <td>36</td>\n",
       "      <td>281.0</td>\n",
       "    </tr>\n",
       "    <tr>\n",
       "      <th>11</th>\n",
       "      <th>1280</th>\n",
       "      <td>68</td>\n",
       "      <td>603.0</td>\n",
       "    </tr>\n",
       "    <tr>\n",
       "      <th>7</th>\n",
       "      <th>1002</th>\n",
       "      <td>21</td>\n",
       "      <td>214.0</td>\n",
       "    </tr>\n",
       "    <tr>\n",
       "      <th>6</th>\n",
       "      <th>1340</th>\n",
       "      <td>55</td>\n",
       "      <td>535.0</td>\n",
       "    </tr>\n",
       "  </tbody>\n",
       "</table>\n",
       "</div>"
      ],
      "text/plain": [
       "               calls_count  calls_duration_sum\n",
       "month user_id                                 \n",
       "12    1314              53               483.0\n",
       "9     1164              36               281.0\n",
       "11    1280              68               603.0\n",
       "7     1002              21               214.0\n",
       "6     1340              55               535.0"
      ]
     },
     "execution_count": 24,
     "metadata": {},
     "output_type": "execute_result"
    }
   ],
   "source": [
    "calls_stats_by_users = calls.pivot_table(index=[calls['call_date'].dt.month, calls['user_id']],\n",
    "                                      values='duration', aggfunc=['count', 'sum'])\n",
    "calls_stats_by_users.index.names = ['month', 'user_id']\n",
    "calls_stats_by_users.columns = ['calls_count', 'calls_duration_sum']\n",
    "calls_stats_by_users.sample(5)"
   ]
  },
  {
   "cell_type": "code",
   "execution_count": 25,
   "metadata": {},
   "outputs": [
    {
     "data": {
      "text/html": [
       "<div>\n",
       "<style scoped>\n",
       "    .dataframe tbody tr th:only-of-type {\n",
       "        vertical-align: middle;\n",
       "    }\n",
       "\n",
       "    .dataframe tbody tr th {\n",
       "        vertical-align: top;\n",
       "    }\n",
       "\n",
       "    .dataframe thead th {\n",
       "        text-align: right;\n",
       "    }\n",
       "</style>\n",
       "<table border=\"1\" class=\"dataframe\">\n",
       "  <thead>\n",
       "    <tr style=\"text-align: right;\">\n",
       "      <th></th>\n",
       "      <th></th>\n",
       "      <th>messages_count</th>\n",
       "    </tr>\n",
       "    <tr>\n",
       "      <th>month</th>\n",
       "      <th>user_id</th>\n",
       "      <th></th>\n",
       "    </tr>\n",
       "  </thead>\n",
       "  <tbody>\n",
       "    <tr>\n",
       "      <th>5</th>\n",
       "      <th>1067</th>\n",
       "      <td>73</td>\n",
       "    </tr>\n",
       "    <tr>\n",
       "      <th>7</th>\n",
       "      <th>1172</th>\n",
       "      <td>5</td>\n",
       "    </tr>\n",
       "    <tr>\n",
       "      <th>10</th>\n",
       "      <th>1023</th>\n",
       "      <td>16</td>\n",
       "    </tr>\n",
       "    <tr>\n",
       "      <th>2</th>\n",
       "      <th>1433</th>\n",
       "      <td>85</td>\n",
       "    </tr>\n",
       "    <tr>\n",
       "      <th>5</th>\n",
       "      <th>1045</th>\n",
       "      <td>55</td>\n",
       "    </tr>\n",
       "  </tbody>\n",
       "</table>\n",
       "</div>"
      ],
      "text/plain": [
       "               messages_count\n",
       "month user_id                \n",
       "5     1067                 73\n",
       "7     1172                  5\n",
       "10    1023                 16\n",
       "2     1433                 85\n",
       "5     1045                 55"
      ]
     },
     "execution_count": 25,
     "metadata": {},
     "output_type": "execute_result"
    }
   ],
   "source": [
    "msgs_by_users = messages.pivot_table(index=[messages['message_date'].dt.month, messages['user_id']],\n",
    "                                           values='id', aggfunc='count')\n",
    "msgs_by_users.index.names = ['month', 'user_id']\n",
    "msgs_by_users.columns = ['messages_count']\n",
    "msgs_by_users.sample(5)"
   ]
  },
  {
   "cell_type": "code",
   "execution_count": 26,
   "metadata": {},
   "outputs": [
    {
     "data": {
      "text/html": [
       "<div>\n",
       "<style scoped>\n",
       "    .dataframe tbody tr th:only-of-type {\n",
       "        vertical-align: middle;\n",
       "    }\n",
       "\n",
       "    .dataframe tbody tr th {\n",
       "        vertical-align: top;\n",
       "    }\n",
       "\n",
       "    .dataframe thead th {\n",
       "        text-align: right;\n",
       "    }\n",
       "</style>\n",
       "<table border=\"1\" class=\"dataframe\">\n",
       "  <thead>\n",
       "    <tr style=\"text-align: right;\">\n",
       "      <th></th>\n",
       "      <th></th>\n",
       "      <th>mb_used_sum</th>\n",
       "    </tr>\n",
       "    <tr>\n",
       "      <th>month</th>\n",
       "      <th>user_id</th>\n",
       "      <th></th>\n",
       "    </tr>\n",
       "  </thead>\n",
       "  <tbody>\n",
       "    <tr>\n",
       "      <th>10</th>\n",
       "      <th>1350</th>\n",
       "      <td>24538</td>\n",
       "    </tr>\n",
       "    <tr>\n",
       "      <th>8</th>\n",
       "      <th>1144</th>\n",
       "      <td>15483</td>\n",
       "    </tr>\n",
       "    <tr>\n",
       "      <th>10</th>\n",
       "      <th>1298</th>\n",
       "      <td>22354</td>\n",
       "    </tr>\n",
       "    <tr>\n",
       "      <th>3</th>\n",
       "      <th>1468</th>\n",
       "      <td>5772</td>\n",
       "    </tr>\n",
       "    <tr>\n",
       "      <th>8</th>\n",
       "      <th>1266</th>\n",
       "      <td>16439</td>\n",
       "    </tr>\n",
       "  </tbody>\n",
       "</table>\n",
       "</div>"
      ],
      "text/plain": [
       "               mb_used_sum\n",
       "month user_id             \n",
       "10    1350           24538\n",
       "8     1144           15483\n",
       "10    1298           22354\n",
       "3     1468            5772\n",
       "8     1266           16439"
      ]
     },
     "execution_count": 26,
     "metadata": {},
     "output_type": "execute_result"
    }
   ],
   "source": [
    "internet_usage_by_users = internet.pivot_table(index=[internet['session_date'].dt.month, internet['user_id']],\n",
    "                                            values='mb_used', aggfunc='sum')\n",
    "internet_usage_by_users.index.names = ['month', 'user_id']\n",
    "internet_usage_by_users.columns = ['mb_used_sum']\n",
    "internet_usage_by_users.sample(5)"
   ]
  },
  {
   "cell_type": "markdown",
   "metadata": {},
   "source": [
    "#### Объединение данных в одну таблицу"
   ]
  },
  {
   "cell_type": "markdown",
   "metadata": {},
   "source": [
    "Чтобы посчитать помесячную выручку с каждого клиента, нам понадобятся данные из таблиц `users` и `tariffs`, а также из свободных таблиц, которые мы получили на прошлом шаге. Объединим их все в один большой датафрейм следующим образом:\n",
    "\n",
    "1. Объединим сводные таблицы со звонками, сообщениями и интернетом в одну `monthly_services_usage_by_users`. Это легко сделать с помощью метода `join()`, так как у них одинаковые мультииндексы. Атрибут `how` укажем как `'outer'` — так пользователи сообщений и интернета, которые не совершали звонков, не потеряются.\n",
    "2. Сбросим мультииндексы до обычных, как у других таблиц.\n",
    "3. Объединим таблицы `users` и `tariffs` по столбцам `tariff` и `tariff_name` соответтвенно. Сохраним результат в переменную `users_tariffs`.\n",
    "4. Избавимся от столбца `tariff_name`, так как он дублирует `tariff`.\n",
    "5. Объединим `users_tariffs` и `monthly_services_usage_by_users` по столбцу `user_id` и назовем получившуюся таблицу `full_data`."
   ]
  },
  {
   "cell_type": "code",
   "execution_count": 27,
   "metadata": {},
   "outputs": [
    {
     "data": {
      "text/html": [
       "<div>\n",
       "<style scoped>\n",
       "    .dataframe tbody tr th:only-of-type {\n",
       "        vertical-align: middle;\n",
       "    }\n",
       "\n",
       "    .dataframe tbody tr th {\n",
       "        vertical-align: top;\n",
       "    }\n",
       "\n",
       "    .dataframe thead th {\n",
       "        text-align: right;\n",
       "    }\n",
       "</style>\n",
       "<table border=\"1\" class=\"dataframe\">\n",
       "  <thead>\n",
       "    <tr style=\"text-align: right;\">\n",
       "      <th></th>\n",
       "      <th>month</th>\n",
       "      <th>user_id</th>\n",
       "      <th>calls_count</th>\n",
       "      <th>calls_duration_sum</th>\n",
       "      <th>messages_count</th>\n",
       "      <th>mb_used_sum</th>\n",
       "    </tr>\n",
       "  </thead>\n",
       "  <tbody>\n",
       "    <tr>\n",
       "      <th>2005</th>\n",
       "      <td>10</td>\n",
       "      <td>1166</td>\n",
       "      <td>47.0</td>\n",
       "      <td>425.0</td>\n",
       "      <td>115.0</td>\n",
       "      <td>13695.0</td>\n",
       "    </tr>\n",
       "    <tr>\n",
       "      <th>801</th>\n",
       "      <td>6</td>\n",
       "      <td>1375</td>\n",
       "      <td>105.0</td>\n",
       "      <td>1045.0</td>\n",
       "      <td>72.0</td>\n",
       "      <td>20343.0</td>\n",
       "    </tr>\n",
       "    <tr>\n",
       "      <th>668</th>\n",
       "      <td>6</td>\n",
       "      <td>1098</td>\n",
       "      <td>14.0</td>\n",
       "      <td>101.0</td>\n",
       "      <td>5.0</td>\n",
       "      <td>8261.0</td>\n",
       "    </tr>\n",
       "    <tr>\n",
       "      <th>1827</th>\n",
       "      <td>9</td>\n",
       "      <td>1439</td>\n",
       "      <td>54.0</td>\n",
       "      <td>487.0</td>\n",
       "      <td>10.0</td>\n",
       "      <td>28670.0</td>\n",
       "    </tr>\n",
       "    <tr>\n",
       "      <th>1023</th>\n",
       "      <td>7</td>\n",
       "      <td>1269</td>\n",
       "      <td>14.0</td>\n",
       "      <td>145.0</td>\n",
       "      <td>14.0</td>\n",
       "      <td>9861.0</td>\n",
       "    </tr>\n",
       "  </tbody>\n",
       "</table>\n",
       "</div>"
      ],
      "text/plain": [
       "      month  user_id  calls_count  calls_duration_sum  messages_count  \\\n",
       "2005     10     1166         47.0               425.0           115.0   \n",
       "801       6     1375        105.0              1045.0            72.0   \n",
       "668       6     1098         14.0               101.0             5.0   \n",
       "1827      9     1439         54.0               487.0            10.0   \n",
       "1023      7     1269         14.0               145.0            14.0   \n",
       "\n",
       "      mb_used_sum  \n",
       "2005      13695.0  \n",
       "801       20343.0  \n",
       "668        8261.0  \n",
       "1827      28670.0  \n",
       "1023       9861.0  "
      ]
     },
     "execution_count": 27,
     "metadata": {},
     "output_type": "execute_result"
    }
   ],
   "source": [
    "# 1, 2\n",
    "monthly_services_usage_by_users = (calls_stats_by_users\n",
    "                                   .join([msgs_by_users, internet_usage_by_users], how='outer')\n",
    "                                   .reset_index())\n",
    "\n",
    "monthly_services_usage_by_users.sample(5)"
   ]
  },
  {
   "cell_type": "code",
   "execution_count": 28,
   "metadata": {},
   "outputs": [
    {
     "data": {
      "text/html": [
       "<div>\n",
       "<style scoped>\n",
       "    .dataframe tbody tr th:only-of-type {\n",
       "        vertical-align: middle;\n",
       "    }\n",
       "\n",
       "    .dataframe tbody tr th {\n",
       "        vertical-align: top;\n",
       "    }\n",
       "\n",
       "    .dataframe thead th {\n",
       "        text-align: right;\n",
       "    }\n",
       "</style>\n",
       "<table border=\"1\" class=\"dataframe\">\n",
       "  <thead>\n",
       "    <tr style=\"text-align: right;\">\n",
       "      <th></th>\n",
       "      <th>user_id</th>\n",
       "      <th>age</th>\n",
       "      <th>churn_date</th>\n",
       "      <th>city</th>\n",
       "      <th>first_name</th>\n",
       "      <th>last_name</th>\n",
       "      <th>reg_date</th>\n",
       "      <th>tariff</th>\n",
       "      <th>messages_included</th>\n",
       "      <th>mb_per_month_included</th>\n",
       "      <th>minutes_included</th>\n",
       "      <th>rub_monthly_fee</th>\n",
       "      <th>rub_per_gb</th>\n",
       "      <th>rub_per_message</th>\n",
       "      <th>rub_per_minute</th>\n",
       "    </tr>\n",
       "  </thead>\n",
       "  <tbody>\n",
       "    <tr>\n",
       "      <th>225</th>\n",
       "      <td>1225</td>\n",
       "      <td>71</td>\n",
       "      <td>NaT</td>\n",
       "      <td>Оренбург</td>\n",
       "      <td>Даниэла</td>\n",
       "      <td>Горбачева</td>\n",
       "      <td>2018-04-26</td>\n",
       "      <td>ultra</td>\n",
       "      <td>1000</td>\n",
       "      <td>30720</td>\n",
       "      <td>3000</td>\n",
       "      <td>1950</td>\n",
       "      <td>150</td>\n",
       "      <td>1</td>\n",
       "      <td>1</td>\n",
       "    </tr>\n",
       "    <tr>\n",
       "      <th>83</th>\n",
       "      <td>1083</td>\n",
       "      <td>24</td>\n",
       "      <td>NaT</td>\n",
       "      <td>Сочи</td>\n",
       "      <td>Рустэм</td>\n",
       "      <td>Галкин</td>\n",
       "      <td>2018-04-24</td>\n",
       "      <td>smart</td>\n",
       "      <td>50</td>\n",
       "      <td>15360</td>\n",
       "      <td>500</td>\n",
       "      <td>550</td>\n",
       "      <td>200</td>\n",
       "      <td>3</td>\n",
       "      <td>3</td>\n",
       "    </tr>\n",
       "    <tr>\n",
       "      <th>415</th>\n",
       "      <td>1415</td>\n",
       "      <td>41</td>\n",
       "      <td>NaT</td>\n",
       "      <td>Москва</td>\n",
       "      <td>Андрей</td>\n",
       "      <td>Лукин</td>\n",
       "      <td>2018-06-29</td>\n",
       "      <td>ultra</td>\n",
       "      <td>1000</td>\n",
       "      <td>30720</td>\n",
       "      <td>3000</td>\n",
       "      <td>1950</td>\n",
       "      <td>150</td>\n",
       "      <td>1</td>\n",
       "      <td>1</td>\n",
       "    </tr>\n",
       "    <tr>\n",
       "      <th>112</th>\n",
       "      <td>1112</td>\n",
       "      <td>51</td>\n",
       "      <td>NaT</td>\n",
       "      <td>Ульяновск</td>\n",
       "      <td>Арнольд</td>\n",
       "      <td>Казанцев</td>\n",
       "      <td>2018-09-04</td>\n",
       "      <td>smart</td>\n",
       "      <td>50</td>\n",
       "      <td>15360</td>\n",
       "      <td>500</td>\n",
       "      <td>550</td>\n",
       "      <td>200</td>\n",
       "      <td>3</td>\n",
       "      <td>3</td>\n",
       "    </tr>\n",
       "    <tr>\n",
       "      <th>86</th>\n",
       "      <td>1086</td>\n",
       "      <td>73</td>\n",
       "      <td>NaT</td>\n",
       "      <td>Волгоград</td>\n",
       "      <td>Ириней</td>\n",
       "      <td>Аксёнов</td>\n",
       "      <td>2018-04-26</td>\n",
       "      <td>smart</td>\n",
       "      <td>50</td>\n",
       "      <td>15360</td>\n",
       "      <td>500</td>\n",
       "      <td>550</td>\n",
       "      <td>200</td>\n",
       "      <td>3</td>\n",
       "      <td>3</td>\n",
       "    </tr>\n",
       "  </tbody>\n",
       "</table>\n",
       "</div>"
      ],
      "text/plain": [
       "     user_id  age churn_date       city first_name  last_name   reg_date  \\\n",
       "225     1225   71        NaT   Оренбург    Даниэла  Горбачева 2018-04-26   \n",
       "83      1083   24        NaT       Сочи     Рустэм     Галкин 2018-04-24   \n",
       "415     1415   41        NaT     Москва     Андрей      Лукин 2018-06-29   \n",
       "112     1112   51        NaT  Ульяновск    Арнольд   Казанцев 2018-09-04   \n",
       "86      1086   73        NaT  Волгоград     Ириней    Аксёнов 2018-04-26   \n",
       "\n",
       "    tariff  messages_included  mb_per_month_included  minutes_included  \\\n",
       "225  ultra               1000                  30720              3000   \n",
       "83   smart                 50                  15360               500   \n",
       "415  ultra               1000                  30720              3000   \n",
       "112  smart                 50                  15360               500   \n",
       "86   smart                 50                  15360               500   \n",
       "\n",
       "     rub_monthly_fee  rub_per_gb  rub_per_message  rub_per_minute  \n",
       "225             1950         150                1               1  \n",
       "83               550         200                3               3  \n",
       "415             1950         150                1               1  \n",
       "112              550         200                3               3  \n",
       "86               550         200                3               3  "
      ]
     },
     "execution_count": 28,
     "metadata": {},
     "output_type": "execute_result"
    }
   ],
   "source": [
    "# 3, 4\n",
    "users_tariffs = (users\n",
    "                 .merge(tariffs, left_on='tariff', right_on='tariff_name', how='left')\n",
    "                 .drop('tariff_name', axis='columns'))\n",
    "\n",
    "users_tariffs.sample(5)"
   ]
  },
  {
   "cell_type": "code",
   "execution_count": 29,
   "metadata": {},
   "outputs": [],
   "source": [
    "# 5\n",
    "full_data = users_tariffs.merge(monthly_services_usage_by_users, on='user_id', how='left')"
   ]
  },
  {
   "cell_type": "markdown",
   "metadata": {},
   "source": [
    "Теперь у нас есть таблица со всеми необходимыми данными для расчета выручки. Изучим ее."
   ]
  },
  {
   "cell_type": "code",
   "execution_count": 30,
   "metadata": {
    "scrolled": false
   },
   "outputs": [
    {
     "name": "stdout",
     "output_type": "stream",
     "text": [
      "<class 'pandas.core.frame.DataFrame'>\n",
      "Int64Index: 3216 entries, 0 to 3215\n",
      "Data columns (total 20 columns):\n",
      " #   Column                 Non-Null Count  Dtype         \n",
      "---  ------                 --------------  -----         \n",
      " 0   user_id                3216 non-null   uint16        \n",
      " 1   age                    3216 non-null   uint8         \n",
      " 2   churn_date             189 non-null    datetime64[ns]\n",
      " 3   city                   3216 non-null   object        \n",
      " 4   first_name             3216 non-null   object        \n",
      " 5   last_name              3216 non-null   object        \n",
      " 6   reg_date               3216 non-null   datetime64[ns]\n",
      " 7   tariff                 3216 non-null   object        \n",
      " 8   messages_included      3216 non-null   int64         \n",
      " 9   mb_per_month_included  3216 non-null   int64         \n",
      " 10  minutes_included       3216 non-null   int64         \n",
      " 11  rub_monthly_fee        3216 non-null   int64         \n",
      " 12  rub_per_gb             3216 non-null   int64         \n",
      " 13  rub_per_message        3216 non-null   int64         \n",
      " 14  rub_per_minute         3216 non-null   int64         \n",
      " 15  month                  3214 non-null   float64       \n",
      " 16  calls_count            3168 non-null   float64       \n",
      " 17  calls_duration_sum     3168 non-null   float64       \n",
      " 18  messages_count         2717 non-null   float64       \n",
      " 19  mb_used_sum            3201 non-null   float64       \n",
      "dtypes: datetime64[ns](2), float64(5), int64(7), object(4), uint16(1), uint8(1)\n",
      "memory usage: 486.8+ KB\n",
      "None\n"
     ]
    },
    {
     "data": {
      "text/html": [
       "<div>\n",
       "<style scoped>\n",
       "    .dataframe tbody tr th:only-of-type {\n",
       "        vertical-align: middle;\n",
       "    }\n",
       "\n",
       "    .dataframe tbody tr th {\n",
       "        vertical-align: top;\n",
       "    }\n",
       "\n",
       "    .dataframe thead th {\n",
       "        text-align: right;\n",
       "    }\n",
       "</style>\n",
       "<table border=\"1\" class=\"dataframe\">\n",
       "  <thead>\n",
       "    <tr style=\"text-align: right;\">\n",
       "      <th></th>\n",
       "      <th>user_id</th>\n",
       "      <th>age</th>\n",
       "      <th>churn_date</th>\n",
       "      <th>city</th>\n",
       "      <th>first_name</th>\n",
       "      <th>last_name</th>\n",
       "      <th>reg_date</th>\n",
       "      <th>tariff</th>\n",
       "      <th>messages_included</th>\n",
       "      <th>mb_per_month_included</th>\n",
       "      <th>minutes_included</th>\n",
       "      <th>rub_monthly_fee</th>\n",
       "      <th>rub_per_gb</th>\n",
       "      <th>rub_per_message</th>\n",
       "      <th>rub_per_minute</th>\n",
       "      <th>month</th>\n",
       "      <th>calls_count</th>\n",
       "      <th>calls_duration_sum</th>\n",
       "      <th>messages_count</th>\n",
       "      <th>mb_used_sum</th>\n",
       "    </tr>\n",
       "  </thead>\n",
       "  <tbody>\n",
       "    <tr>\n",
       "      <th>973</th>\n",
       "      <td>1153</td>\n",
       "      <td>59</td>\n",
       "      <td>NaT</td>\n",
       "      <td>Ульяновск</td>\n",
       "      <td>Евдокия</td>\n",
       "      <td>Одинцова</td>\n",
       "      <td>2018-10-18</td>\n",
       "      <td>smart</td>\n",
       "      <td>50</td>\n",
       "      <td>15360</td>\n",
       "      <td>500</td>\n",
       "      <td>550</td>\n",
       "      <td>200</td>\n",
       "      <td>3</td>\n",
       "      <td>3</td>\n",
       "      <td>12.0</td>\n",
       "      <td>82.0</td>\n",
       "      <td>648.0</td>\n",
       "      <td>NaN</td>\n",
       "      <td>26121.0</td>\n",
       "    </tr>\n",
       "    <tr>\n",
       "      <th>2061</th>\n",
       "      <td>1325</td>\n",
       "      <td>63</td>\n",
       "      <td>NaT</td>\n",
       "      <td>Новосибирск</td>\n",
       "      <td>Артём</td>\n",
       "      <td>Федосеев</td>\n",
       "      <td>2018-06-12</td>\n",
       "      <td>ultra</td>\n",
       "      <td>1000</td>\n",
       "      <td>30720</td>\n",
       "      <td>3000</td>\n",
       "      <td>1950</td>\n",
       "      <td>150</td>\n",
       "      <td>1</td>\n",
       "      <td>1</td>\n",
       "      <td>8.0</td>\n",
       "      <td>63.0</td>\n",
       "      <td>575.0</td>\n",
       "      <td>19.0</td>\n",
       "      <td>25528.0</td>\n",
       "    </tr>\n",
       "    <tr>\n",
       "      <th>848</th>\n",
       "      <td>1134</td>\n",
       "      <td>65</td>\n",
       "      <td>NaT</td>\n",
       "      <td>Красноярск</td>\n",
       "      <td>Марьяна</td>\n",
       "      <td>Авросимова</td>\n",
       "      <td>2018-01-16</td>\n",
       "      <td>smart</td>\n",
       "      <td>50</td>\n",
       "      <td>15360</td>\n",
       "      <td>500</td>\n",
       "      <td>550</td>\n",
       "      <td>200</td>\n",
       "      <td>3</td>\n",
       "      <td>3</td>\n",
       "      <td>3.0</td>\n",
       "      <td>46.0</td>\n",
       "      <td>461.0</td>\n",
       "      <td>57.0</td>\n",
       "      <td>20251.0</td>\n",
       "    </tr>\n",
       "    <tr>\n",
       "      <th>2165</th>\n",
       "      <td>1340</td>\n",
       "      <td>50</td>\n",
       "      <td>NaT</td>\n",
       "      <td>Пенза</td>\n",
       "      <td>Тимофей</td>\n",
       "      <td>Алютин</td>\n",
       "      <td>2018-01-30</td>\n",
       "      <td>smart</td>\n",
       "      <td>50</td>\n",
       "      <td>15360</td>\n",
       "      <td>500</td>\n",
       "      <td>550</td>\n",
       "      <td>200</td>\n",
       "      <td>3</td>\n",
       "      <td>3</td>\n",
       "      <td>10.0</td>\n",
       "      <td>42.0</td>\n",
       "      <td>352.0</td>\n",
       "      <td>11.0</td>\n",
       "      <td>18986.0</td>\n",
       "    </tr>\n",
       "    <tr>\n",
       "      <th>3152</th>\n",
       "      <td>1489</td>\n",
       "      <td>35</td>\n",
       "      <td>NaT</td>\n",
       "      <td>Санкт-Петербург</td>\n",
       "      <td>Павел</td>\n",
       "      <td>Гончаров</td>\n",
       "      <td>2018-08-15</td>\n",
       "      <td>smart</td>\n",
       "      <td>50</td>\n",
       "      <td>15360</td>\n",
       "      <td>500</td>\n",
       "      <td>550</td>\n",
       "      <td>200</td>\n",
       "      <td>3</td>\n",
       "      <td>3</td>\n",
       "      <td>9.0</td>\n",
       "      <td>NaN</td>\n",
       "      <td>NaN</td>\n",
       "      <td>32.0</td>\n",
       "      <td>17232.0</td>\n",
       "    </tr>\n",
       "  </tbody>\n",
       "</table>\n",
       "</div>"
      ],
      "text/plain": [
       "      user_id  age churn_date             city first_name   last_name  \\\n",
       "973      1153   59        NaT        Ульяновск    Евдокия    Одинцова   \n",
       "2061     1325   63        NaT      Новосибирск      Артём    Федосеев   \n",
       "848      1134   65        NaT       Красноярск    Марьяна  Авросимова   \n",
       "2165     1340   50        NaT            Пенза    Тимофей      Алютин   \n",
       "3152     1489   35        NaT  Санкт-Петербург      Павел    Гончаров   \n",
       "\n",
       "       reg_date tariff  messages_included  mb_per_month_included  \\\n",
       "973  2018-10-18  smart                 50                  15360   \n",
       "2061 2018-06-12  ultra               1000                  30720   \n",
       "848  2018-01-16  smart                 50                  15360   \n",
       "2165 2018-01-30  smart                 50                  15360   \n",
       "3152 2018-08-15  smart                 50                  15360   \n",
       "\n",
       "      minutes_included  rub_monthly_fee  rub_per_gb  rub_per_message  \\\n",
       "973                500              550         200                3   \n",
       "2061              3000             1950         150                1   \n",
       "848                500              550         200                3   \n",
       "2165               500              550         200                3   \n",
       "3152               500              550         200                3   \n",
       "\n",
       "      rub_per_minute  month  calls_count  calls_duration_sum  messages_count  \\\n",
       "973                3   12.0         82.0               648.0             NaN   \n",
       "2061               1    8.0         63.0               575.0            19.0   \n",
       "848                3    3.0         46.0               461.0            57.0   \n",
       "2165               3   10.0         42.0               352.0            11.0   \n",
       "3152               3    9.0          NaN                 NaN            32.0   \n",
       "\n",
       "      mb_used_sum  \n",
       "973       26121.0  \n",
       "2061      25528.0  \n",
       "848       20251.0  \n",
       "2165      18986.0  \n",
       "3152      17232.0  "
      ]
     },
     "metadata": {},
     "output_type": "display_data"
    }
   ],
   "source": [
    "show_df_description(full_data, statistics=False)"
   ]
  },
  {
   "cell_type": "markdown",
   "metadata": {},
   "source": [
    "**Наблюдения**"
   ]
  },
  {
   "cell_type": "markdown",
   "metadata": {},
   "source": [
    "- У столбцов `month`, `calls_count`, `calls_duration_sum`, `messages_count` и `mb_used_sum` дробный тип данных, хотя в них хранятся целочисленные значения. Так получилось из-за особенностей работы агрегирующих функций. Исправим это.\n",
    "- В `calls_count`, `calls_duration_sum`, `messages_count` есть пропуски. Они указывают на то, что клиент в какой-то месяц не пользовался соответсвующим типом услуг. Поэтому заполним их нулями.\n",
    "- Два пропуска есть даже в столбце `month`. Это значит, что в определенный месяц клиент не пользовался никакими услугами «Мегалайна». Удалим эти строки."
   ]
  },
  {
   "cell_type": "code",
   "execution_count": 31,
   "metadata": {},
   "outputs": [
    {
     "data": {
      "text/html": [
       "<div>\n",
       "<style scoped>\n",
       "    .dataframe tbody tr th:only-of-type {\n",
       "        vertical-align: middle;\n",
       "    }\n",
       "\n",
       "    .dataframe tbody tr th {\n",
       "        vertical-align: top;\n",
       "    }\n",
       "\n",
       "    .dataframe thead th {\n",
       "        text-align: right;\n",
       "    }\n",
       "</style>\n",
       "<table border=\"1\" class=\"dataframe\">\n",
       "  <thead>\n",
       "    <tr style=\"text-align: right;\">\n",
       "      <th></th>\n",
       "      <th>user_id</th>\n",
       "      <th>age</th>\n",
       "      <th>churn_date</th>\n",
       "      <th>city</th>\n",
       "      <th>first_name</th>\n",
       "      <th>last_name</th>\n",
       "      <th>reg_date</th>\n",
       "      <th>tariff</th>\n",
       "      <th>messages_included</th>\n",
       "      <th>mb_per_month_included</th>\n",
       "      <th>minutes_included</th>\n",
       "      <th>rub_monthly_fee</th>\n",
       "      <th>rub_per_gb</th>\n",
       "      <th>rub_per_message</th>\n",
       "      <th>rub_per_minute</th>\n",
       "      <th>month</th>\n",
       "      <th>calls_count</th>\n",
       "      <th>calls_duration_sum</th>\n",
       "      <th>messages_count</th>\n",
       "      <th>mb_used_sum</th>\n",
       "    </tr>\n",
       "  </thead>\n",
       "  <tbody>\n",
       "    <tr>\n",
       "      <th>827</th>\n",
       "      <td>1128</td>\n",
       "      <td>51</td>\n",
       "      <td>2018-12-23</td>\n",
       "      <td>Волжский</td>\n",
       "      <td>Ксения</td>\n",
       "      <td>Агаева</td>\n",
       "      <td>2018-12-15</td>\n",
       "      <td>ultra</td>\n",
       "      <td>1000</td>\n",
       "      <td>30720</td>\n",
       "      <td>3000</td>\n",
       "      <td>1950</td>\n",
       "      <td>150</td>\n",
       "      <td>1</td>\n",
       "      <td>1</td>\n",
       "      <td>NaN</td>\n",
       "      <td>NaN</td>\n",
       "      <td>NaN</td>\n",
       "      <td>NaN</td>\n",
       "      <td>NaN</td>\n",
       "    </tr>\n",
       "    <tr>\n",
       "      <th>2335</th>\n",
       "      <td>1371</td>\n",
       "      <td>50</td>\n",
       "      <td>2018-12-30</td>\n",
       "      <td>Омск</td>\n",
       "      <td>Ириней</td>\n",
       "      <td>Трофимов</td>\n",
       "      <td>2018-12-25</td>\n",
       "      <td>smart</td>\n",
       "      <td>50</td>\n",
       "      <td>15360</td>\n",
       "      <td>500</td>\n",
       "      <td>550</td>\n",
       "      <td>200</td>\n",
       "      <td>3</td>\n",
       "      <td>3</td>\n",
       "      <td>NaN</td>\n",
       "      <td>NaN</td>\n",
       "      <td>NaN</td>\n",
       "      <td>NaN</td>\n",
       "      <td>NaN</td>\n",
       "    </tr>\n",
       "  </tbody>\n",
       "</table>\n",
       "</div>"
      ],
      "text/plain": [
       "      user_id  age churn_date      city first_name last_name   reg_date  \\\n",
       "827      1128   51 2018-12-23  Волжский     Ксения    Агаева 2018-12-15   \n",
       "2335     1371   50 2018-12-30      Омск     Ириней  Трофимов 2018-12-25   \n",
       "\n",
       "     tariff  messages_included  mb_per_month_included  minutes_included  \\\n",
       "827   ultra               1000                  30720              3000   \n",
       "2335  smart                 50                  15360               500   \n",
       "\n",
       "      rub_monthly_fee  rub_per_gb  rub_per_message  rub_per_minute  month  \\\n",
       "827              1950         150                1               1    NaN   \n",
       "2335              550         200                3               3    NaN   \n",
       "\n",
       "      calls_count  calls_duration_sum  messages_count  mb_used_sum  \n",
       "827           NaN                 NaN             NaN          NaN  \n",
       "2335          NaN                 NaN             NaN          NaN  "
      ]
     },
     "execution_count": 31,
     "metadata": {},
     "output_type": "execute_result"
    }
   ],
   "source": [
    "full_data[full_data['month'].isna()==True]"
   ]
  },
  {
   "cell_type": "markdown",
   "metadata": {},
   "source": [
    "Заполним пропуски, удалим строки без месяцов и исправим типы данных."
   ]
  },
  {
   "cell_type": "code",
   "execution_count": 32,
   "metadata": {},
   "outputs": [],
   "source": [
    "services_columns = ['calls_count', 'calls_duration_sum', 'messages_count', 'mb_used_sum']\n",
    "full_data[services_columns] = full_data[services_columns].fillna(0)\n",
    "\n",
    "full_data.dropna(subset=['month'], inplace=True)\n",
    "full_data = full_data.reset_index(drop=True)\n",
    "\n",
    "full_data_type_dict = {\n",
    "    'month': 'uint8',\n",
    "    'calls_count': 'uint8',\n",
    "    'calls_duration_sum': 'uint16',\n",
    "    'messages_count': 'uint8',\n",
    "    'mb_used_sum': 'uint16'\n",
    "}\n",
    "full_data = full_data.astype(full_data_type_dict)"
   ]
  },
  {
   "cell_type": "code",
   "execution_count": 33,
   "metadata": {},
   "outputs": [
    {
     "name": "stdout",
     "output_type": "stream",
     "text": [
      "<class 'pandas.core.frame.DataFrame'>\n",
      "RangeIndex: 3214 entries, 0 to 3213\n",
      "Data columns (total 20 columns):\n",
      " #   Column                 Non-Null Count  Dtype         \n",
      "---  ------                 --------------  -----         \n",
      " 0   user_id                3214 non-null   uint16        \n",
      " 1   age                    3214 non-null   uint8         \n",
      " 2   churn_date             187 non-null    datetime64[ns]\n",
      " 3   city                   3214 non-null   object        \n",
      " 4   first_name             3214 non-null   object        \n",
      " 5   last_name              3214 non-null   object        \n",
      " 6   reg_date               3214 non-null   datetime64[ns]\n",
      " 7   tariff                 3214 non-null   object        \n",
      " 8   messages_included      3214 non-null   int64         \n",
      " 9   mb_per_month_included  3214 non-null   int64         \n",
      " 10  minutes_included       3214 non-null   int64         \n",
      " 11  rub_monthly_fee        3214 non-null   int64         \n",
      " 12  rub_per_gb             3214 non-null   int64         \n",
      " 13  rub_per_message        3214 non-null   int64         \n",
      " 14  rub_per_minute         3214 non-null   int64         \n",
      " 15  month                  3214 non-null   uint8         \n",
      " 16  calls_count            3214 non-null   uint8         \n",
      " 17  calls_duration_sum     3214 non-null   uint16        \n",
      " 18  messages_count         3214 non-null   uint8         \n",
      " 19  mb_used_sum            3214 non-null   uint16        \n",
      "dtypes: datetime64[ns](2), int64(7), object(4), uint16(3), uint8(4)\n",
      "memory usage: 357.9+ KB\n",
      "None\n"
     ]
    },
    {
     "data": {
      "text/html": [
       "<div>\n",
       "<style scoped>\n",
       "    .dataframe tbody tr th:only-of-type {\n",
       "        vertical-align: middle;\n",
       "    }\n",
       "\n",
       "    .dataframe tbody tr th {\n",
       "        vertical-align: top;\n",
       "    }\n",
       "\n",
       "    .dataframe thead th {\n",
       "        text-align: right;\n",
       "    }\n",
       "</style>\n",
       "<table border=\"1\" class=\"dataframe\">\n",
       "  <thead>\n",
       "    <tr style=\"text-align: right;\">\n",
       "      <th></th>\n",
       "      <th>user_id</th>\n",
       "      <th>age</th>\n",
       "      <th>churn_date</th>\n",
       "      <th>city</th>\n",
       "      <th>first_name</th>\n",
       "      <th>last_name</th>\n",
       "      <th>reg_date</th>\n",
       "      <th>tariff</th>\n",
       "      <th>messages_included</th>\n",
       "      <th>mb_per_month_included</th>\n",
       "      <th>minutes_included</th>\n",
       "      <th>rub_monthly_fee</th>\n",
       "      <th>rub_per_gb</th>\n",
       "      <th>rub_per_message</th>\n",
       "      <th>rub_per_minute</th>\n",
       "      <th>month</th>\n",
       "      <th>calls_count</th>\n",
       "      <th>calls_duration_sum</th>\n",
       "      <th>messages_count</th>\n",
       "      <th>mb_used_sum</th>\n",
       "    </tr>\n",
       "  </thead>\n",
       "  <tbody>\n",
       "    <tr>\n",
       "      <th>556</th>\n",
       "      <td>1089</td>\n",
       "      <td>19</td>\n",
       "      <td>NaT</td>\n",
       "      <td>Иркутск</td>\n",
       "      <td>Ксения</td>\n",
       "      <td>Нечаева</td>\n",
       "      <td>2018-02-24</td>\n",
       "      <td>ultra</td>\n",
       "      <td>1000</td>\n",
       "      <td>30720</td>\n",
       "      <td>3000</td>\n",
       "      <td>1950</td>\n",
       "      <td>150</td>\n",
       "      <td>1</td>\n",
       "      <td>1</td>\n",
       "      <td>2</td>\n",
       "      <td>1</td>\n",
       "      <td>5</td>\n",
       "      <td>27</td>\n",
       "      <td>2869</td>\n",
       "    </tr>\n",
       "    <tr>\n",
       "      <th>2455</th>\n",
       "      <td>1384</td>\n",
       "      <td>42</td>\n",
       "      <td>NaT</td>\n",
       "      <td>Нижний Новгород</td>\n",
       "      <td>Кристина</td>\n",
       "      <td>Касьянова</td>\n",
       "      <td>2018-04-27</td>\n",
       "      <td>smart</td>\n",
       "      <td>50</td>\n",
       "      <td>15360</td>\n",
       "      <td>500</td>\n",
       "      <td>550</td>\n",
       "      <td>200</td>\n",
       "      <td>3</td>\n",
       "      <td>3</td>\n",
       "      <td>11</td>\n",
       "      <td>81</td>\n",
       "      <td>673</td>\n",
       "      <td>2</td>\n",
       "      <td>18404</td>\n",
       "    </tr>\n",
       "    <tr>\n",
       "      <th>840</th>\n",
       "      <td>1132</td>\n",
       "      <td>24</td>\n",
       "      <td>NaT</td>\n",
       "      <td>Москва</td>\n",
       "      <td>Маргарита</td>\n",
       "      <td>Алехина</td>\n",
       "      <td>2018-09-01</td>\n",
       "      <td>smart</td>\n",
       "      <td>50</td>\n",
       "      <td>15360</td>\n",
       "      <td>500</td>\n",
       "      <td>550</td>\n",
       "      <td>200</td>\n",
       "      <td>3</td>\n",
       "      <td>3</td>\n",
       "      <td>11</td>\n",
       "      <td>63</td>\n",
       "      <td>544</td>\n",
       "      <td>0</td>\n",
       "      <td>16107</td>\n",
       "    </tr>\n",
       "    <tr>\n",
       "      <th>183</th>\n",
       "      <td>1028</td>\n",
       "      <td>20</td>\n",
       "      <td>NaT</td>\n",
       "      <td>Тверь</td>\n",
       "      <td>Рустем</td>\n",
       "      <td>Евсеев</td>\n",
       "      <td>2018-10-02</td>\n",
       "      <td>ultra</td>\n",
       "      <td>1000</td>\n",
       "      <td>30720</td>\n",
       "      <td>3000</td>\n",
       "      <td>1950</td>\n",
       "      <td>150</td>\n",
       "      <td>1</td>\n",
       "      <td>1</td>\n",
       "      <td>10</td>\n",
       "      <td>107</td>\n",
       "      <td>954</td>\n",
       "      <td>223</td>\n",
       "      <td>22519</td>\n",
       "    </tr>\n",
       "    <tr>\n",
       "      <th>2184</th>\n",
       "      <td>1344</td>\n",
       "      <td>60</td>\n",
       "      <td>NaT</td>\n",
       "      <td>Воронеж</td>\n",
       "      <td>Илзе</td>\n",
       "      <td>Игнатьева</td>\n",
       "      <td>2018-04-03</td>\n",
       "      <td>ultra</td>\n",
       "      <td>1000</td>\n",
       "      <td>30720</td>\n",
       "      <td>3000</td>\n",
       "      <td>1950</td>\n",
       "      <td>150</td>\n",
       "      <td>1</td>\n",
       "      <td>1</td>\n",
       "      <td>8</td>\n",
       "      <td>92</td>\n",
       "      <td>767</td>\n",
       "      <td>132</td>\n",
       "      <td>21121</td>\n",
       "    </tr>\n",
       "  </tbody>\n",
       "</table>\n",
       "</div>"
      ],
      "text/plain": [
       "      user_id  age churn_date             city first_name  last_name  \\\n",
       "556      1089   19        NaT          Иркутск     Ксения    Нечаева   \n",
       "2455     1384   42        NaT  Нижний Новгород   Кристина  Касьянова   \n",
       "840      1132   24        NaT           Москва  Маргарита    Алехина   \n",
       "183      1028   20        NaT            Тверь     Рустем     Евсеев   \n",
       "2184     1344   60        NaT          Воронеж       Илзе  Игнатьева   \n",
       "\n",
       "       reg_date tariff  messages_included  mb_per_month_included  \\\n",
       "556  2018-02-24  ultra               1000                  30720   \n",
       "2455 2018-04-27  smart                 50                  15360   \n",
       "840  2018-09-01  smart                 50                  15360   \n",
       "183  2018-10-02  ultra               1000                  30720   \n",
       "2184 2018-04-03  ultra               1000                  30720   \n",
       "\n",
       "      minutes_included  rub_monthly_fee  rub_per_gb  rub_per_message  \\\n",
       "556               3000             1950         150                1   \n",
       "2455               500              550         200                3   \n",
       "840                500              550         200                3   \n",
       "183               3000             1950         150                1   \n",
       "2184              3000             1950         150                1   \n",
       "\n",
       "      rub_per_minute  month  calls_count  calls_duration_sum  messages_count  \\\n",
       "556                1      2            1                   5              27   \n",
       "2455               3     11           81                 673               2   \n",
       "840                3     11           63                 544               0   \n",
       "183                1     10          107                 954             223   \n",
       "2184               1      8           92                 767             132   \n",
       "\n",
       "      mb_used_sum  \n",
       "556          2869  \n",
       "2455        18404  \n",
       "840         16107  \n",
       "183         22519  \n",
       "2184        21121  "
      ]
     },
     "metadata": {},
     "output_type": "display_data"
    }
   ],
   "source": [
    "show_df_description(full_data, statistics=False)"
   ]
  },
  {
   "cell_type": "markdown",
   "metadata": {},
   "source": [
    "#### Расчет услуг, использованных сверх тарифных пакетов<a name=\"Расчет-услуг,-использованных-сверх-тарифных-пакетов\"></a>"
   ]
  },
  {
   "cell_type": "markdown",
   "metadata": {},
   "source": [
    "Чтобы рассчитать месячную выручку с каждого пользователя, нужно понять, сколько допуслуг использовали клиенты каждый месяц. Это легко сделать: из суммарного расхода услуги нужно вычесть ее лимит, соответсвующий тарифу."
   ]
  },
  {
   "cell_type": "code",
   "execution_count": 34,
   "metadata": {},
   "outputs": [
    {
     "data": {
      "text/html": [
       "<div>\n",
       "<style scoped>\n",
       "    .dataframe tbody tr th:only-of-type {\n",
       "        vertical-align: middle;\n",
       "    }\n",
       "\n",
       "    .dataframe tbody tr th {\n",
       "        vertical-align: top;\n",
       "    }\n",
       "\n",
       "    .dataframe thead th {\n",
       "        text-align: right;\n",
       "    }\n",
       "</style>\n",
       "<table border=\"1\" class=\"dataframe\">\n",
       "  <thead>\n",
       "    <tr style=\"text-align: right;\">\n",
       "      <th></th>\n",
       "      <th>user_id</th>\n",
       "      <th>age</th>\n",
       "      <th>churn_date</th>\n",
       "      <th>city</th>\n",
       "      <th>first_name</th>\n",
       "      <th>last_name</th>\n",
       "      <th>reg_date</th>\n",
       "      <th>tariff</th>\n",
       "      <th>messages_included</th>\n",
       "      <th>mb_per_month_included</th>\n",
       "      <th>minutes_included</th>\n",
       "      <th>rub_monthly_fee</th>\n",
       "      <th>rub_per_gb</th>\n",
       "      <th>rub_per_message</th>\n",
       "      <th>rub_per_minute</th>\n",
       "      <th>month</th>\n",
       "      <th>calls_count</th>\n",
       "      <th>calls_duration_sum</th>\n",
       "      <th>messages_count</th>\n",
       "      <th>mb_used_sum</th>\n",
       "      <th>extra_minutes</th>\n",
       "      <th>extra_messages</th>\n",
       "      <th>extra_gbs</th>\n",
       "    </tr>\n",
       "  </thead>\n",
       "  <tbody>\n",
       "    <tr>\n",
       "      <th>1677</th>\n",
       "      <td>1265</td>\n",
       "      <td>24</td>\n",
       "      <td>2018-10-04</td>\n",
       "      <td>Омск</td>\n",
       "      <td>Радим</td>\n",
       "      <td>Адамов</td>\n",
       "      <td>2018-06-24</td>\n",
       "      <td>ultra</td>\n",
       "      <td>1000</td>\n",
       "      <td>30720</td>\n",
       "      <td>3000</td>\n",
       "      <td>1950</td>\n",
       "      <td>150</td>\n",
       "      <td>1</td>\n",
       "      <td>1</td>\n",
       "      <td>7</td>\n",
       "      <td>81</td>\n",
       "      <td>752</td>\n",
       "      <td>94</td>\n",
       "      <td>38924</td>\n",
       "      <td>0</td>\n",
       "      <td>0</td>\n",
       "      <td>9</td>\n",
       "    </tr>\n",
       "    <tr>\n",
       "      <th>473</th>\n",
       "      <td>1075</td>\n",
       "      <td>25</td>\n",
       "      <td>NaT</td>\n",
       "      <td>Екатеринбург</td>\n",
       "      <td>Рафаэль</td>\n",
       "      <td>Никулин</td>\n",
       "      <td>2018-11-02</td>\n",
       "      <td>smart</td>\n",
       "      <td>50</td>\n",
       "      <td>15360</td>\n",
       "      <td>500</td>\n",
       "      <td>550</td>\n",
       "      <td>200</td>\n",
       "      <td>3</td>\n",
       "      <td>3</td>\n",
       "      <td>12</td>\n",
       "      <td>52</td>\n",
       "      <td>532</td>\n",
       "      <td>21</td>\n",
       "      <td>16886</td>\n",
       "      <td>32</td>\n",
       "      <td>0</td>\n",
       "      <td>2</td>\n",
       "    </tr>\n",
       "    <tr>\n",
       "      <th>1481</th>\n",
       "      <td>1231</td>\n",
       "      <td>63</td>\n",
       "      <td>NaT</td>\n",
       "      <td>Чебоксары</td>\n",
       "      <td>Касьян</td>\n",
       "      <td>Авдюков</td>\n",
       "      <td>2018-05-23</td>\n",
       "      <td>ultra</td>\n",
       "      <td>1000</td>\n",
       "      <td>30720</td>\n",
       "      <td>3000</td>\n",
       "      <td>1950</td>\n",
       "      <td>150</td>\n",
       "      <td>1</td>\n",
       "      <td>1</td>\n",
       "      <td>12</td>\n",
       "      <td>0</td>\n",
       "      <td>0</td>\n",
       "      <td>191</td>\n",
       "      <td>32481</td>\n",
       "      <td>0</td>\n",
       "      <td>0</td>\n",
       "      <td>2</td>\n",
       "    </tr>\n",
       "    <tr>\n",
       "      <th>960</th>\n",
       "      <td>1152</td>\n",
       "      <td>44</td>\n",
       "      <td>NaT</td>\n",
       "      <td>Мурманск</td>\n",
       "      <td>Марина</td>\n",
       "      <td>Щербакова</td>\n",
       "      <td>2018-02-05</td>\n",
       "      <td>ultra</td>\n",
       "      <td>1000</td>\n",
       "      <td>30720</td>\n",
       "      <td>3000</td>\n",
       "      <td>1950</td>\n",
       "      <td>150</td>\n",
       "      <td>1</td>\n",
       "      <td>1</td>\n",
       "      <td>3</td>\n",
       "      <td>40</td>\n",
       "      <td>389</td>\n",
       "      <td>0</td>\n",
       "      <td>24775</td>\n",
       "      <td>0</td>\n",
       "      <td>0</td>\n",
       "      <td>0</td>\n",
       "    </tr>\n",
       "    <tr>\n",
       "      <th>686</th>\n",
       "      <td>1108</td>\n",
       "      <td>70</td>\n",
       "      <td>NaT</td>\n",
       "      <td>Москва</td>\n",
       "      <td>Рафаил</td>\n",
       "      <td>Болдырев</td>\n",
       "      <td>2018-11-01</td>\n",
       "      <td>smart</td>\n",
       "      <td>50</td>\n",
       "      <td>15360</td>\n",
       "      <td>500</td>\n",
       "      <td>550</td>\n",
       "      <td>200</td>\n",
       "      <td>3</td>\n",
       "      <td>3</td>\n",
       "      <td>11</td>\n",
       "      <td>28</td>\n",
       "      <td>231</td>\n",
       "      <td>25</td>\n",
       "      <td>20427</td>\n",
       "      <td>0</td>\n",
       "      <td>0</td>\n",
       "      <td>5</td>\n",
       "    </tr>\n",
       "  </tbody>\n",
       "</table>\n",
       "</div>"
      ],
      "text/plain": [
       "      user_id  age churn_date          city first_name  last_name   reg_date  \\\n",
       "1677     1265   24 2018-10-04          Омск      Радим     Адамов 2018-06-24   \n",
       "473      1075   25        NaT  Екатеринбург    Рафаэль    Никулин 2018-11-02   \n",
       "1481     1231   63        NaT     Чебоксары     Касьян    Авдюков 2018-05-23   \n",
       "960      1152   44        NaT      Мурманск     Марина  Щербакова 2018-02-05   \n",
       "686      1108   70        NaT        Москва     Рафаил   Болдырев 2018-11-01   \n",
       "\n",
       "     tariff  messages_included  mb_per_month_included  minutes_included  \\\n",
       "1677  ultra               1000                  30720              3000   \n",
       "473   smart                 50                  15360               500   \n",
       "1481  ultra               1000                  30720              3000   \n",
       "960   ultra               1000                  30720              3000   \n",
       "686   smart                 50                  15360               500   \n",
       "\n",
       "      rub_monthly_fee  rub_per_gb  rub_per_message  rub_per_minute  month  \\\n",
       "1677             1950         150                1               1      7   \n",
       "473               550         200                3               3     12   \n",
       "1481             1950         150                1               1     12   \n",
       "960              1950         150                1               1      3   \n",
       "686               550         200                3               3     11   \n",
       "\n",
       "      calls_count  calls_duration_sum  messages_count  mb_used_sum  \\\n",
       "1677           81                 752              94        38924   \n",
       "473            52                 532              21        16886   \n",
       "1481            0                   0             191        32481   \n",
       "960            40                 389               0        24775   \n",
       "686            28                 231              25        20427   \n",
       "\n",
       "      extra_minutes  extra_messages  extra_gbs  \n",
       "1677              0               0          9  \n",
       "473              32               0          2  \n",
       "1481              0               0          2  \n",
       "960               0               0          0  \n",
       "686               0               0          5  "
      ]
     },
     "execution_count": 34,
     "metadata": {},
     "output_type": "execute_result"
    }
   ],
   "source": [
    "full_data['extra_minutes'] = full_data['calls_duration_sum'] - full_data['minutes_included']\n",
    "full_data['extra_minutes'] = full_data['extra_minutes'].where(full_data['extra_minutes'] > 0, 0)\n",
    "\n",
    "full_data['extra_messages'] = full_data['messages_count'] - full_data['messages_included']\n",
    "full_data['extra_messages'] = full_data['extra_messages'].where(full_data['extra_messages'] > 0, 0)\n",
    "\n",
    "full_data['extra_gbs'] = full_data['mb_used_sum'] - full_data['mb_per_month_included']\n",
    "full_data['extra_gbs'] = full_data['extra_gbs'].where(full_data['extra_gbs'] > 0, 0)\n",
    "full_data['extra_gbs'] = np.ceil(full_data['extra_gbs'] / 1024).astype('int')\n",
    "\n",
    "full_data.sample(5)"
   ]
  },
  {
   "cell_type": "markdown",
   "metadata": {},
   "source": [
    "#### Расчет помесячной выручки с клиента<a name=\"Расчет-помесячной-выручки-с-клиента\"></a>"
   ]
  },
  {
   "cell_type": "markdown",
   "metadata": {},
   "source": [
    "Теперь у нас есть таблица со всеми необходимыми данными для расчета выручки. Посчитаем ее и запишем в новый столбец `revenue`."
   ]
  },
  {
   "cell_type": "code",
   "execution_count": 35,
   "metadata": {},
   "outputs": [
    {
     "data": {
      "text/html": [
       "<div>\n",
       "<style scoped>\n",
       "    .dataframe tbody tr th:only-of-type {\n",
       "        vertical-align: middle;\n",
       "    }\n",
       "\n",
       "    .dataframe tbody tr th {\n",
       "        vertical-align: top;\n",
       "    }\n",
       "\n",
       "    .dataframe thead th {\n",
       "        text-align: right;\n",
       "    }\n",
       "</style>\n",
       "<table border=\"1\" class=\"dataframe\">\n",
       "  <thead>\n",
       "    <tr style=\"text-align: right;\">\n",
       "      <th></th>\n",
       "      <th>user_id</th>\n",
       "      <th>age</th>\n",
       "      <th>churn_date</th>\n",
       "      <th>city</th>\n",
       "      <th>first_name</th>\n",
       "      <th>last_name</th>\n",
       "      <th>reg_date</th>\n",
       "      <th>tariff</th>\n",
       "      <th>messages_included</th>\n",
       "      <th>mb_per_month_included</th>\n",
       "      <th>minutes_included</th>\n",
       "      <th>rub_monthly_fee</th>\n",
       "      <th>rub_per_gb</th>\n",
       "      <th>rub_per_message</th>\n",
       "      <th>rub_per_minute</th>\n",
       "      <th>month</th>\n",
       "      <th>calls_count</th>\n",
       "      <th>calls_duration_sum</th>\n",
       "      <th>messages_count</th>\n",
       "      <th>mb_used_sum</th>\n",
       "      <th>extra_minutes</th>\n",
       "      <th>extra_messages</th>\n",
       "      <th>extra_gbs</th>\n",
       "      <th>revenue</th>\n",
       "    </tr>\n",
       "  </thead>\n",
       "  <tbody>\n",
       "    <tr>\n",
       "      <th>421</th>\n",
       "      <td>1066</td>\n",
       "      <td>47</td>\n",
       "      <td>NaT</td>\n",
       "      <td>Астрахань</td>\n",
       "      <td>Исак</td>\n",
       "      <td>Малахов</td>\n",
       "      <td>2018-06-24</td>\n",
       "      <td>smart</td>\n",
       "      <td>50</td>\n",
       "      <td>15360</td>\n",
       "      <td>500</td>\n",
       "      <td>550</td>\n",
       "      <td>200</td>\n",
       "      <td>3</td>\n",
       "      <td>3</td>\n",
       "      <td>6</td>\n",
       "      <td>21</td>\n",
       "      <td>184</td>\n",
       "      <td>14</td>\n",
       "      <td>4681</td>\n",
       "      <td>0</td>\n",
       "      <td>0</td>\n",
       "      <td>0</td>\n",
       "      <td>550</td>\n",
       "    </tr>\n",
       "    <tr>\n",
       "      <th>2780</th>\n",
       "      <td>1431</td>\n",
       "      <td>70</td>\n",
       "      <td>NaT</td>\n",
       "      <td>Уфа</td>\n",
       "      <td>Елена</td>\n",
       "      <td>Тимофеева</td>\n",
       "      <td>2018-03-16</td>\n",
       "      <td>smart</td>\n",
       "      <td>50</td>\n",
       "      <td>15360</td>\n",
       "      <td>500</td>\n",
       "      <td>550</td>\n",
       "      <td>200</td>\n",
       "      <td>3</td>\n",
       "      <td>3</td>\n",
       "      <td>7</td>\n",
       "      <td>33</td>\n",
       "      <td>299</td>\n",
       "      <td>77</td>\n",
       "      <td>21535</td>\n",
       "      <td>0</td>\n",
       "      <td>27</td>\n",
       "      <td>7</td>\n",
       "      <td>2031</td>\n",
       "    </tr>\n",
       "    <tr>\n",
       "      <th>3135</th>\n",
       "      <td>1484</td>\n",
       "      <td>55</td>\n",
       "      <td>NaT</td>\n",
       "      <td>Екатеринбург</td>\n",
       "      <td>Илзе</td>\n",
       "      <td>Абалдуева</td>\n",
       "      <td>2018-08-04</td>\n",
       "      <td>smart</td>\n",
       "      <td>50</td>\n",
       "      <td>15360</td>\n",
       "      <td>500</td>\n",
       "      <td>550</td>\n",
       "      <td>200</td>\n",
       "      <td>3</td>\n",
       "      <td>3</td>\n",
       "      <td>10</td>\n",
       "      <td>39</td>\n",
       "      <td>369</td>\n",
       "      <td>127</td>\n",
       "      <td>13848</td>\n",
       "      <td>0</td>\n",
       "      <td>77</td>\n",
       "      <td>0</td>\n",
       "      <td>781</td>\n",
       "    </tr>\n",
       "    <tr>\n",
       "      <th>291</th>\n",
       "      <td>1046</td>\n",
       "      <td>72</td>\n",
       "      <td>NaT</td>\n",
       "      <td>Тула</td>\n",
       "      <td>Екатерина</td>\n",
       "      <td>Александрова</td>\n",
       "      <td>2018-08-20</td>\n",
       "      <td>smart</td>\n",
       "      <td>50</td>\n",
       "      <td>15360</td>\n",
       "      <td>500</td>\n",
       "      <td>550</td>\n",
       "      <td>200</td>\n",
       "      <td>3</td>\n",
       "      <td>3</td>\n",
       "      <td>12</td>\n",
       "      <td>63</td>\n",
       "      <td>555</td>\n",
       "      <td>48</td>\n",
       "      <td>21873</td>\n",
       "      <td>55</td>\n",
       "      <td>0</td>\n",
       "      <td>7</td>\n",
       "      <td>2115</td>\n",
       "    </tr>\n",
       "    <tr>\n",
       "      <th>2517</th>\n",
       "      <td>1393</td>\n",
       "      <td>56</td>\n",
       "      <td>NaT</td>\n",
       "      <td>Краснодар</td>\n",
       "      <td>Артём</td>\n",
       "      <td>Зубков</td>\n",
       "      <td>2018-02-17</td>\n",
       "      <td>smart</td>\n",
       "      <td>50</td>\n",
       "      <td>15360</td>\n",
       "      <td>500</td>\n",
       "      <td>550</td>\n",
       "      <td>200</td>\n",
       "      <td>3</td>\n",
       "      <td>3</td>\n",
       "      <td>11</td>\n",
       "      <td>72</td>\n",
       "      <td>604</td>\n",
       "      <td>47</td>\n",
       "      <td>16178</td>\n",
       "      <td>104</td>\n",
       "      <td>0</td>\n",
       "      <td>1</td>\n",
       "      <td>1062</td>\n",
       "    </tr>\n",
       "  </tbody>\n",
       "</table>\n",
       "</div>"
      ],
      "text/plain": [
       "      user_id  age churn_date          city first_name     last_name  \\\n",
       "421      1066   47        NaT     Астрахань       Исак       Малахов   \n",
       "2780     1431   70        NaT           Уфа      Елена     Тимофеева   \n",
       "3135     1484   55        NaT  Екатеринбург       Илзе     Абалдуева   \n",
       "291      1046   72        NaT          Тула  Екатерина  Александрова   \n",
       "2517     1393   56        NaT     Краснодар      Артём        Зубков   \n",
       "\n",
       "       reg_date tariff  messages_included  mb_per_month_included  \\\n",
       "421  2018-06-24  smart                 50                  15360   \n",
       "2780 2018-03-16  smart                 50                  15360   \n",
       "3135 2018-08-04  smart                 50                  15360   \n",
       "291  2018-08-20  smart                 50                  15360   \n",
       "2517 2018-02-17  smart                 50                  15360   \n",
       "\n",
       "      minutes_included  rub_monthly_fee  rub_per_gb  rub_per_message  \\\n",
       "421                500              550         200                3   \n",
       "2780               500              550         200                3   \n",
       "3135               500              550         200                3   \n",
       "291                500              550         200                3   \n",
       "2517               500              550         200                3   \n",
       "\n",
       "      rub_per_minute  month  calls_count  calls_duration_sum  messages_count  \\\n",
       "421                3      6           21                 184              14   \n",
       "2780               3      7           33                 299              77   \n",
       "3135               3     10           39                 369             127   \n",
       "291                3     12           63                 555              48   \n",
       "2517               3     11           72                 604              47   \n",
       "\n",
       "      mb_used_sum  extra_minutes  extra_messages  extra_gbs  revenue  \n",
       "421          4681              0               0          0      550  \n",
       "2780        21535              0              27          7     2031  \n",
       "3135        13848              0              77          0      781  \n",
       "291         21873             55               0          7     2115  \n",
       "2517        16178            104               0          1     1062  "
      ]
     },
     "execution_count": 35,
     "metadata": {},
     "output_type": "execute_result"
    }
   ],
   "source": [
    "full_data['revenue'] = (full_data['rub_monthly_fee'] +\n",
    "                         full_data['extra_minutes'] * full_data['rub_per_minute'] +\n",
    "                         full_data['extra_messages'] * full_data['rub_per_message'] +\n",
    "                         full_data['extra_gbs'] * full_data['rub_per_gb'])\n",
    "\n",
    "full_data.sample(5)"
   ]
  },
  {
   "cell_type": "markdown",
   "metadata": {},
   "source": [
    "Все получилось!"
   ]
  },
  {
   "cell_type": "markdown",
   "metadata": {},
   "source": [
    "Также рассчитаем помесячную переплату пользователей."
   ]
  },
  {
   "cell_type": "code",
   "execution_count": 36,
   "metadata": {},
   "outputs": [
    {
     "data": {
      "text/html": [
       "<div>\n",
       "<style scoped>\n",
       "    .dataframe tbody tr th:only-of-type {\n",
       "        vertical-align: middle;\n",
       "    }\n",
       "\n",
       "    .dataframe tbody tr th {\n",
       "        vertical-align: top;\n",
       "    }\n",
       "\n",
       "    .dataframe thead th {\n",
       "        text-align: right;\n",
       "    }\n",
       "</style>\n",
       "<table border=\"1\" class=\"dataframe\">\n",
       "  <thead>\n",
       "    <tr style=\"text-align: right;\">\n",
       "      <th></th>\n",
       "      <th>user_id</th>\n",
       "      <th>age</th>\n",
       "      <th>churn_date</th>\n",
       "      <th>city</th>\n",
       "      <th>first_name</th>\n",
       "      <th>last_name</th>\n",
       "      <th>reg_date</th>\n",
       "      <th>tariff</th>\n",
       "      <th>messages_included</th>\n",
       "      <th>mb_per_month_included</th>\n",
       "      <th>minutes_included</th>\n",
       "      <th>rub_monthly_fee</th>\n",
       "      <th>rub_per_gb</th>\n",
       "      <th>rub_per_message</th>\n",
       "      <th>rub_per_minute</th>\n",
       "      <th>month</th>\n",
       "      <th>calls_count</th>\n",
       "      <th>calls_duration_sum</th>\n",
       "      <th>messages_count</th>\n",
       "      <th>mb_used_sum</th>\n",
       "      <th>extra_minutes</th>\n",
       "      <th>extra_messages</th>\n",
       "      <th>extra_gbs</th>\n",
       "      <th>revenue</th>\n",
       "      <th>overpayment</th>\n",
       "    </tr>\n",
       "  </thead>\n",
       "  <tbody>\n",
       "    <tr>\n",
       "      <th>2291</th>\n",
       "      <td>1363</td>\n",
       "      <td>69</td>\n",
       "      <td>NaT</td>\n",
       "      <td>Нижний Тагил</td>\n",
       "      <td>Оксана</td>\n",
       "      <td>Болдырева</td>\n",
       "      <td>2018-03-04</td>\n",
       "      <td>ultra</td>\n",
       "      <td>1000</td>\n",
       "      <td>30720</td>\n",
       "      <td>3000</td>\n",
       "      <td>1950</td>\n",
       "      <td>150</td>\n",
       "      <td>1</td>\n",
       "      <td>1</td>\n",
       "      <td>3</td>\n",
       "      <td>98</td>\n",
       "      <td>841</td>\n",
       "      <td>0</td>\n",
       "      <td>20446</td>\n",
       "      <td>0</td>\n",
       "      <td>0</td>\n",
       "      <td>0</td>\n",
       "      <td>1950</td>\n",
       "      <td>0</td>\n",
       "    </tr>\n",
       "    <tr>\n",
       "      <th>78</th>\n",
       "      <td>1011</td>\n",
       "      <td>44</td>\n",
       "      <td>NaT</td>\n",
       "      <td>Самара</td>\n",
       "      <td>Веселина</td>\n",
       "      <td>Алёшко</td>\n",
       "      <td>2018-03-19</td>\n",
       "      <td>smart</td>\n",
       "      <td>50</td>\n",
       "      <td>15360</td>\n",
       "      <td>500</td>\n",
       "      <td>550</td>\n",
       "      <td>200</td>\n",
       "      <td>3</td>\n",
       "      <td>3</td>\n",
       "      <td>3</td>\n",
       "      <td>19</td>\n",
       "      <td>212</td>\n",
       "      <td>4</td>\n",
       "      <td>5900</td>\n",
       "      <td>0</td>\n",
       "      <td>0</td>\n",
       "      <td>0</td>\n",
       "      <td>550</td>\n",
       "      <td>0</td>\n",
       "    </tr>\n",
       "    <tr>\n",
       "      <th>2049</th>\n",
       "      <td>1323</td>\n",
       "      <td>67</td>\n",
       "      <td>NaT</td>\n",
       "      <td>Челябинск</td>\n",
       "      <td>Эсмеральда</td>\n",
       "      <td>Носкова</td>\n",
       "      <td>2018-08-02</td>\n",
       "      <td>smart</td>\n",
       "      <td>50</td>\n",
       "      <td>15360</td>\n",
       "      <td>500</td>\n",
       "      <td>550</td>\n",
       "      <td>200</td>\n",
       "      <td>3</td>\n",
       "      <td>3</td>\n",
       "      <td>12</td>\n",
       "      <td>61</td>\n",
       "      <td>538</td>\n",
       "      <td>85</td>\n",
       "      <td>20921</td>\n",
       "      <td>38</td>\n",
       "      <td>35</td>\n",
       "      <td>6</td>\n",
       "      <td>1969</td>\n",
       "      <td>1419</td>\n",
       "    </tr>\n",
       "    <tr>\n",
       "      <th>1299</th>\n",
       "      <td>1203</td>\n",
       "      <td>39</td>\n",
       "      <td>NaT</td>\n",
       "      <td>Москва</td>\n",
       "      <td>Владимир</td>\n",
       "      <td>Григорьев</td>\n",
       "      <td>2018-03-13</td>\n",
       "      <td>ultra</td>\n",
       "      <td>1000</td>\n",
       "      <td>30720</td>\n",
       "      <td>3000</td>\n",
       "      <td>1950</td>\n",
       "      <td>150</td>\n",
       "      <td>1</td>\n",
       "      <td>1</td>\n",
       "      <td>7</td>\n",
       "      <td>56</td>\n",
       "      <td>522</td>\n",
       "      <td>38</td>\n",
       "      <td>3185</td>\n",
       "      <td>0</td>\n",
       "      <td>0</td>\n",
       "      <td>0</td>\n",
       "      <td>1950</td>\n",
       "      <td>0</td>\n",
       "    </tr>\n",
       "    <tr>\n",
       "      <th>1836</th>\n",
       "      <td>1290</td>\n",
       "      <td>68</td>\n",
       "      <td>NaT</td>\n",
       "      <td>Нижний Новгород</td>\n",
       "      <td>Арсений</td>\n",
       "      <td>Безруков</td>\n",
       "      <td>2018-05-11</td>\n",
       "      <td>smart</td>\n",
       "      <td>50</td>\n",
       "      <td>15360</td>\n",
       "      <td>500</td>\n",
       "      <td>550</td>\n",
       "      <td>200</td>\n",
       "      <td>3</td>\n",
       "      <td>3</td>\n",
       "      <td>10</td>\n",
       "      <td>60</td>\n",
       "      <td>520</td>\n",
       "      <td>0</td>\n",
       "      <td>19177</td>\n",
       "      <td>20</td>\n",
       "      <td>0</td>\n",
       "      <td>4</td>\n",
       "      <td>1410</td>\n",
       "      <td>860</td>\n",
       "    </tr>\n",
       "  </tbody>\n",
       "</table>\n",
       "</div>"
      ],
      "text/plain": [
       "      user_id  age churn_date             city  first_name  last_name  \\\n",
       "2291     1363   69        NaT     Нижний Тагил      Оксана  Болдырева   \n",
       "78       1011   44        NaT           Самара    Веселина     Алёшко   \n",
       "2049     1323   67        NaT        Челябинск  Эсмеральда    Носкова   \n",
       "1299     1203   39        NaT           Москва    Владимир  Григорьев   \n",
       "1836     1290   68        NaT  Нижний Новгород     Арсений   Безруков   \n",
       "\n",
       "       reg_date tariff  messages_included  mb_per_month_included  \\\n",
       "2291 2018-03-04  ultra               1000                  30720   \n",
       "78   2018-03-19  smart                 50                  15360   \n",
       "2049 2018-08-02  smart                 50                  15360   \n",
       "1299 2018-03-13  ultra               1000                  30720   \n",
       "1836 2018-05-11  smart                 50                  15360   \n",
       "\n",
       "      minutes_included  rub_monthly_fee  rub_per_gb  rub_per_message  \\\n",
       "2291              3000             1950         150                1   \n",
       "78                 500              550         200                3   \n",
       "2049               500              550         200                3   \n",
       "1299              3000             1950         150                1   \n",
       "1836               500              550         200                3   \n",
       "\n",
       "      rub_per_minute  month  calls_count  calls_duration_sum  messages_count  \\\n",
       "2291               1      3           98                 841               0   \n",
       "78                 3      3           19                 212               4   \n",
       "2049               3     12           61                 538              85   \n",
       "1299               1      7           56                 522              38   \n",
       "1836               3     10           60                 520               0   \n",
       "\n",
       "      mb_used_sum  extra_minutes  extra_messages  extra_gbs  revenue  \\\n",
       "2291        20446              0               0          0     1950   \n",
       "78           5900              0               0          0      550   \n",
       "2049        20921             38              35          6     1969   \n",
       "1299         3185              0               0          0     1950   \n",
       "1836        19177             20               0          4     1410   \n",
       "\n",
       "      overpayment  \n",
       "2291            0  \n",
       "78              0  \n",
       "2049         1419  \n",
       "1299            0  \n",
       "1836          860  "
      ]
     },
     "execution_count": 36,
     "metadata": {},
     "output_type": "execute_result"
    }
   ],
   "source": [
    "full_data['overpayment'] = full_data['revenue'] - full_data['rub_monthly_fee']\n",
    "full_data['overpayment'] = full_data['overpayment'].where(full_data['overpayment'] > 0, 0)\n",
    "\n",
    "full_data.sample(5)"
   ]
  },
  {
   "cell_type": "markdown",
   "metadata": {},
   "source": [
    "### Вывод\n",
    "\n",
    "Мы сделали новую таблицу `full_data`, в которой собрали параметры интересные для анализа. А именно:\n",
    "* количество сделанных звонков и израсходованных минут по месяцам;\n",
    "* количество отправленных сообщений по месяцам;\n",
    "* объем израсходованного интернет-трафика по месяцам;\n",
    "* помесячную выручку.\n",
    "\n",
    "Для этого нам пришлось создать несколько вспомогательных сводных таблиц и написать небольшую функцию для подсчета выручки. Вооруженные новой таблицей мы готовы к анализу данных."
   ]
  },
  {
   "cell_type": "markdown",
   "metadata": {},
   "source": [
    "[К содержанию](#Содержание)"
   ]
  },
  {
   "cell_type": "markdown",
   "metadata": {},
   "source": [
    "## 3. Анализ данных<a name=\"3.-Анализ-данных\"></a>"
   ]
  },
  {
   "cell_type": "markdown",
   "metadata": {},
   "source": [
    "Для каждой услуги (голосовая связь, сообщения и интернет) мы будем изучать общую статистику и распределение по объему использования. Также мы отдельно посмотрим на потребление услуг сверх тарифных пакетов. Напишем для этого вспомогательные функции:"
   ]
  },
  {
   "cell_type": "code",
   "execution_count": 37,
   "metadata": {},
   "outputs": [],
   "source": [
    "def service_stats(df, service):\n",
    "    \"\"\"\n",
    "    Функция возвращает таблицу со статистиками месячного потребления заданной услуги.\n",
    "    А именно: медиану, среднее и стандартное отклонение.\n",
    "    \"\"\"\n",
    "    pivot = df.pivot_table(index ='tariff', values=service, aggfunc=['median', 'mean', 'std'])\n",
    "    return pivot"
   ]
  },
  {
   "cell_type": "code",
   "execution_count": 38,
   "metadata": {},
   "outputs": [],
   "source": [
    "def extra_stats(df, service):\n",
    "    \"\"\"\n",
    "    Функция возвращает таблицу со статистиками месячного перерасхода заданной услуги.\n",
    "    А именно: как часто пользователи превышали лимит тарифа (абсолютное значение и относительное от всех клиентов с тарифом),\n",
    "    медиану, среднее и стандартное отклонение.\n",
    "    \"\"\"\n",
    "    users_by_tariff = df.groupby('tariff').agg({'user_id': ['count']})\n",
    "    extra_stats = (full_data.query('{}>0'.format(extra_service))\n",
    "                   .groupby('tariff').agg({service: ['count', 'median', 'mean', 'std']}))\n",
    "    extra_stats = users_by_tariff.join(extra_stats).fillna(0)\n",
    "    \n",
    "    extra_stats[('percentage', 'count')] = ((extra_stats[(service, 'count')] / \n",
    "                                             extra_stats[('user_id', 'count')] * 100).round(2))\n",
    "    extra_stats.columns = ['total_cnt', service+'_cnt', service+'_median',\n",
    "                           service+'_mean',service+'_std', service+'_percentage']\n",
    "    extra_stats = extra_stats[['total_cnt', service+'_cnt', service+'_percentage',\n",
    "                               service+'_median', service+'_mean', service+'_std']]\n",
    "    return extra_stats"
   ]
  },
  {
   "cell_type": "code",
   "execution_count": 39,
   "metadata": {},
   "outputs": [],
   "source": [
    "def service_hist(df, service, title='', lims=[]):\n",
    "    \"\"\"\n",
    "    Функция возвращает распределение использования услуги. \n",
    "    \n",
    "    Параметры:\n",
    "    - df — таблица, по данным из которой строится распределение,\n",
    "    - service — название столбца с нужной услугой,\n",
    "    - title — заголовок графика,\n",
    "    - lims — лимиты на услугу для каждого тарифа, если есть.\n",
    "    \"\"\"\n",
    "    smart = df[df['tariff']=='smart'][service]\n",
    "    ultra = df[df['tariff']=='ultra'][service]\n",
    "    \n",
    "    plt.figure(figsize=(11, 6.5))\n",
    "    plt.hist(smart, bins=50, alpha=0.6, label='Смарт')\n",
    "    plt.hist(ultra, bins=50, alpha=0.6, label='Ультра', color='orange') \n",
    "\n",
    "    if len(lims) == 2:\n",
    "        smart_lim, ultra_lim = lims\n",
    "        if ultra.max() > ultra_lim:\n",
    "            smart_lim, ultra_lim = lims\n",
    "            plt.axvline(x=smart_lim, linewidth=3)\n",
    "            plt.axvline(x=ultra_lim, linewidth=3, color='orange')\n",
    "        else:\n",
    "            plt.axvline(x=smart_lim, linewidth=3)\n",
    "        \n",
    "    plt.title(title, fontsize=16, pad=13)\n",
    "    plt.legend(loc='upper right', prop={'size': 13.3})\n",
    "    \n",
    "    plt.gca().set_xlabel('Объем услуги', fontsize=13, labelpad=10)\n",
    "    plt.gca().set_ylabel('Пользователе-месяцы', fontsize=13, labelpad=10)\n",
    "    plt.gca().tick_params(axis='both', labelsize=12)\n",
    "    \n",
    "    ans = plt.gcf()\n",
    "    plt.close()\n",
    "    return ans"
   ]
  },
  {
   "cell_type": "markdown",
   "metadata": {},
   "source": [
    "### Расход минут разговора в месяц<a name=\"Расход-минут-разговора-в-месяц\"></a>"
   ]
  },
  {
   "cell_type": "code",
   "execution_count": 40,
   "metadata": {},
   "outputs": [
    {
     "data": {
      "text/html": [
       "<div>\n",
       "<style scoped>\n",
       "    .dataframe tbody tr th:only-of-type {\n",
       "        vertical-align: middle;\n",
       "    }\n",
       "\n",
       "    .dataframe tbody tr th {\n",
       "        vertical-align: top;\n",
       "    }\n",
       "\n",
       "    .dataframe thead tr th {\n",
       "        text-align: left;\n",
       "    }\n",
       "\n",
       "    .dataframe thead tr:last-of-type th {\n",
       "        text-align: right;\n",
       "    }\n",
       "</style>\n",
       "<table border=\"1\" class=\"dataframe\">\n",
       "  <thead>\n",
       "    <tr>\n",
       "      <th></th>\n",
       "      <th>median</th>\n",
       "      <th>mean</th>\n",
       "      <th>std</th>\n",
       "    </tr>\n",
       "    <tr>\n",
       "      <th></th>\n",
       "      <th>calls_duration_sum</th>\n",
       "      <th>calls_duration_sum</th>\n",
       "      <th>calls_duration_sum</th>\n",
       "    </tr>\n",
       "    <tr>\n",
       "      <th>tariff</th>\n",
       "      <th></th>\n",
       "      <th></th>\n",
       "      <th></th>\n",
       "    </tr>\n",
       "  </thead>\n",
       "  <tbody>\n",
       "    <tr>\n",
       "      <th>smart</th>\n",
       "      <td>422</td>\n",
       "      <td>417.934948</td>\n",
       "      <td>190.313730</td>\n",
       "    </tr>\n",
       "    <tr>\n",
       "      <th>ultra</th>\n",
       "      <td>518</td>\n",
       "      <td>526.623350</td>\n",
       "      <td>317.606098</td>\n",
       "    </tr>\n",
       "  </tbody>\n",
       "</table>\n",
       "</div>"
      ],
      "text/plain": [
       "                   median               mean                std\n",
       "       calls_duration_sum calls_duration_sum calls_duration_sum\n",
       "tariff                                                         \n",
       "smart                 422         417.934948         190.313730\n",
       "ultra                 518         526.623350         317.606098"
      ]
     },
     "metadata": {},
     "output_type": "display_data"
    },
    {
     "data": {
      "image/png": "[encoded data removed]",
      "text/plain": [
       "<Figure size 792x468 with 1 Axes>"
      ]
     },
     "execution_count": 40,
     "metadata": {},
     "output_type": "execute_result"
    }
   ],
   "source": [
    "display(service_stats(full_data, 'calls_duration_sum'))\n",
    "service_hist(full_data, 'calls_duration_sum', 'Распределение расхода минут разговора в месяц', [500, 3000])"
   ]
  },
  {
   "cell_type": "markdown",
   "metadata": {},
   "source": [
    "Вертикальными прямыми разных цветов обозначены лимиты для каждого тарифа. На этом графике прямая только одна, потому что пользователи «Ультры» не выходили за пределы тарифного пакета. \n",
    "\n",
    "Из распределения видно, что клиенты со «Смартом» часто используют весь пакет минут и даже выходят за его пределы. Среди пользователей с «Ультрой» другая динамика: они с примерно одинаковой частотой тратят от нуля до 900 минут в месяц. Это, кстати, в три раза меньше лимита в их тарифе.\n",
    "\n",
    "Статистики показывают, что и средний, и медианный клиент «Ультры» тратят в месяц всего на сто минут больше, чем клиент со «Смартом» — около 420 и 520 минут соответственно."
   ]
  },
  {
   "cell_type": "code",
   "execution_count": 41,
   "metadata": {},
   "outputs": [
    {
     "data": {
      "text/html": [
       "<div>\n",
       "<style scoped>\n",
       "    .dataframe tbody tr th:only-of-type {\n",
       "        vertical-align: middle;\n",
       "    }\n",
       "\n",
       "    .dataframe tbody tr th {\n",
       "        vertical-align: top;\n",
       "    }\n",
       "\n",
       "    .dataframe thead th {\n",
       "        text-align: right;\n",
       "    }\n",
       "</style>\n",
       "<table border=\"1\" class=\"dataframe\">\n",
       "  <thead>\n",
       "    <tr style=\"text-align: right;\">\n",
       "      <th></th>\n",
       "      <th>total_cnt</th>\n",
       "      <th>extra_minutes_cnt</th>\n",
       "      <th>extra_minutes_percentage</th>\n",
       "      <th>extra_minutes_median</th>\n",
       "      <th>extra_minutes_mean</th>\n",
       "      <th>extra_minutes_std</th>\n",
       "    </tr>\n",
       "    <tr>\n",
       "      <th>tariff</th>\n",
       "      <th></th>\n",
       "      <th></th>\n",
       "      <th></th>\n",
       "      <th></th>\n",
       "      <th></th>\n",
       "      <th></th>\n",
       "    </tr>\n",
       "  </thead>\n",
       "  <tbody>\n",
       "    <tr>\n",
       "      <th>smart</th>\n",
       "      <td>2229</td>\n",
       "      <td>754.0</td>\n",
       "      <td>33.83</td>\n",
       "      <td>100.0</td>\n",
       "      <td>122.996021</td>\n",
       "      <td>105.793184</td>\n",
       "    </tr>\n",
       "    <tr>\n",
       "      <th>ultra</th>\n",
       "      <td>985</td>\n",
       "      <td>0.0</td>\n",
       "      <td>0.00</td>\n",
       "      <td>0.0</td>\n",
       "      <td>0.000000</td>\n",
       "      <td>0.000000</td>\n",
       "    </tr>\n",
       "  </tbody>\n",
       "</table>\n",
       "</div>"
      ],
      "text/plain": [
       "        total_cnt  extra_minutes_cnt  extra_minutes_percentage  \\\n",
       "tariff                                                           \n",
       "smart        2229              754.0                     33.83   \n",
       "ultra         985                0.0                      0.00   \n",
       "\n",
       "        extra_minutes_median  extra_minutes_mean  extra_minutes_std  \n",
       "tariff                                                               \n",
       "smart                  100.0          122.996021         105.793184  \n",
       "ultra                    0.0            0.000000           0.000000  "
      ]
     },
     "metadata": {},
     "output_type": "display_data"
    },
    {
     "data": {
      "image/png": "[encoded data removed]",
      "text/plain": [
       "<Figure size 792x468 with 1 Axes>"
      ]
     },
     "execution_count": 41,
     "metadata": {},
     "output_type": "execute_result"
    }
   ],
   "source": [
    "extra_service = 'extra_minutes'\n",
    "display(extra_stats(full_data, extra_service))\n",
    "service_hist(full_data.query('{}>0'.format(extra_service)), extra_service, 'Распределение расхода дополнительных минут разговора в месяц')"
   ]
  },
  {
   "cell_type": "markdown",
   "metadata": {},
   "source": [
    "Клиентам со «Смартом» не хватает пакетных 500 минут разговора в 34% случаев. Чаще всего они используют до 100 дополнительных минут, а больше 300 — крайне редко."
   ]
  },
  {
   "cell_type": "markdown",
   "metadata": {},
   "source": [
    "### Месячный расход сообщений<a name=\"Месячный-расход-сообщений\"></a>"
   ]
  },
  {
   "cell_type": "code",
   "execution_count": 42,
   "metadata": {},
   "outputs": [
    {
     "data": {
      "text/html": [
       "<div>\n",
       "<style scoped>\n",
       "    .dataframe tbody tr th:only-of-type {\n",
       "        vertical-align: middle;\n",
       "    }\n",
       "\n",
       "    .dataframe tbody tr th {\n",
       "        vertical-align: top;\n",
       "    }\n",
       "\n",
       "    .dataframe thead tr th {\n",
       "        text-align: left;\n",
       "    }\n",
       "\n",
       "    .dataframe thead tr:last-of-type th {\n",
       "        text-align: right;\n",
       "    }\n",
       "</style>\n",
       "<table border=\"1\" class=\"dataframe\">\n",
       "  <thead>\n",
       "    <tr>\n",
       "      <th></th>\n",
       "      <th>median</th>\n",
       "      <th>mean</th>\n",
       "      <th>std</th>\n",
       "    </tr>\n",
       "    <tr>\n",
       "      <th></th>\n",
       "      <th>messages_count</th>\n",
       "      <th>messages_count</th>\n",
       "      <th>messages_count</th>\n",
       "    </tr>\n",
       "    <tr>\n",
       "      <th>tariff</th>\n",
       "      <th></th>\n",
       "      <th></th>\n",
       "      <th></th>\n",
       "    </tr>\n",
       "  </thead>\n",
       "  <tbody>\n",
       "    <tr>\n",
       "      <th>smart</th>\n",
       "      <td>28</td>\n",
       "      <td>33.384029</td>\n",
       "      <td>28.227876</td>\n",
       "    </tr>\n",
       "    <tr>\n",
       "      <th>ultra</th>\n",
       "      <td>38</td>\n",
       "      <td>49.363452</td>\n",
       "      <td>47.804457</td>\n",
       "    </tr>\n",
       "  </tbody>\n",
       "</table>\n",
       "</div>"
      ],
      "text/plain": [
       "               median           mean            std\n",
       "       messages_count messages_count messages_count\n",
       "tariff                                             \n",
       "smart              28      33.384029      28.227876\n",
       "ultra              38      49.363452      47.804457"
      ]
     },
     "metadata": {},
     "output_type": "display_data"
    },
    {
     "data": {
      "image/png": "[encoded data removed]",
      "text/plain": [
       "<Figure size 792x468 with 1 Axes>"
      ]
     },
     "execution_count": 42,
     "metadata": {},
     "output_type": "execute_result"
    }
   ],
   "source": [
    "display(service_stats(full_data, 'messages_count'))\n",
    "service_hist(full_data, 'messages_count', 'Распределение числа отправленных сообщений в месяц', [50, 1000])"
   ]
  },
  {
   "cell_type": "markdown",
   "metadata": {},
   "source": [
    "На графике снова одна вертикальная прямая: ни один клиент с «Ультрой» ни разу за 2018 год не достиг тарифного лимита по отправленным сообщениям. Смски вообще не очень популярный вид связи. Об этом говорят пики у нуля, которые обозначают, что в какие-то месяцы клиенты пользовались звонками и/или интернетом, но не отправили ни одного сообщения."
   ]
  },
  {
   "cell_type": "code",
   "execution_count": 43,
   "metadata": {},
   "outputs": [
    {
     "data": {
      "text/html": [
       "<div>\n",
       "<style scoped>\n",
       "    .dataframe tbody tr th:only-of-type {\n",
       "        vertical-align: middle;\n",
       "    }\n",
       "\n",
       "    .dataframe tbody tr th {\n",
       "        vertical-align: top;\n",
       "    }\n",
       "\n",
       "    .dataframe thead th {\n",
       "        text-align: right;\n",
       "    }\n",
       "</style>\n",
       "<table border=\"1\" class=\"dataframe\">\n",
       "  <thead>\n",
       "    <tr style=\"text-align: right;\">\n",
       "      <th></th>\n",
       "      <th>total_cnt</th>\n",
       "      <th>extra_messages_cnt</th>\n",
       "      <th>extra_messages_percentage</th>\n",
       "      <th>extra_messages_median</th>\n",
       "      <th>extra_messages_mean</th>\n",
       "      <th>extra_messages_std</th>\n",
       "    </tr>\n",
       "    <tr>\n",
       "      <th>tariff</th>\n",
       "      <th></th>\n",
       "      <th></th>\n",
       "      <th></th>\n",
       "      <th></th>\n",
       "      <th></th>\n",
       "      <th></th>\n",
       "    </tr>\n",
       "  </thead>\n",
       "  <tbody>\n",
       "    <tr>\n",
       "      <th>smart</th>\n",
       "      <td>2229</td>\n",
       "      <td>564.0</td>\n",
       "      <td>25.3</td>\n",
       "      <td>18.5</td>\n",
       "      <td>22.921986</td>\n",
       "      <td>17.942308</td>\n",
       "    </tr>\n",
       "    <tr>\n",
       "      <th>ultra</th>\n",
       "      <td>985</td>\n",
       "      <td>0.0</td>\n",
       "      <td>0.0</td>\n",
       "      <td>0.0</td>\n",
       "      <td>0.000000</td>\n",
       "      <td>0.000000</td>\n",
       "    </tr>\n",
       "  </tbody>\n",
       "</table>\n",
       "</div>"
      ],
      "text/plain": [
       "        total_cnt  extra_messages_cnt  extra_messages_percentage  \\\n",
       "tariff                                                             \n",
       "smart        2229               564.0                       25.3   \n",
       "ultra         985                 0.0                        0.0   \n",
       "\n",
       "        extra_messages_median  extra_messages_mean  extra_messages_std  \n",
       "tariff                                                                  \n",
       "smart                    18.5            22.921986           17.942308  \n",
       "ultra                     0.0             0.000000            0.000000  "
      ]
     },
     "metadata": {},
     "output_type": "display_data"
    },
    {
     "data": {
      "image/png": "[encoded data removed]",
      "text/plain": [
       "<Figure size 792x468 with 1 Axes>"
      ]
     },
     "execution_count": 43,
     "metadata": {},
     "output_type": "execute_result"
    }
   ],
   "source": [
    "extra_service = 'extra_messages'\n",
    "display(extra_stats(full_data, extra_service))\n",
    "service_hist(full_data.query('{}>0'.format(extra_service)), extra_service, 'Распределение расхода дополнительных сообщений в месяц')"
   ]
  },
  {
   "cell_type": "markdown",
   "metadata": {},
   "source": [
    "Всего в четверти случаев пользователям «Смарта» не хватило пакетных 50 смсок. Перерасход почти линейно падает от 40 раз с одной смской до 2-3 в районе 60. В среднем пользователи превышают лимит на 19–23 смски в месяц и переплачивают за это меньше ста рублей."
   ]
  },
  {
   "cell_type": "markdown",
   "metadata": {},
   "source": [
    "### Объем используемого интернет-трафика в месяц<a name=\"Объем-используемого-интернет-трафика-в-месяц\"></a>"
   ]
  },
  {
   "cell_type": "code",
   "execution_count": 44,
   "metadata": {},
   "outputs": [
    {
     "data": {
      "text/html": [
       "<div>\n",
       "<style scoped>\n",
       "    .dataframe tbody tr th:only-of-type {\n",
       "        vertical-align: middle;\n",
       "    }\n",
       "\n",
       "    .dataframe tbody tr th {\n",
       "        vertical-align: top;\n",
       "    }\n",
       "\n",
       "    .dataframe thead tr th {\n",
       "        text-align: left;\n",
       "    }\n",
       "\n",
       "    .dataframe thead tr:last-of-type th {\n",
       "        text-align: right;\n",
       "    }\n",
       "</style>\n",
       "<table border=\"1\" class=\"dataframe\">\n",
       "  <thead>\n",
       "    <tr>\n",
       "      <th></th>\n",
       "      <th>median</th>\n",
       "      <th>mean</th>\n",
       "      <th>std</th>\n",
       "    </tr>\n",
       "    <tr>\n",
       "      <th></th>\n",
       "      <th>mb_used_sum</th>\n",
       "      <th>mb_used_sum</th>\n",
       "      <th>mb_used_sum</th>\n",
       "    </tr>\n",
       "    <tr>\n",
       "      <th>tariff</th>\n",
       "      <th></th>\n",
       "      <th></th>\n",
       "      <th></th>\n",
       "    </tr>\n",
       "  </thead>\n",
       "  <tbody>\n",
       "    <tr>\n",
       "      <th>smart</th>\n",
       "      <td>16531</td>\n",
       "      <td>16229.188425</td>\n",
       "      <td>5877.576978</td>\n",
       "    </tr>\n",
       "    <tr>\n",
       "      <th>ultra</th>\n",
       "      <td>19324</td>\n",
       "      <td>19486.901523</td>\n",
       "      <td>10096.317202</td>\n",
       "    </tr>\n",
       "  </tbody>\n",
       "</table>\n",
       "</div>"
      ],
      "text/plain": [
       "            median          mean           std\n",
       "       mb_used_sum   mb_used_sum   mb_used_sum\n",
       "tariff                                        \n",
       "smart        16531  16229.188425   5877.576978\n",
       "ultra        19324  19486.901523  10096.317202"
      ]
     },
     "metadata": {},
     "output_type": "display_data"
    },
    {
     "data": {
      "image/png": "[encoded data removed]",
      "text/plain": [
       "<Figure size 792x468 with 1 Axes>"
      ]
     },
     "execution_count": 44,
     "metadata": {},
     "output_type": "execute_result"
    }
   ],
   "source": [
    "display(service_stats(full_data, 'mb_used_sum'))\n",
    "service_hist(full_data, 'mb_used_sum', 'Распределение объема (в мегабайтах) используемого интернет-трафика в месяц', [15360, 30720])"
   ]
  },
  {
   "cell_type": "markdown",
   "metadata": {},
   "source": [
    "Мобильный интернет — самая востребованная услуга. Клиентам со «Смартом» не хватает тарифного пакета в более чем в половине случаев. Пользователи «Ультры» выходят за пределы тарифа гораздо реже, но со звонками и сообщениями такого вообще не бывает.\n",
    "\n",
    "Интересно, что среднее потребление на обоих тарифах несильно отличается. На «Смарте» — примерно 16 гигабайт в месяц, на «Ультре» — 19, что всего на 20% больше. А по условиям тарифа разница составляет 15 гигибайт в месяц, или месячный лимит «Смарта»."
   ]
  },
  {
   "cell_type": "code",
   "execution_count": 45,
   "metadata": {},
   "outputs": [
    {
     "data": {
      "text/html": [
       "<div>\n",
       "<style scoped>\n",
       "    .dataframe tbody tr th:only-of-type {\n",
       "        vertical-align: middle;\n",
       "    }\n",
       "\n",
       "    .dataframe tbody tr th {\n",
       "        vertical-align: top;\n",
       "    }\n",
       "\n",
       "    .dataframe thead th {\n",
       "        text-align: right;\n",
       "    }\n",
       "</style>\n",
       "<table border=\"1\" class=\"dataframe\">\n",
       "  <thead>\n",
       "    <tr style=\"text-align: right;\">\n",
       "      <th></th>\n",
       "      <th>total_cnt</th>\n",
       "      <th>extra_gbs_cnt</th>\n",
       "      <th>extra_gbs_percentage</th>\n",
       "      <th>extra_gbs_median</th>\n",
       "      <th>extra_gbs_mean</th>\n",
       "      <th>extra_gbs_std</th>\n",
       "    </tr>\n",
       "    <tr>\n",
       "      <th>tariff</th>\n",
       "      <th></th>\n",
       "      <th></th>\n",
       "      <th></th>\n",
       "      <th></th>\n",
       "      <th></th>\n",
       "      <th></th>\n",
       "    </tr>\n",
       "  </thead>\n",
       "  <tbody>\n",
       "    <tr>\n",
       "      <th>smart</th>\n",
       "      <td>2229</td>\n",
       "      <td>1309</td>\n",
       "      <td>58.73</td>\n",
       "      <td>4</td>\n",
       "      <td>5.129106</td>\n",
       "      <td>3.523749</td>\n",
       "    </tr>\n",
       "    <tr>\n",
       "      <th>ultra</th>\n",
       "      <td>985</td>\n",
       "      <td>134</td>\n",
       "      <td>13.60</td>\n",
       "      <td>5</td>\n",
       "      <td>5.932836</td>\n",
       "      <td>4.067472</td>\n",
       "    </tr>\n",
       "  </tbody>\n",
       "</table>\n",
       "</div>"
      ],
      "text/plain": [
       "        total_cnt  extra_gbs_cnt  extra_gbs_percentage  extra_gbs_median  \\\n",
       "tariff                                                                     \n",
       "smart        2229           1309                 58.73                 4   \n",
       "ultra         985            134                 13.60                 5   \n",
       "\n",
       "        extra_gbs_mean  extra_gbs_std  \n",
       "tariff                                 \n",
       "smart         5.129106       3.523749  \n",
       "ultra         5.932836       4.067472  "
      ]
     },
     "metadata": {},
     "output_type": "display_data"
    },
    {
     "data": {
      "image/png": "[encoded data removed]",
      "text/plain": [
       "<Figure size 792x468 with 1 Axes>"
      ]
     },
     "execution_count": 45,
     "metadata": {},
     "output_type": "execute_result"
    }
   ],
   "source": [
    "extra_service = 'extra_gbs'\n",
    "display(extra_stats(full_data, extra_service))\n",
    "service_hist(full_data.query('{}>0'.format(extra_service)), extra_service,\n",
    "             'Распределение расхода дополнительного интернет-трафика в месяц (в мегабайтах)')"
   ]
  },
  {
   "cell_type": "markdown",
   "metadata": {},
   "source": [
    "Клиенты с «Ультрой» используют дополнительный интернет в 14% случаев. Они примерно с одинаковой частотой расходуют от 1 до 10 допгигабайт в месяц и совсем редко тратят больше.\n",
    "\n",
    "У пользователей «Смарта» другая динамика перерасхода трафика: чем перерасход больше, тем реже он встречается. При этом от 1 до 5 допгигабайт тратили примерно с одинаковой частотой, хотя начиная с 3 гигабайт переплата за интернет превосходит месячную абонентскую плату (600 и 550 рублей соответственно)."
   ]
  },
  {
   "cell_type": "markdown",
   "metadata": {},
   "source": [
    "### Месячная выручка<a name=\"Выручка\"></a>"
   ]
  },
  {
   "cell_type": "code",
   "execution_count": 46,
   "metadata": {},
   "outputs": [
    {
     "data": {
      "text/html": [
       "<div>\n",
       "<style scoped>\n",
       "    .dataframe tbody tr th:only-of-type {\n",
       "        vertical-align: middle;\n",
       "    }\n",
       "\n",
       "    .dataframe tbody tr th {\n",
       "        vertical-align: top;\n",
       "    }\n",
       "\n",
       "    .dataframe thead tr th {\n",
       "        text-align: left;\n",
       "    }\n",
       "\n",
       "    .dataframe thead tr:last-of-type th {\n",
       "        text-align: right;\n",
       "    }\n",
       "</style>\n",
       "<table border=\"1\" class=\"dataframe\">\n",
       "  <thead>\n",
       "    <tr>\n",
       "      <th></th>\n",
       "      <th>median</th>\n",
       "      <th>mean</th>\n",
       "      <th>std</th>\n",
       "      <th>sum</th>\n",
       "    </tr>\n",
       "    <tr>\n",
       "      <th></th>\n",
       "      <th>revenue</th>\n",
       "      <th>revenue</th>\n",
       "      <th>revenue</th>\n",
       "      <th>revenue</th>\n",
       "    </tr>\n",
       "    <tr>\n",
       "      <th>tariff</th>\n",
       "      <th></th>\n",
       "      <th></th>\n",
       "      <th></th>\n",
       "      <th></th>\n",
       "    </tr>\n",
       "  </thead>\n",
       "  <tbody>\n",
       "    <tr>\n",
       "      <th>smart</th>\n",
       "      <td>1038</td>\n",
       "      <td>1294.63930</td>\n",
       "      <td>820.933202</td>\n",
       "      <td>2885751</td>\n",
       "    </tr>\n",
       "    <tr>\n",
       "      <th>ultra</th>\n",
       "      <td>1950</td>\n",
       "      <td>2071.06599</td>\n",
       "      <td>378.802377</td>\n",
       "      <td>2040000</td>\n",
       "    </tr>\n",
       "  </tbody>\n",
       "</table>\n",
       "</div>"
      ],
      "text/plain": [
       "        median        mean         std      sum\n",
       "       revenue     revenue     revenue  revenue\n",
       "tariff                                         \n",
       "smart     1038  1294.63930  820.933202  2885751\n",
       "ultra     1950  2071.06599  378.802377  2040000"
      ]
     },
     "execution_count": 46,
     "metadata": {},
     "output_type": "execute_result"
    }
   ],
   "source": [
    "revenue_stats = full_data.pivot_table(index ='tariff', values='revenue', aggfunc=['median', 'mean', 'std', 'sum'])\n",
    "revenue_stats"
   ]
  },
  {
   "cell_type": "markdown",
   "metadata": {},
   "source": [
    "Интересно, что пользователи «Смарта» в половине случаев платят за связь в два раза больше месячной абонентской платы (550 рублей)."
   ]
  },
  {
   "cell_type": "code",
   "execution_count": 47,
   "metadata": {
    "scrolled": false
   },
   "outputs": [
    {
     "data": {
      "image/png": "[encoded data removed]",
      "text/plain": [
       "<Figure size 792x468 with 1 Axes>"
      ]
     },
     "execution_count": 47,
     "metadata": {},
     "output_type": "execute_result"
    }
   ],
   "source": [
    "service_hist(full_data, 'revenue', 'Распределение месячной выручки с клиента', [550, 1950])"
   ]
  },
  {
   "cell_type": "markdown",
   "metadata": {},
   "source": [
    "Из распределения видно, что клиенты со «Смартом» чаще платят за услуги больше стандартной абонентской, чем клиенты «Ультры». При этом иногда они платят даже больше, чем абонентская плата за «Ультру»."
   ]
  },
  {
   "cell_type": "code",
   "execution_count": 48,
   "metadata": {},
   "outputs": [
    {
     "data": {
      "text/html": [
       "<div>\n",
       "<style scoped>\n",
       "    .dataframe tbody tr th:only-of-type {\n",
       "        vertical-align: middle;\n",
       "    }\n",
       "\n",
       "    .dataframe tbody tr th {\n",
       "        vertical-align: top;\n",
       "    }\n",
       "\n",
       "    .dataframe thead th {\n",
       "        text-align: right;\n",
       "    }\n",
       "</style>\n",
       "<table border=\"1\" class=\"dataframe\">\n",
       "  <thead>\n",
       "    <tr style=\"text-align: right;\">\n",
       "      <th></th>\n",
       "      <th>total_cnt</th>\n",
       "      <th>overpayment_cnt</th>\n",
       "      <th>overpayment_percentage</th>\n",
       "      <th>overpayment_median</th>\n",
       "      <th>overpayment_mean</th>\n",
       "      <th>overpayment_std</th>\n",
       "    </tr>\n",
       "    <tr>\n",
       "      <th>tariff</th>\n",
       "      <th></th>\n",
       "      <th></th>\n",
       "      <th></th>\n",
       "      <th></th>\n",
       "      <th></th>\n",
       "      <th></th>\n",
       "    </tr>\n",
       "  </thead>\n",
       "  <tbody>\n",
       "    <tr>\n",
       "      <th>smart</th>\n",
       "      <td>2229</td>\n",
       "      <td>1665</td>\n",
       "      <td>74.7</td>\n",
       "      <td>800</td>\n",
       "      <td>996.877477</td>\n",
       "      <td>806.692933</td>\n",
       "    </tr>\n",
       "    <tr>\n",
       "      <th>ultra</th>\n",
       "      <td>985</td>\n",
       "      <td>134</td>\n",
       "      <td>13.6</td>\n",
       "      <td>750</td>\n",
       "      <td>889.925373</td>\n",
       "      <td>610.120777</td>\n",
       "    </tr>\n",
       "  </tbody>\n",
       "</table>\n",
       "</div>"
      ],
      "text/plain": [
       "        total_cnt  overpayment_cnt  overpayment_percentage  \\\n",
       "tariff                                                       \n",
       "smart        2229             1665                    74.7   \n",
       "ultra         985              134                    13.6   \n",
       "\n",
       "        overpayment_median  overpayment_mean  overpayment_std  \n",
       "tariff                                                         \n",
       "smart                  800        996.877477       806.692933  \n",
       "ultra                  750        889.925373       610.120777  "
      ]
     },
     "metadata": {},
     "output_type": "display_data"
    },
    {
     "data": {
      "image/png": "[encoded data removed]",
      "text/plain": [
       "<Figure size 792x468 with 1 Axes>"
      ]
     },
     "execution_count": 48,
     "metadata": {},
     "output_type": "execute_result"
    }
   ],
   "source": [
    "extra_service = 'overpayment'\n",
    "display(extra_stats(full_data, extra_service))\n",
    "service_hist(full_data.query('{}>0'.format(extra_service)), extra_service, 'Распределение переплат за месяц')"
   ]
  },
  {
   "cell_type": "markdown",
   "metadata": {},
   "source": [
    "Интересно, что и в случае с пользователями «Смарта», и в случае с пользователями «Ультры» распределение переплат имеет ярко выраженные зубцы. Можно заметить, что они находятся у чисел кратных 200 и 150, то есть сумм равных `n * стоимость допгигабайта интернета на тарифе`."
   ]
  },
  {
   "cell_type": "markdown",
   "metadata": {},
   "source": [
    "[К содержанию](#Содержание)"
   ]
  },
  {
   "cell_type": "markdown",
   "metadata": {},
   "source": [
    "## 4. Проверка гипотез<a name=\"4.-Проверка-гипотез\"></a>"
   ]
  },
  {
   "cell_type": "markdown",
   "metadata": {},
   "source": [
    "Проверим две гипотезы:\n",
    "* средняя выручка пользователей тарифов «Ультра» и «Смарт» различается;\n",
    "* средняя выручка пользователей из Москвы отличается от выручки пользователей из других регионов."
   ]
  },
  {
   "cell_type": "markdown",
   "metadata": {},
   "source": [
    "### Различается ли средняя выручка с пользователей тарифов «Ультра» и «Смарт»<a name=\"Различается-ли-средняя-выручка-с-пользователей-тарифов-«Ультра»-и-«Смарт»\"></a>"
   ]
  },
  {
   "cell_type": "markdown",
   "metadata": {},
   "source": [
    "Начнем со средней выручки с пользователей тарифов «Ультра» и «Смарт». \n",
    "\n",
    "**Нулевая гипотеза:** Средняя выручка с пользователей тарифов «Ультра» равна средней выручке с пользователей тарифа «Смарт».  \n",
    "**Альтернативная гипотеза:** Средняя выручка с пользователей тарифов «Ультра» и «Смарт» различается.\n",
    "\n",
    "Для проверки нулевой гипотезы воспользуемся методом `results = st.ttest_ind`. Укажем `equal_var = False`, потому что мне кажется, что у генеральных совокупностей, из которых взяты выборки, разные параметры распределения.\n",
    "\n",
    "Пороговым значеним alpha сделаем 5%."
   ]
  },
  {
   "cell_type": "code",
   "execution_count": 49,
   "metadata": {},
   "outputs": [
    {
     "name": "stdout",
     "output_type": "stream",
     "text": [
      "p-значение: 2.7240946993530856e-246\n",
      "Отвергаем нулевую гипотезу\n"
     ]
    }
   ],
   "source": [
    "alpha = 0.05\n",
    "results = st.ttest_ind(full_data[full_data['tariff']=='smart']['revenue'],\n",
    "                       full_data[full_data['tariff']=='ultra']['revenue'],\n",
    "                       equal_var=False)\n",
    "\n",
    "print('p-значение:', results.pvalue)\n",
    "\n",
    "if (results.pvalue < alpha):\n",
    "    print(\"Отвергаем нулевую гипотезу\")\n",
    "else:\n",
    "    print(\"Не получилось отвергнуть нулевую гипотезу\") "
   ]
  },
  {
   "cell_type": "markdown",
   "metadata": {},
   "source": [
    "Имеющиеся данные указывают на то, что нулевая гипотеза, скорее всего, неверна. То есть средняя выручка с пользователей тарифов «Ультра» и «Смарт» **различается**."
   ]
  },
  {
   "cell_type": "markdown",
   "metadata": {},
   "source": [
    "Посмотрим, на каком тарифе средняя выручка больше."
   ]
  },
  {
   "cell_type": "code",
   "execution_count": 50,
   "metadata": {},
   "outputs": [
    {
     "name": "stdout",
     "output_type": "stream",
     "text": [
      "\u001b[1mСредняя выручка с клиентов\u001b[0m\n",
      "Смарт: 1295\n",
      "Ультра: 2071\n"
     ]
    }
   ],
   "source": [
    "mean_revenue_smart = round(full_data[full_data['tariff']=='smart']['revenue'].mean())\n",
    "mean_revenue_ultra = round(full_data[full_data['tariff']=='ultra']['revenue'].mean())\n",
    "\n",
    "print('\\033[1m' + 'Средняя выручка с клиентов' + '\\033[0m')\n",
    "print('Смарт:', mean_revenue_smart)\n",
    "print('Ультра:', mean_revenue_ultra)"
   ]
  },
  {
   "cell_type": "markdown",
   "metadata": {},
   "source": [
    "Выручка с клиентов с «Ультрой» ожидаемо больше, чем с клиентов со «Смартом»."
   ]
  },
  {
   "cell_type": "markdown",
   "metadata": {},
   "source": [
    "### Отличается ли средняя выручка с пользователей из Москвы от выручки с пользователей из других регионов<a name=\"Отличается-ли-средняя-выручка-с-пользователей-из-Москвы-от-выручки-с-пользователей-из-других-регионов\"></a>"
   ]
  },
  {
   "cell_type": "markdown",
   "metadata": {},
   "source": [
    "Теперь проверим вторую гипотезу о том, что средняя выручка с пользователей из Москвы отличается от выручки с пользователей из других регионов. \n",
    "\n",
    "**Нулевая гипотеза:** Средняя выручка с пользователей из Москвы равна выручке с пользователей из других регионов.  \n",
    "**Альтернативная гипотеза:** Средняя выручка с пользователей из Москвы и регионов различается.\n",
    "\n",
    "Проверим нулевую гипотезу тем же образом, что и предыдущую нулевую гипотезу."
   ]
  },
  {
   "cell_type": "code",
   "execution_count": 51,
   "metadata": {},
   "outputs": [
    {
     "name": "stdout",
     "output_type": "stream",
     "text": [
      "p-значение: 0.5126564657748214\n",
      "Не получилось отвергнуть нулевую гипотезу\n"
     ]
    }
   ],
   "source": [
    "results = st.ttest_ind(full_data[full_data['city']=='Москва']['revenue'],\n",
    "                       full_data[full_data['city']!='Москва']['revenue'],\n",
    "                       equal_var=False)\n",
    "\n",
    "print('p-значение:', results.pvalue)\n",
    "\n",
    "if (results.pvalue < alpha):\n",
    "    print(\"Отвергаем нулевую гипотезу\")\n",
    "else:\n",
    "    print(\"Не получилось отвергнуть нулевую гипотезу\") "
   ]
  },
  {
   "cell_type": "markdown",
   "metadata": {},
   "source": [
    "На этот раз данные не противоречат нулевой гипотезе. То есть средняя выручка с пользователей из Москвы **не отличается** от выручки пользователей из других регионов."
   ]
  },
  {
   "cell_type": "markdown",
   "metadata": {},
   "source": [
    "### Вывод\n",
    "\n",
    "С помощью t-тестов, которые используют распределение Стьюдента, мы проверили две гипотезы о средней выручке с клиентов с разными тарифами и о выручки с клиентов из Москвы и регионов. Данные показали, что:\n",
    "* средняя выручка с пользователей тарифов «Ультра» и «Смарт» **различается**: «Ультра» приносит больше выручки, чем «Смарт»;\n",
    "* средняя выручка с пользователей из Москвы **не отличается** от выручки пользователей из других регионов."
   ]
  },
  {
   "cell_type": "markdown",
   "metadata": {},
   "source": [
    "[К содержанию](#Содержание)"
   ]
  },
  {
   "cell_type": "markdown",
   "metadata": {},
   "source": [
    "## 6. Общий вывод<a name=\"6.-Общий-вывод\"></a>"
   ]
  },
  {
   "cell_type": "markdown",
   "metadata": {},
   "source": [
    "Основной задачей исследования было узнать, какой тариф приносит «Мегалайну» больше денег. Ответ — «Ультра»:\n",
    "\n",
    "- Исходя из теста Стьюдента, в котором мы сравнили месячные выручки с пользователей «Смарта» и «Ультры», этот параметр отличается в генеральных совокупностях.\n",
    "- А исходя из исследования выборок клиенты «Ультры» приносят больше денег."
   ]
  },
  {
   "cell_type": "markdown",
   "metadata": {},
   "source": [
    "Еще мы узнали, что средняя выручка с пользователей из Москвы не отличается от выручки с пользователей из других регионов."
   ]
  },
  {
   "cell_type": "markdown",
   "metadata": {},
   "source": [
    "Также в процессе исселедования мы изучили месячные траты на связь сверх абонентской платы за тариф:"
   ]
  },
  {
   "cell_type": "code",
   "execution_count": 52,
   "metadata": {},
   "outputs": [
    {
     "data": {
      "text/html": [
       "<div>\n",
       "<style scoped>\n",
       "    .dataframe tbody tr th:only-of-type {\n",
       "        vertical-align: middle;\n",
       "    }\n",
       "\n",
       "    .dataframe tbody tr th {\n",
       "        vertical-align: top;\n",
       "    }\n",
       "\n",
       "    .dataframe thead tr th {\n",
       "        text-align: left;\n",
       "    }\n",
       "\n",
       "    .dataframe thead tr:last-of-type th {\n",
       "        text-align: right;\n",
       "    }\n",
       "</style>\n",
       "<table border=\"1\" class=\"dataframe\">\n",
       "  <thead>\n",
       "    <tr>\n",
       "      <th></th>\n",
       "      <th>median</th>\n",
       "      <th>mean</th>\n",
       "      <th>std</th>\n",
       "      <th>sum</th>\n",
       "    </tr>\n",
       "    <tr>\n",
       "      <th></th>\n",
       "      <th>revenue</th>\n",
       "      <th>revenue</th>\n",
       "      <th>revenue</th>\n",
       "      <th>revenue</th>\n",
       "    </tr>\n",
       "    <tr>\n",
       "      <th>tariff</th>\n",
       "      <th></th>\n",
       "      <th></th>\n",
       "      <th></th>\n",
       "      <th></th>\n",
       "    </tr>\n",
       "  </thead>\n",
       "  <tbody>\n",
       "    <tr>\n",
       "      <th>smart</th>\n",
       "      <td>1038</td>\n",
       "      <td>1294.63930</td>\n",
       "      <td>820.933202</td>\n",
       "      <td>2885751</td>\n",
       "    </tr>\n",
       "    <tr>\n",
       "      <th>ultra</th>\n",
       "      <td>1950</td>\n",
       "      <td>2071.06599</td>\n",
       "      <td>378.802377</td>\n",
       "      <td>2040000</td>\n",
       "    </tr>\n",
       "  </tbody>\n",
       "</table>\n",
       "</div>"
      ],
      "text/plain": [
       "        median        mean         std      sum\n",
       "       revenue     revenue     revenue  revenue\n",
       "tariff                                         \n",
       "smart     1038  1294.63930  820.933202  2885751\n",
       "ultra     1950  2071.06599  378.802377  2040000"
      ]
     },
     "metadata": {},
     "output_type": "display_data"
    },
    {
     "data": {
      "text/html": [
       "<div>\n",
       "<style scoped>\n",
       "    .dataframe tbody tr th:only-of-type {\n",
       "        vertical-align: middle;\n",
       "    }\n",
       "\n",
       "    .dataframe tbody tr th {\n",
       "        vertical-align: top;\n",
       "    }\n",
       "\n",
       "    .dataframe thead th {\n",
       "        text-align: right;\n",
       "    }\n",
       "</style>\n",
       "<table border=\"1\" class=\"dataframe\">\n",
       "  <thead>\n",
       "    <tr style=\"text-align: right;\">\n",
       "      <th></th>\n",
       "      <th>total_cnt</th>\n",
       "      <th>overpayment_cnt</th>\n",
       "      <th>overpayment_percentage</th>\n",
       "      <th>overpayment_median</th>\n",
       "      <th>overpayment_mean</th>\n",
       "      <th>overpayment_std</th>\n",
       "    </tr>\n",
       "    <tr>\n",
       "      <th>tariff</th>\n",
       "      <th></th>\n",
       "      <th></th>\n",
       "      <th></th>\n",
       "      <th></th>\n",
       "      <th></th>\n",
       "      <th></th>\n",
       "    </tr>\n",
       "  </thead>\n",
       "  <tbody>\n",
       "    <tr>\n",
       "      <th>smart</th>\n",
       "      <td>2229</td>\n",
       "      <td>1665</td>\n",
       "      <td>74.7</td>\n",
       "      <td>800</td>\n",
       "      <td>996.877477</td>\n",
       "      <td>806.692933</td>\n",
       "    </tr>\n",
       "    <tr>\n",
       "      <th>ultra</th>\n",
       "      <td>985</td>\n",
       "      <td>134</td>\n",
       "      <td>13.6</td>\n",
       "      <td>750</td>\n",
       "      <td>889.925373</td>\n",
       "      <td>610.120777</td>\n",
       "    </tr>\n",
       "  </tbody>\n",
       "</table>\n",
       "</div>"
      ],
      "text/plain": [
       "        total_cnt  overpayment_cnt  overpayment_percentage  \\\n",
       "tariff                                                       \n",
       "smart        2229             1665                    74.7   \n",
       "ultra         985              134                    13.6   \n",
       "\n",
       "        overpayment_median  overpayment_mean  overpayment_std  \n",
       "tariff                                                         \n",
       "smart                  800        996.877477       806.692933  \n",
       "ultra                  750        889.925373       610.120777  "
      ]
     },
     "metadata": {},
     "output_type": "display_data"
    },
    {
     "data": {
      "image/png": "[encoded data removed]",
      "text/plain": [
       "<Figure size 792x468 with 1 Axes>"
      ]
     },
     "execution_count": 52,
     "metadata": {},
     "output_type": "execute_result"
    }
   ],
   "source": [
    "extra_service = 'overpayment'\n",
    "\n",
    "display(revenue_stats)\n",
    "display(extra_stats(full_data, extra_service))\n",
    "service_hist(full_data.query('{}>0'.format(extra_service)), extra_service, 'Распределение переплат за месяц')"
   ]
  },
  {
   "cell_type": "markdown",
   "metadata": {},
   "source": [
    "Пользователи «Смарта» платят больше абонентской платы в 75% случаев. При этом в половине случаев они доплачивают за услуги больше, чем стоит месяц пользования тарифом.\n",
    "\n",
    "Это объясняется тем, что самая популярная услуга (причем на обоих тарифах) — это мобильный интернет. Клиентам со «Смартом» не хватает тарифного пакета больше чем в половине случаев, и они нередко расходут больше 3 гигабайт дополнительного интернета, что уже стоит больше, чем абонентская плата на их тарифе (600 и 550 рублей соответственно)."
   ]
  },
  {
   "cell_type": "code",
   "execution_count": 53,
   "metadata": {},
   "outputs": [
    {
     "data": {
      "image/png": "[encoded data removed]",
      "text/plain": [
       "<Figure size 792x468 with 1 Axes>"
      ]
     },
     "metadata": {},
     "output_type": "display_data"
    },
    {
     "data": {
      "text/html": [
       "<div>\n",
       "<style scoped>\n",
       "    .dataframe tbody tr th:only-of-type {\n",
       "        vertical-align: middle;\n",
       "    }\n",
       "\n",
       "    .dataframe tbody tr th {\n",
       "        vertical-align: top;\n",
       "    }\n",
       "\n",
       "    .dataframe thead th {\n",
       "        text-align: right;\n",
       "    }\n",
       "</style>\n",
       "<table border=\"1\" class=\"dataframe\">\n",
       "  <thead>\n",
       "    <tr style=\"text-align: right;\">\n",
       "      <th></th>\n",
       "      <th>total_cnt</th>\n",
       "      <th>extra_gbs_cnt</th>\n",
       "      <th>extra_gbs_percentage</th>\n",
       "      <th>extra_gbs_median</th>\n",
       "      <th>extra_gbs_mean</th>\n",
       "      <th>extra_gbs_std</th>\n",
       "    </tr>\n",
       "    <tr>\n",
       "      <th>tariff</th>\n",
       "      <th></th>\n",
       "      <th></th>\n",
       "      <th></th>\n",
       "      <th></th>\n",
       "      <th></th>\n",
       "      <th></th>\n",
       "    </tr>\n",
       "  </thead>\n",
       "  <tbody>\n",
       "    <tr>\n",
       "      <th>smart</th>\n",
       "      <td>2229</td>\n",
       "      <td>1309</td>\n",
       "      <td>58.73</td>\n",
       "      <td>4</td>\n",
       "      <td>5.129106</td>\n",
       "      <td>3.523749</td>\n",
       "    </tr>\n",
       "    <tr>\n",
       "      <th>ultra</th>\n",
       "      <td>985</td>\n",
       "      <td>134</td>\n",
       "      <td>13.60</td>\n",
       "      <td>5</td>\n",
       "      <td>5.932836</td>\n",
       "      <td>4.067472</td>\n",
       "    </tr>\n",
       "  </tbody>\n",
       "</table>\n",
       "</div>"
      ],
      "text/plain": [
       "        total_cnt  extra_gbs_cnt  extra_gbs_percentage  extra_gbs_median  \\\n",
       "tariff                                                                     \n",
       "smart        2229           1309                 58.73                 4   \n",
       "ultra         985            134                 13.60                 5   \n",
       "\n",
       "        extra_gbs_mean  extra_gbs_std  \n",
       "tariff                                 \n",
       "smart         5.129106       3.523749  \n",
       "ultra         5.932836       4.067472  "
      ]
     },
     "metadata": {},
     "output_type": "display_data"
    },
    {
     "data": {
      "image/png": "[encoded data removed]",
      "text/plain": [
       "<Figure size 792x468 with 1 Axes>"
      ]
     },
     "execution_count": 53,
     "metadata": {},
     "output_type": "execute_result"
    }
   ],
   "source": [
    "display(service_hist(full_data, 'mb_used_sum', 'Распределение объема (в мегабайтах) используемого интернет-трафика в месяц', [15360, 30720]))\n",
    "\n",
    "extra_service = 'extra_gbs'\n",
    "display(extra_stats(full_data, extra_service))\n",
    "service_hist(full_data.query('{}>0'.format(extra_service)), extra_service,\n",
    "             'Распределение расхода дополнительного интернет-трафика в месяц (в мегабайтах)')"
   ]
  },
  {
   "cell_type": "markdown",
   "metadata": {},
   "source": [
    "[К содержанию](#Содержание)"
   ]
  }
 ],
 "metadata": {
  "kernelspec": {
   "display_name": "Python 3 (ipykernel)",
   "language": "python",
   "name": "python3"
  },
  "language_info": {
   "codemirror_mode": {
    "name": "ipython",
    "version": 3
   },
   "file_extension": ".py",
   "mimetype": "text/x-python",
   "name": "python",
   "nbconvert_exporter": "python",
   "pygments_lexer": "ipython3",
   "version": "3.9.7"
  },
  "toc": {
   "base_numbering": 1,
   "nav_menu": {},
   "number_sections": false,
   "sideBar": true,
   "skip_h1_title": true,
   "title_cell": "Table of Contents",
   "title_sidebar": "Contents",
   "toc_cell": false,
   "toc_position": {
    "height": "calc(100% - 180px)",
    "left": "10px",
    "top": "150px",
    "width": "270.391px"
   },
   "toc_section_display": true,
   "toc_window_display": true
  }
 },
 "nbformat": 4,
 "nbformat_minor": 2
}
